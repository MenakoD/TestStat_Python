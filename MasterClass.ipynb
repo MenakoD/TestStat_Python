{
  "nbformat": 4,
  "nbformat_minor": 0,
  "metadata": {
    "colab": {
      "provenance": [],
      "authorship_tag": "ABX9TyPHUepp9lxXATXtT8A8+1od",
      "include_colab_link": true
    },
    "kernelspec": {
      "name": "python3",
      "display_name": "Python 3"
    },
    "language_info": {
      "name": "python"
    }
  },
  "cells": [
    {
      "cell_type": "markdown",
      "metadata": {
        "id": "view-in-github",
        "colab_type": "text"
      },
      "source": [
        "<a href=\"https://colab.research.google.com/github/MenakoD/TestStat_Python/blob/main/MasterClass.ipynb\" target=\"_parent\"><img src=\"https://colab.research.google.com/assets/colab-badge.svg\" alt=\"Open In Colab\"/></a>"
      ]
    },
    {
      "cell_type": "code",
      "execution_count": 1,
      "metadata": {
        "id": "2PjQA0dU214v"
      },
      "outputs": [],
      "source": [
        "# Package pour l'importation des données\n",
        "import pandas as pd\n"
      ]
    },
    {
      "cell_type": "code",
      "source": [
        "# Importer la base de données\n",
        "df = pd.read_csv(\"/content/sample_data/Base_Churn.csv\", sep=\";\", decimal=\",\")\n",
        "df.head()"
      ],
      "metadata": {
        "colab": {
          "base_uri": "https://localhost:8080/",
          "height": 226
        },
        "id": "4EY9SP6O50PM",
        "outputId": "4c22236c-6817-4ac2-cff6-3aa7d4219c42"
      },
      "execution_count": 2,
      "outputs": [
        {
          "output_type": "execute_result",
          "data": {
            "text/plain": [
              "   ID  Call__Failure  Plaintes  Subscription__Length  Charge__Amount  \\\n",
              "0   1              8         0                    38               0   \n",
              "1   2              0         0                    39               0   \n",
              "2   3             10         0                    37               0   \n",
              "3   4             10         0                    38               0   \n",
              "4   5              3         0                    38               0   \n",
              "\n",
              "   Secondes_Utilisation  Frequence_Utilisation  Frequence_SMS  \\\n",
              "0                  4370                     71              5   \n",
              "1                   318                      5              7   \n",
              "2                  2453                     60            359   \n",
              "3                  4198                     66              1   \n",
              "4                  2393                     58              2   \n",
              "\n",
              "   Numeros_Appeles_Distincts  Groupe_Age  Plan_Tarifaire  Statut  Age  \\\n",
              "0                         17           3               1       1   30   \n",
              "1                          4           2               1       2   25   \n",
              "2                         24           3               1       1   30   \n",
              "3                         35           1               1       1   15   \n",
              "4                         33           1               1       1   15   \n",
              "\n",
              "   Valeur_Client  Churn  \n",
              "0        197.640      0  \n",
              "1         46.035      0  \n",
              "2       1536.520      0  \n",
              "3        240.020      0  \n",
              "4        145.805      0  "
            ],
            "text/html": [
              "\n",
              "  <div id=\"df-0f7df571-fd77-455f-8ebd-672f2dd75af3\" class=\"colab-df-container\">\n",
              "    <div>\n",
              "<style scoped>\n",
              "    .dataframe tbody tr th:only-of-type {\n",
              "        vertical-align: middle;\n",
              "    }\n",
              "\n",
              "    .dataframe tbody tr th {\n",
              "        vertical-align: top;\n",
              "    }\n",
              "\n",
              "    .dataframe thead th {\n",
              "        text-align: right;\n",
              "    }\n",
              "</style>\n",
              "<table border=\"1\" class=\"dataframe\">\n",
              "  <thead>\n",
              "    <tr style=\"text-align: right;\">\n",
              "      <th></th>\n",
              "      <th>ID</th>\n",
              "      <th>Call__Failure</th>\n",
              "      <th>Plaintes</th>\n",
              "      <th>Subscription__Length</th>\n",
              "      <th>Charge__Amount</th>\n",
              "      <th>Secondes_Utilisation</th>\n",
              "      <th>Frequence_Utilisation</th>\n",
              "      <th>Frequence_SMS</th>\n",
              "      <th>Numeros_Appeles_Distincts</th>\n",
              "      <th>Groupe_Age</th>\n",
              "      <th>Plan_Tarifaire</th>\n",
              "      <th>Statut</th>\n",
              "      <th>Age</th>\n",
              "      <th>Valeur_Client</th>\n",
              "      <th>Churn</th>\n",
              "    </tr>\n",
              "  </thead>\n",
              "  <tbody>\n",
              "    <tr>\n",
              "      <th>0</th>\n",
              "      <td>1</td>\n",
              "      <td>8</td>\n",
              "      <td>0</td>\n",
              "      <td>38</td>\n",
              "      <td>0</td>\n",
              "      <td>4370</td>\n",
              "      <td>71</td>\n",
              "      <td>5</td>\n",
              "      <td>17</td>\n",
              "      <td>3</td>\n",
              "      <td>1</td>\n",
              "      <td>1</td>\n",
              "      <td>30</td>\n",
              "      <td>197.640</td>\n",
              "      <td>0</td>\n",
              "    </tr>\n",
              "    <tr>\n",
              "      <th>1</th>\n",
              "      <td>2</td>\n",
              "      <td>0</td>\n",
              "      <td>0</td>\n",
              "      <td>39</td>\n",
              "      <td>0</td>\n",
              "      <td>318</td>\n",
              "      <td>5</td>\n",
              "      <td>7</td>\n",
              "      <td>4</td>\n",
              "      <td>2</td>\n",
              "      <td>1</td>\n",
              "      <td>2</td>\n",
              "      <td>25</td>\n",
              "      <td>46.035</td>\n",
              "      <td>0</td>\n",
              "    </tr>\n",
              "    <tr>\n",
              "      <th>2</th>\n",
              "      <td>3</td>\n",
              "      <td>10</td>\n",
              "      <td>0</td>\n",
              "      <td>37</td>\n",
              "      <td>0</td>\n",
              "      <td>2453</td>\n",
              "      <td>60</td>\n",
              "      <td>359</td>\n",
              "      <td>24</td>\n",
              "      <td>3</td>\n",
              "      <td>1</td>\n",
              "      <td>1</td>\n",
              "      <td>30</td>\n",
              "      <td>1536.520</td>\n",
              "      <td>0</td>\n",
              "    </tr>\n",
              "    <tr>\n",
              "      <th>3</th>\n",
              "      <td>4</td>\n",
              "      <td>10</td>\n",
              "      <td>0</td>\n",
              "      <td>38</td>\n",
              "      <td>0</td>\n",
              "      <td>4198</td>\n",
              "      <td>66</td>\n",
              "      <td>1</td>\n",
              "      <td>35</td>\n",
              "      <td>1</td>\n",
              "      <td>1</td>\n",
              "      <td>1</td>\n",
              "      <td>15</td>\n",
              "      <td>240.020</td>\n",
              "      <td>0</td>\n",
              "    </tr>\n",
              "    <tr>\n",
              "      <th>4</th>\n",
              "      <td>5</td>\n",
              "      <td>3</td>\n",
              "      <td>0</td>\n",
              "      <td>38</td>\n",
              "      <td>0</td>\n",
              "      <td>2393</td>\n",
              "      <td>58</td>\n",
              "      <td>2</td>\n",
              "      <td>33</td>\n",
              "      <td>1</td>\n",
              "      <td>1</td>\n",
              "      <td>1</td>\n",
              "      <td>15</td>\n",
              "      <td>145.805</td>\n",
              "      <td>0</td>\n",
              "    </tr>\n",
              "  </tbody>\n",
              "</table>\n",
              "</div>\n",
              "    <div class=\"colab-df-buttons\">\n",
              "\n",
              "  <div class=\"colab-df-container\">\n",
              "    <button class=\"colab-df-convert\" onclick=\"convertToInteractive('df-0f7df571-fd77-455f-8ebd-672f2dd75af3')\"\n",
              "            title=\"Convert this dataframe to an interactive table.\"\n",
              "            style=\"display:none;\">\n",
              "\n",
              "  <svg xmlns=\"http://www.w3.org/2000/svg\" height=\"24px\" viewBox=\"0 -960 960 960\">\n",
              "    <path d=\"M120-120v-720h720v720H120Zm60-500h600v-160H180v160Zm220 220h160v-160H400v160Zm0 220h160v-160H400v160ZM180-400h160v-160H180v160Zm440 0h160v-160H620v160ZM180-180h160v-160H180v160Zm440 0h160v-160H620v160Z\"/>\n",
              "  </svg>\n",
              "    </button>\n",
              "\n",
              "  <style>\n",
              "    .colab-df-container {\n",
              "      display:flex;\n",
              "      gap: 12px;\n",
              "    }\n",
              "\n",
              "    .colab-df-convert {\n",
              "      background-color: #E8F0FE;\n",
              "      border: none;\n",
              "      border-radius: 50%;\n",
              "      cursor: pointer;\n",
              "      display: none;\n",
              "      fill: #1967D2;\n",
              "      height: 32px;\n",
              "      padding: 0 0 0 0;\n",
              "      width: 32px;\n",
              "    }\n",
              "\n",
              "    .colab-df-convert:hover {\n",
              "      background-color: #E2EBFA;\n",
              "      box-shadow: 0px 1px 2px rgba(60, 64, 67, 0.3), 0px 1px 3px 1px rgba(60, 64, 67, 0.15);\n",
              "      fill: #174EA6;\n",
              "    }\n",
              "\n",
              "    .colab-df-buttons div {\n",
              "      margin-bottom: 4px;\n",
              "    }\n",
              "\n",
              "    [theme=dark] .colab-df-convert {\n",
              "      background-color: #3B4455;\n",
              "      fill: #D2E3FC;\n",
              "    }\n",
              "\n",
              "    [theme=dark] .colab-df-convert:hover {\n",
              "      background-color: #434B5C;\n",
              "      box-shadow: 0px 1px 3px 1px rgba(0, 0, 0, 0.15);\n",
              "      filter: drop-shadow(0px 1px 2px rgba(0, 0, 0, 0.3));\n",
              "      fill: #FFFFFF;\n",
              "    }\n",
              "  </style>\n",
              "\n",
              "    <script>\n",
              "      const buttonEl =\n",
              "        document.querySelector('#df-0f7df571-fd77-455f-8ebd-672f2dd75af3 button.colab-df-convert');\n",
              "      buttonEl.style.display =\n",
              "        google.colab.kernel.accessAllowed ? 'block' : 'none';\n",
              "\n",
              "      async function convertToInteractive(key) {\n",
              "        const element = document.querySelector('#df-0f7df571-fd77-455f-8ebd-672f2dd75af3');\n",
              "        const dataTable =\n",
              "          await google.colab.kernel.invokeFunction('convertToInteractive',\n",
              "                                                    [key], {});\n",
              "        if (!dataTable) return;\n",
              "\n",
              "        const docLinkHtml = 'Like what you see? Visit the ' +\n",
              "          '<a target=\"_blank\" href=https://colab.research.google.com/notebooks/data_table.ipynb>data table notebook</a>'\n",
              "          + ' to learn more about interactive tables.';\n",
              "        element.innerHTML = '';\n",
              "        dataTable['output_type'] = 'display_data';\n",
              "        await google.colab.output.renderOutput(dataTable, element);\n",
              "        const docLink = document.createElement('div');\n",
              "        docLink.innerHTML = docLinkHtml;\n",
              "        element.appendChild(docLink);\n",
              "      }\n",
              "    </script>\n",
              "  </div>\n",
              "\n",
              "\n",
              "<div id=\"df-af4e8b70-724b-46cc-8dc3-e0838cefe125\">\n",
              "  <button class=\"colab-df-quickchart\" onclick=\"quickchart('df-af4e8b70-724b-46cc-8dc3-e0838cefe125')\"\n",
              "            title=\"Suggest charts\"\n",
              "            style=\"display:none;\">\n",
              "\n",
              "<svg xmlns=\"http://www.w3.org/2000/svg\" height=\"24px\"viewBox=\"0 0 24 24\"\n",
              "     width=\"24px\">\n",
              "    <g>\n",
              "        <path d=\"M19 3H5c-1.1 0-2 .9-2 2v14c0 1.1.9 2 2 2h14c1.1 0 2-.9 2-2V5c0-1.1-.9-2-2-2zM9 17H7v-7h2v7zm4 0h-2V7h2v10zm4 0h-2v-4h2v4z\"/>\n",
              "    </g>\n",
              "</svg>\n",
              "  </button>\n",
              "\n",
              "<style>\n",
              "  .colab-df-quickchart {\n",
              "      --bg-color: #E8F0FE;\n",
              "      --fill-color: #1967D2;\n",
              "      --hover-bg-color: #E2EBFA;\n",
              "      --hover-fill-color: #174EA6;\n",
              "      --disabled-fill-color: #AAA;\n",
              "      --disabled-bg-color: #DDD;\n",
              "  }\n",
              "\n",
              "  [theme=dark] .colab-df-quickchart {\n",
              "      --bg-color: #3B4455;\n",
              "      --fill-color: #D2E3FC;\n",
              "      --hover-bg-color: #434B5C;\n",
              "      --hover-fill-color: #FFFFFF;\n",
              "      --disabled-bg-color: #3B4455;\n",
              "      --disabled-fill-color: #666;\n",
              "  }\n",
              "\n",
              "  .colab-df-quickchart {\n",
              "    background-color: var(--bg-color);\n",
              "    border: none;\n",
              "    border-radius: 50%;\n",
              "    cursor: pointer;\n",
              "    display: none;\n",
              "    fill: var(--fill-color);\n",
              "    height: 32px;\n",
              "    padding: 0;\n",
              "    width: 32px;\n",
              "  }\n",
              "\n",
              "  .colab-df-quickchart:hover {\n",
              "    background-color: var(--hover-bg-color);\n",
              "    box-shadow: 0 1px 2px rgba(60, 64, 67, 0.3), 0 1px 3px 1px rgba(60, 64, 67, 0.15);\n",
              "    fill: var(--button-hover-fill-color);\n",
              "  }\n",
              "\n",
              "  .colab-df-quickchart-complete:disabled,\n",
              "  .colab-df-quickchart-complete:disabled:hover {\n",
              "    background-color: var(--disabled-bg-color);\n",
              "    fill: var(--disabled-fill-color);\n",
              "    box-shadow: none;\n",
              "  }\n",
              "\n",
              "  .colab-df-spinner {\n",
              "    border: 2px solid var(--fill-color);\n",
              "    border-color: transparent;\n",
              "    border-bottom-color: var(--fill-color);\n",
              "    animation:\n",
              "      spin 1s steps(1) infinite;\n",
              "  }\n",
              "\n",
              "  @keyframes spin {\n",
              "    0% {\n",
              "      border-color: transparent;\n",
              "      border-bottom-color: var(--fill-color);\n",
              "      border-left-color: var(--fill-color);\n",
              "    }\n",
              "    20% {\n",
              "      border-color: transparent;\n",
              "      border-left-color: var(--fill-color);\n",
              "      border-top-color: var(--fill-color);\n",
              "    }\n",
              "    30% {\n",
              "      border-color: transparent;\n",
              "      border-left-color: var(--fill-color);\n",
              "      border-top-color: var(--fill-color);\n",
              "      border-right-color: var(--fill-color);\n",
              "    }\n",
              "    40% {\n",
              "      border-color: transparent;\n",
              "      border-right-color: var(--fill-color);\n",
              "      border-top-color: var(--fill-color);\n",
              "    }\n",
              "    60% {\n",
              "      border-color: transparent;\n",
              "      border-right-color: var(--fill-color);\n",
              "    }\n",
              "    80% {\n",
              "      border-color: transparent;\n",
              "      border-right-color: var(--fill-color);\n",
              "      border-bottom-color: var(--fill-color);\n",
              "    }\n",
              "    90% {\n",
              "      border-color: transparent;\n",
              "      border-bottom-color: var(--fill-color);\n",
              "    }\n",
              "  }\n",
              "</style>\n",
              "\n",
              "  <script>\n",
              "    async function quickchart(key) {\n",
              "      const quickchartButtonEl =\n",
              "        document.querySelector('#' + key + ' button');\n",
              "      quickchartButtonEl.disabled = true;  // To prevent multiple clicks.\n",
              "      quickchartButtonEl.classList.add('colab-df-spinner');\n",
              "      try {\n",
              "        const charts = await google.colab.kernel.invokeFunction(\n",
              "            'suggestCharts', [key], {});\n",
              "      } catch (error) {\n",
              "        console.error('Error during call to suggestCharts:', error);\n",
              "      }\n",
              "      quickchartButtonEl.classList.remove('colab-df-spinner');\n",
              "      quickchartButtonEl.classList.add('colab-df-quickchart-complete');\n",
              "    }\n",
              "    (() => {\n",
              "      let quickchartButtonEl =\n",
              "        document.querySelector('#df-af4e8b70-724b-46cc-8dc3-e0838cefe125 button');\n",
              "      quickchartButtonEl.style.display =\n",
              "        google.colab.kernel.accessAllowed ? 'block' : 'none';\n",
              "    })();\n",
              "  </script>\n",
              "</div>\n",
              "    </div>\n",
              "  </div>\n"
            ],
            "application/vnd.google.colaboratory.intrinsic+json": {
              "type": "dataframe",
              "variable_name": "df",
              "summary": "{\n  \"name\": \"df\",\n  \"rows\": 3150,\n  \"fields\": [\n    {\n      \"column\": \"ID\",\n      \"properties\": {\n        \"dtype\": \"number\",\n        \"std\": 909,\n        \"min\": 1,\n        \"max\": 3150,\n        \"num_unique_values\": 3150,\n        \"samples\": [\n          2966,\n          970,\n          1386\n        ],\n        \"semantic_type\": \"\",\n        \"description\": \"\"\n      }\n    },\n    {\n      \"column\": \"Call__Failure\",\n      \"properties\": {\n        \"dtype\": \"number\",\n        \"std\": 7,\n        \"min\": 0,\n        \"max\": 36,\n        \"num_unique_values\": 37,\n        \"samples\": [\n          14,\n          21,\n          11\n        ],\n        \"semantic_type\": \"\",\n        \"description\": \"\"\n      }\n    },\n    {\n      \"column\": \"Plaintes\",\n      \"properties\": {\n        \"dtype\": \"number\",\n        \"std\": 0,\n        \"min\": 0,\n        \"max\": 1,\n        \"num_unique_values\": 2,\n        \"samples\": [\n          1,\n          0\n        ],\n        \"semantic_type\": \"\",\n        \"description\": \"\"\n      }\n    },\n    {\n      \"column\": \"Subscription__Length\",\n      \"properties\": {\n        \"dtype\": \"number\",\n        \"std\": 8,\n        \"min\": 3,\n        \"max\": 47,\n        \"num_unique_values\": 45,\n        \"samples\": [\n          3,\n          23\n        ],\n        \"semantic_type\": \"\",\n        \"description\": \"\"\n      }\n    },\n    {\n      \"column\": \"Charge__Amount\",\n      \"properties\": {\n        \"dtype\": \"number\",\n        \"std\": 1,\n        \"min\": 0,\n        \"max\": 10,\n        \"num_unique_values\": 11,\n        \"samples\": [\n          4,\n          0\n        ],\n        \"semantic_type\": \"\",\n        \"description\": \"\"\n      }\n    },\n    {\n      \"column\": \"Secondes_Utilisation\",\n      \"properties\": {\n        \"dtype\": \"number\",\n        \"std\": 4197,\n        \"min\": 0,\n        \"max\": 17090,\n        \"num_unique_values\": 1756,\n        \"samples\": [\n          2633,\n          5115\n        ],\n        \"semantic_type\": \"\",\n        \"description\": \"\"\n      }\n    },\n    {\n      \"column\": \"Frequence_Utilisation\",\n      \"properties\": {\n        \"dtype\": \"number\",\n        \"std\": 57,\n        \"min\": 0,\n        \"max\": 255,\n        \"num_unique_values\": 242,\n        \"samples\": [\n          22,\n          39\n        ],\n        \"semantic_type\": \"\",\n        \"description\": \"\"\n      }\n    },\n    {\n      \"column\": \"Frequence_SMS\",\n      \"properties\": {\n        \"dtype\": \"number\",\n        \"std\": 112,\n        \"min\": 0,\n        \"max\": 522,\n        \"num_unique_values\": 405,\n        \"samples\": [\n          145,\n          195\n        ],\n        \"semantic_type\": \"\",\n        \"description\": \"\"\n      }\n    },\n    {\n      \"column\": \"Numeros_Appeles_Distincts\",\n      \"properties\": {\n        \"dtype\": \"number\",\n        \"std\": 17,\n        \"min\": 0,\n        \"max\": 97,\n        \"num_unique_values\": 92,\n        \"samples\": [\n          49,\n          31\n        ],\n        \"semantic_type\": \"\",\n        \"description\": \"\"\n      }\n    },\n    {\n      \"column\": \"Groupe_Age\",\n      \"properties\": {\n        \"dtype\": \"number\",\n        \"std\": 0,\n        \"min\": 1,\n        \"max\": 5,\n        \"num_unique_values\": 5,\n        \"samples\": [\n          2,\n          5\n        ],\n        \"semantic_type\": \"\",\n        \"description\": \"\"\n      }\n    },\n    {\n      \"column\": \"Plan_Tarifaire\",\n      \"properties\": {\n        \"dtype\": \"number\",\n        \"std\": 0,\n        \"min\": 1,\n        \"max\": 2,\n        \"num_unique_values\": 2,\n        \"samples\": [\n          2,\n          1\n        ],\n        \"semantic_type\": \"\",\n        \"description\": \"\"\n      }\n    },\n    {\n      \"column\": \"Statut\",\n      \"properties\": {\n        \"dtype\": \"number\",\n        \"std\": 0,\n        \"min\": 1,\n        \"max\": 2,\n        \"num_unique_values\": 2,\n        \"samples\": [\n          2,\n          1\n        ],\n        \"semantic_type\": \"\",\n        \"description\": \"\"\n      }\n    },\n    {\n      \"column\": \"Age\",\n      \"properties\": {\n        \"dtype\": \"number\",\n        \"std\": 8,\n        \"min\": 15,\n        \"max\": 55,\n        \"num_unique_values\": 5,\n        \"samples\": [\n          25,\n          55\n        ],\n        \"semantic_type\": \"\",\n        \"description\": \"\"\n      }\n    },\n    {\n      \"column\": \"Valeur_Client\",\n      \"properties\": {\n        \"dtype\": \"number\",\n        \"std\": 517.0154327987643,\n        \"min\": 0.0,\n        \"max\": 2165.28,\n        \"num_unique_values\": 2654,\n        \"samples\": [\n          451.665,\n          111.96\n        ],\n        \"semantic_type\": \"\",\n        \"description\": \"\"\n      }\n    },\n    {\n      \"column\": \"Churn\",\n      \"properties\": {\n        \"dtype\": \"number\",\n        \"std\": 0,\n        \"min\": 0,\n        \"max\": 1,\n        \"num_unique_values\": 2,\n        \"samples\": [\n          1,\n          0\n        ],\n        \"semantic_type\": \"\",\n        \"description\": \"\"\n      }\n    }\n  ]\n}"
            }
          },
          "metadata": {},
          "execution_count": 2
        }
      ]
    },
    {
      "cell_type": "code",
      "source": [
        "# Analyser des 1eres lignes de la base\n",
        "df.head()"
      ],
      "metadata": {
        "colab": {
          "base_uri": "https://localhost:8080/",
          "height": 226
        },
        "id": "ouwnw1uH9cOr",
        "outputId": "c1cabf25-05e6-442d-e180-06e5285ad2e5"
      },
      "execution_count": 3,
      "outputs": [
        {
          "output_type": "execute_result",
          "data": {
            "text/plain": [
              "   ID  Call__Failure  Plaintes  Subscription__Length  Charge__Amount  \\\n",
              "0   1              8         0                    38               0   \n",
              "1   2              0         0                    39               0   \n",
              "2   3             10         0                    37               0   \n",
              "3   4             10         0                    38               0   \n",
              "4   5              3         0                    38               0   \n",
              "\n",
              "   Secondes_Utilisation  Frequence_Utilisation  Frequence_SMS  \\\n",
              "0                  4370                     71              5   \n",
              "1                   318                      5              7   \n",
              "2                  2453                     60            359   \n",
              "3                  4198                     66              1   \n",
              "4                  2393                     58              2   \n",
              "\n",
              "   Numeros_Appeles_Distincts  Groupe_Age  Plan_Tarifaire  Statut  Age  \\\n",
              "0                         17           3               1       1   30   \n",
              "1                          4           2               1       2   25   \n",
              "2                         24           3               1       1   30   \n",
              "3                         35           1               1       1   15   \n",
              "4                         33           1               1       1   15   \n",
              "\n",
              "   Valeur_Client  Churn  \n",
              "0        197.640      0  \n",
              "1         46.035      0  \n",
              "2       1536.520      0  \n",
              "3        240.020      0  \n",
              "4        145.805      0  "
            ],
            "text/html": [
              "\n",
              "  <div id=\"df-11de100d-4c37-49d0-a0ff-7ab03945935b\" class=\"colab-df-container\">\n",
              "    <div>\n",
              "<style scoped>\n",
              "    .dataframe tbody tr th:only-of-type {\n",
              "        vertical-align: middle;\n",
              "    }\n",
              "\n",
              "    .dataframe tbody tr th {\n",
              "        vertical-align: top;\n",
              "    }\n",
              "\n",
              "    .dataframe thead th {\n",
              "        text-align: right;\n",
              "    }\n",
              "</style>\n",
              "<table border=\"1\" class=\"dataframe\">\n",
              "  <thead>\n",
              "    <tr style=\"text-align: right;\">\n",
              "      <th></th>\n",
              "      <th>ID</th>\n",
              "      <th>Call__Failure</th>\n",
              "      <th>Plaintes</th>\n",
              "      <th>Subscription__Length</th>\n",
              "      <th>Charge__Amount</th>\n",
              "      <th>Secondes_Utilisation</th>\n",
              "      <th>Frequence_Utilisation</th>\n",
              "      <th>Frequence_SMS</th>\n",
              "      <th>Numeros_Appeles_Distincts</th>\n",
              "      <th>Groupe_Age</th>\n",
              "      <th>Plan_Tarifaire</th>\n",
              "      <th>Statut</th>\n",
              "      <th>Age</th>\n",
              "      <th>Valeur_Client</th>\n",
              "      <th>Churn</th>\n",
              "    </tr>\n",
              "  </thead>\n",
              "  <tbody>\n",
              "    <tr>\n",
              "      <th>0</th>\n",
              "      <td>1</td>\n",
              "      <td>8</td>\n",
              "      <td>0</td>\n",
              "      <td>38</td>\n",
              "      <td>0</td>\n",
              "      <td>4370</td>\n",
              "      <td>71</td>\n",
              "      <td>5</td>\n",
              "      <td>17</td>\n",
              "      <td>3</td>\n",
              "      <td>1</td>\n",
              "      <td>1</td>\n",
              "      <td>30</td>\n",
              "      <td>197.640</td>\n",
              "      <td>0</td>\n",
              "    </tr>\n",
              "    <tr>\n",
              "      <th>1</th>\n",
              "      <td>2</td>\n",
              "      <td>0</td>\n",
              "      <td>0</td>\n",
              "      <td>39</td>\n",
              "      <td>0</td>\n",
              "      <td>318</td>\n",
              "      <td>5</td>\n",
              "      <td>7</td>\n",
              "      <td>4</td>\n",
              "      <td>2</td>\n",
              "      <td>1</td>\n",
              "      <td>2</td>\n",
              "      <td>25</td>\n",
              "      <td>46.035</td>\n",
              "      <td>0</td>\n",
              "    </tr>\n",
              "    <tr>\n",
              "      <th>2</th>\n",
              "      <td>3</td>\n",
              "      <td>10</td>\n",
              "      <td>0</td>\n",
              "      <td>37</td>\n",
              "      <td>0</td>\n",
              "      <td>2453</td>\n",
              "      <td>60</td>\n",
              "      <td>359</td>\n",
              "      <td>24</td>\n",
              "      <td>3</td>\n",
              "      <td>1</td>\n",
              "      <td>1</td>\n",
              "      <td>30</td>\n",
              "      <td>1536.520</td>\n",
              "      <td>0</td>\n",
              "    </tr>\n",
              "    <tr>\n",
              "      <th>3</th>\n",
              "      <td>4</td>\n",
              "      <td>10</td>\n",
              "      <td>0</td>\n",
              "      <td>38</td>\n",
              "      <td>0</td>\n",
              "      <td>4198</td>\n",
              "      <td>66</td>\n",
              "      <td>1</td>\n",
              "      <td>35</td>\n",
              "      <td>1</td>\n",
              "      <td>1</td>\n",
              "      <td>1</td>\n",
              "      <td>15</td>\n",
              "      <td>240.020</td>\n",
              "      <td>0</td>\n",
              "    </tr>\n",
              "    <tr>\n",
              "      <th>4</th>\n",
              "      <td>5</td>\n",
              "      <td>3</td>\n",
              "      <td>0</td>\n",
              "      <td>38</td>\n",
              "      <td>0</td>\n",
              "      <td>2393</td>\n",
              "      <td>58</td>\n",
              "      <td>2</td>\n",
              "      <td>33</td>\n",
              "      <td>1</td>\n",
              "      <td>1</td>\n",
              "      <td>1</td>\n",
              "      <td>15</td>\n",
              "      <td>145.805</td>\n",
              "      <td>0</td>\n",
              "    </tr>\n",
              "  </tbody>\n",
              "</table>\n",
              "</div>\n",
              "    <div class=\"colab-df-buttons\">\n",
              "\n",
              "  <div class=\"colab-df-container\">\n",
              "    <button class=\"colab-df-convert\" onclick=\"convertToInteractive('df-11de100d-4c37-49d0-a0ff-7ab03945935b')\"\n",
              "            title=\"Convert this dataframe to an interactive table.\"\n",
              "            style=\"display:none;\">\n",
              "\n",
              "  <svg xmlns=\"http://www.w3.org/2000/svg\" height=\"24px\" viewBox=\"0 -960 960 960\">\n",
              "    <path d=\"M120-120v-720h720v720H120Zm60-500h600v-160H180v160Zm220 220h160v-160H400v160Zm0 220h160v-160H400v160ZM180-400h160v-160H180v160Zm440 0h160v-160H620v160ZM180-180h160v-160H180v160Zm440 0h160v-160H620v160Z\"/>\n",
              "  </svg>\n",
              "    </button>\n",
              "\n",
              "  <style>\n",
              "    .colab-df-container {\n",
              "      display:flex;\n",
              "      gap: 12px;\n",
              "    }\n",
              "\n",
              "    .colab-df-convert {\n",
              "      background-color: #E8F0FE;\n",
              "      border: none;\n",
              "      border-radius: 50%;\n",
              "      cursor: pointer;\n",
              "      display: none;\n",
              "      fill: #1967D2;\n",
              "      height: 32px;\n",
              "      padding: 0 0 0 0;\n",
              "      width: 32px;\n",
              "    }\n",
              "\n",
              "    .colab-df-convert:hover {\n",
              "      background-color: #E2EBFA;\n",
              "      box-shadow: 0px 1px 2px rgba(60, 64, 67, 0.3), 0px 1px 3px 1px rgba(60, 64, 67, 0.15);\n",
              "      fill: #174EA6;\n",
              "    }\n",
              "\n",
              "    .colab-df-buttons div {\n",
              "      margin-bottom: 4px;\n",
              "    }\n",
              "\n",
              "    [theme=dark] .colab-df-convert {\n",
              "      background-color: #3B4455;\n",
              "      fill: #D2E3FC;\n",
              "    }\n",
              "\n",
              "    [theme=dark] .colab-df-convert:hover {\n",
              "      background-color: #434B5C;\n",
              "      box-shadow: 0px 1px 3px 1px rgba(0, 0, 0, 0.15);\n",
              "      filter: drop-shadow(0px 1px 2px rgba(0, 0, 0, 0.3));\n",
              "      fill: #FFFFFF;\n",
              "    }\n",
              "  </style>\n",
              "\n",
              "    <script>\n",
              "      const buttonEl =\n",
              "        document.querySelector('#df-11de100d-4c37-49d0-a0ff-7ab03945935b button.colab-df-convert');\n",
              "      buttonEl.style.display =\n",
              "        google.colab.kernel.accessAllowed ? 'block' : 'none';\n",
              "\n",
              "      async function convertToInteractive(key) {\n",
              "        const element = document.querySelector('#df-11de100d-4c37-49d0-a0ff-7ab03945935b');\n",
              "        const dataTable =\n",
              "          await google.colab.kernel.invokeFunction('convertToInteractive',\n",
              "                                                    [key], {});\n",
              "        if (!dataTable) return;\n",
              "\n",
              "        const docLinkHtml = 'Like what you see? Visit the ' +\n",
              "          '<a target=\"_blank\" href=https://colab.research.google.com/notebooks/data_table.ipynb>data table notebook</a>'\n",
              "          + ' to learn more about interactive tables.';\n",
              "        element.innerHTML = '';\n",
              "        dataTable['output_type'] = 'display_data';\n",
              "        await google.colab.output.renderOutput(dataTable, element);\n",
              "        const docLink = document.createElement('div');\n",
              "        docLink.innerHTML = docLinkHtml;\n",
              "        element.appendChild(docLink);\n",
              "      }\n",
              "    </script>\n",
              "  </div>\n",
              "\n",
              "\n",
              "<div id=\"df-2f2d4ccb-9a26-4d26-97c2-b650b443c6e7\">\n",
              "  <button class=\"colab-df-quickchart\" onclick=\"quickchart('df-2f2d4ccb-9a26-4d26-97c2-b650b443c6e7')\"\n",
              "            title=\"Suggest charts\"\n",
              "            style=\"display:none;\">\n",
              "\n",
              "<svg xmlns=\"http://www.w3.org/2000/svg\" height=\"24px\"viewBox=\"0 0 24 24\"\n",
              "     width=\"24px\">\n",
              "    <g>\n",
              "        <path d=\"M19 3H5c-1.1 0-2 .9-2 2v14c0 1.1.9 2 2 2h14c1.1 0 2-.9 2-2V5c0-1.1-.9-2-2-2zM9 17H7v-7h2v7zm4 0h-2V7h2v10zm4 0h-2v-4h2v4z\"/>\n",
              "    </g>\n",
              "</svg>\n",
              "  </button>\n",
              "\n",
              "<style>\n",
              "  .colab-df-quickchart {\n",
              "      --bg-color: #E8F0FE;\n",
              "      --fill-color: #1967D2;\n",
              "      --hover-bg-color: #E2EBFA;\n",
              "      --hover-fill-color: #174EA6;\n",
              "      --disabled-fill-color: #AAA;\n",
              "      --disabled-bg-color: #DDD;\n",
              "  }\n",
              "\n",
              "  [theme=dark] .colab-df-quickchart {\n",
              "      --bg-color: #3B4455;\n",
              "      --fill-color: #D2E3FC;\n",
              "      --hover-bg-color: #434B5C;\n",
              "      --hover-fill-color: #FFFFFF;\n",
              "      --disabled-bg-color: #3B4455;\n",
              "      --disabled-fill-color: #666;\n",
              "  }\n",
              "\n",
              "  .colab-df-quickchart {\n",
              "    background-color: var(--bg-color);\n",
              "    border: none;\n",
              "    border-radius: 50%;\n",
              "    cursor: pointer;\n",
              "    display: none;\n",
              "    fill: var(--fill-color);\n",
              "    height: 32px;\n",
              "    padding: 0;\n",
              "    width: 32px;\n",
              "  }\n",
              "\n",
              "  .colab-df-quickchart:hover {\n",
              "    background-color: var(--hover-bg-color);\n",
              "    box-shadow: 0 1px 2px rgba(60, 64, 67, 0.3), 0 1px 3px 1px rgba(60, 64, 67, 0.15);\n",
              "    fill: var(--button-hover-fill-color);\n",
              "  }\n",
              "\n",
              "  .colab-df-quickchart-complete:disabled,\n",
              "  .colab-df-quickchart-complete:disabled:hover {\n",
              "    background-color: var(--disabled-bg-color);\n",
              "    fill: var(--disabled-fill-color);\n",
              "    box-shadow: none;\n",
              "  }\n",
              "\n",
              "  .colab-df-spinner {\n",
              "    border: 2px solid var(--fill-color);\n",
              "    border-color: transparent;\n",
              "    border-bottom-color: var(--fill-color);\n",
              "    animation:\n",
              "      spin 1s steps(1) infinite;\n",
              "  }\n",
              "\n",
              "  @keyframes spin {\n",
              "    0% {\n",
              "      border-color: transparent;\n",
              "      border-bottom-color: var(--fill-color);\n",
              "      border-left-color: var(--fill-color);\n",
              "    }\n",
              "    20% {\n",
              "      border-color: transparent;\n",
              "      border-left-color: var(--fill-color);\n",
              "      border-top-color: var(--fill-color);\n",
              "    }\n",
              "    30% {\n",
              "      border-color: transparent;\n",
              "      border-left-color: var(--fill-color);\n",
              "      border-top-color: var(--fill-color);\n",
              "      border-right-color: var(--fill-color);\n",
              "    }\n",
              "    40% {\n",
              "      border-color: transparent;\n",
              "      border-right-color: var(--fill-color);\n",
              "      border-top-color: var(--fill-color);\n",
              "    }\n",
              "    60% {\n",
              "      border-color: transparent;\n",
              "      border-right-color: var(--fill-color);\n",
              "    }\n",
              "    80% {\n",
              "      border-color: transparent;\n",
              "      border-right-color: var(--fill-color);\n",
              "      border-bottom-color: var(--fill-color);\n",
              "    }\n",
              "    90% {\n",
              "      border-color: transparent;\n",
              "      border-bottom-color: var(--fill-color);\n",
              "    }\n",
              "  }\n",
              "</style>\n",
              "\n",
              "  <script>\n",
              "    async function quickchart(key) {\n",
              "      const quickchartButtonEl =\n",
              "        document.querySelector('#' + key + ' button');\n",
              "      quickchartButtonEl.disabled = true;  // To prevent multiple clicks.\n",
              "      quickchartButtonEl.classList.add('colab-df-spinner');\n",
              "      try {\n",
              "        const charts = await google.colab.kernel.invokeFunction(\n",
              "            'suggestCharts', [key], {});\n",
              "      } catch (error) {\n",
              "        console.error('Error during call to suggestCharts:', error);\n",
              "      }\n",
              "      quickchartButtonEl.classList.remove('colab-df-spinner');\n",
              "      quickchartButtonEl.classList.add('colab-df-quickchart-complete');\n",
              "    }\n",
              "    (() => {\n",
              "      let quickchartButtonEl =\n",
              "        document.querySelector('#df-2f2d4ccb-9a26-4d26-97c2-b650b443c6e7 button');\n",
              "      quickchartButtonEl.style.display =\n",
              "        google.colab.kernel.accessAllowed ? 'block' : 'none';\n",
              "    })();\n",
              "  </script>\n",
              "</div>\n",
              "    </div>\n",
              "  </div>\n"
            ],
            "application/vnd.google.colaboratory.intrinsic+json": {
              "type": "dataframe",
              "variable_name": "df",
              "summary": "{\n  \"name\": \"df\",\n  \"rows\": 3150,\n  \"fields\": [\n    {\n      \"column\": \"ID\",\n      \"properties\": {\n        \"dtype\": \"number\",\n        \"std\": 909,\n        \"min\": 1,\n        \"max\": 3150,\n        \"num_unique_values\": 3150,\n        \"samples\": [\n          2966,\n          970,\n          1386\n        ],\n        \"semantic_type\": \"\",\n        \"description\": \"\"\n      }\n    },\n    {\n      \"column\": \"Call__Failure\",\n      \"properties\": {\n        \"dtype\": \"number\",\n        \"std\": 7,\n        \"min\": 0,\n        \"max\": 36,\n        \"num_unique_values\": 37,\n        \"samples\": [\n          14,\n          21,\n          11\n        ],\n        \"semantic_type\": \"\",\n        \"description\": \"\"\n      }\n    },\n    {\n      \"column\": \"Plaintes\",\n      \"properties\": {\n        \"dtype\": \"number\",\n        \"std\": 0,\n        \"min\": 0,\n        \"max\": 1,\n        \"num_unique_values\": 2,\n        \"samples\": [\n          1,\n          0\n        ],\n        \"semantic_type\": \"\",\n        \"description\": \"\"\n      }\n    },\n    {\n      \"column\": \"Subscription__Length\",\n      \"properties\": {\n        \"dtype\": \"number\",\n        \"std\": 8,\n        \"min\": 3,\n        \"max\": 47,\n        \"num_unique_values\": 45,\n        \"samples\": [\n          3,\n          23\n        ],\n        \"semantic_type\": \"\",\n        \"description\": \"\"\n      }\n    },\n    {\n      \"column\": \"Charge__Amount\",\n      \"properties\": {\n        \"dtype\": \"number\",\n        \"std\": 1,\n        \"min\": 0,\n        \"max\": 10,\n        \"num_unique_values\": 11,\n        \"samples\": [\n          4,\n          0\n        ],\n        \"semantic_type\": \"\",\n        \"description\": \"\"\n      }\n    },\n    {\n      \"column\": \"Secondes_Utilisation\",\n      \"properties\": {\n        \"dtype\": \"number\",\n        \"std\": 4197,\n        \"min\": 0,\n        \"max\": 17090,\n        \"num_unique_values\": 1756,\n        \"samples\": [\n          2633,\n          5115\n        ],\n        \"semantic_type\": \"\",\n        \"description\": \"\"\n      }\n    },\n    {\n      \"column\": \"Frequence_Utilisation\",\n      \"properties\": {\n        \"dtype\": \"number\",\n        \"std\": 57,\n        \"min\": 0,\n        \"max\": 255,\n        \"num_unique_values\": 242,\n        \"samples\": [\n          22,\n          39\n        ],\n        \"semantic_type\": \"\",\n        \"description\": \"\"\n      }\n    },\n    {\n      \"column\": \"Frequence_SMS\",\n      \"properties\": {\n        \"dtype\": \"number\",\n        \"std\": 112,\n        \"min\": 0,\n        \"max\": 522,\n        \"num_unique_values\": 405,\n        \"samples\": [\n          145,\n          195\n        ],\n        \"semantic_type\": \"\",\n        \"description\": \"\"\n      }\n    },\n    {\n      \"column\": \"Numeros_Appeles_Distincts\",\n      \"properties\": {\n        \"dtype\": \"number\",\n        \"std\": 17,\n        \"min\": 0,\n        \"max\": 97,\n        \"num_unique_values\": 92,\n        \"samples\": [\n          49,\n          31\n        ],\n        \"semantic_type\": \"\",\n        \"description\": \"\"\n      }\n    },\n    {\n      \"column\": \"Groupe_Age\",\n      \"properties\": {\n        \"dtype\": \"number\",\n        \"std\": 0,\n        \"min\": 1,\n        \"max\": 5,\n        \"num_unique_values\": 5,\n        \"samples\": [\n          2,\n          5\n        ],\n        \"semantic_type\": \"\",\n        \"description\": \"\"\n      }\n    },\n    {\n      \"column\": \"Plan_Tarifaire\",\n      \"properties\": {\n        \"dtype\": \"number\",\n        \"std\": 0,\n        \"min\": 1,\n        \"max\": 2,\n        \"num_unique_values\": 2,\n        \"samples\": [\n          2,\n          1\n        ],\n        \"semantic_type\": \"\",\n        \"description\": \"\"\n      }\n    },\n    {\n      \"column\": \"Statut\",\n      \"properties\": {\n        \"dtype\": \"number\",\n        \"std\": 0,\n        \"min\": 1,\n        \"max\": 2,\n        \"num_unique_values\": 2,\n        \"samples\": [\n          2,\n          1\n        ],\n        \"semantic_type\": \"\",\n        \"description\": \"\"\n      }\n    },\n    {\n      \"column\": \"Age\",\n      \"properties\": {\n        \"dtype\": \"number\",\n        \"std\": 8,\n        \"min\": 15,\n        \"max\": 55,\n        \"num_unique_values\": 5,\n        \"samples\": [\n          25,\n          55\n        ],\n        \"semantic_type\": \"\",\n        \"description\": \"\"\n      }\n    },\n    {\n      \"column\": \"Valeur_Client\",\n      \"properties\": {\n        \"dtype\": \"number\",\n        \"std\": 517.0154327987643,\n        \"min\": 0.0,\n        \"max\": 2165.28,\n        \"num_unique_values\": 2654,\n        \"samples\": [\n          451.665,\n          111.96\n        ],\n        \"semantic_type\": \"\",\n        \"description\": \"\"\n      }\n    },\n    {\n      \"column\": \"Churn\",\n      \"properties\": {\n        \"dtype\": \"number\",\n        \"std\": 0,\n        \"min\": 0,\n        \"max\": 1,\n        \"num_unique_values\": 2,\n        \"samples\": [\n          1,\n          0\n        ],\n        \"semantic_type\": \"\",\n        \"description\": \"\"\n      }\n    }\n  ]\n}"
            }
          },
          "metadata": {},
          "execution_count": 3
        }
      ]
    },
    {
      "cell_type": "code",
      "source": [
        "# Types de données\n",
        "# Valeur_client était Object, changé en Float en ajoutant decimal=\",\" à l'importation de la base des données\n",
        "df.dtypes"
      ],
      "metadata": {
        "colab": {
          "base_uri": "https://localhost:8080/"
        },
        "id": "mJdXlT519wtv",
        "outputId": "f8c46c2e-859a-4a12-b8a9-4aecdff720f7"
      },
      "execution_count": 4,
      "outputs": [
        {
          "output_type": "execute_result",
          "data": {
            "text/plain": [
              "ID                             int64\n",
              "Call__Failure                  int64\n",
              "Plaintes                       int64\n",
              "Subscription__Length           int64\n",
              "Charge__Amount                 int64\n",
              "Secondes_Utilisation           int64\n",
              "Frequence_Utilisation          int64\n",
              "Frequence_SMS                  int64\n",
              "Numeros_Appeles_Distincts      int64\n",
              "Groupe_Age                     int64\n",
              "Plan_Tarifaire                 int64\n",
              "Statut                         int64\n",
              "Age                            int64\n",
              "Valeur_Client                float64\n",
              "Churn                          int64\n",
              "dtype: object"
            ]
          },
          "metadata": {},
          "execution_count": 4
        }
      ]
    },
    {
      "cell_type": "code",
      "source": [
        "# Avant l'analyse des données transformer les données churn (variable qui dit si le client va partir à la concurrence)\n",
        "# et transformer les var quali (plaintes, Groupe d'age, statut, Plan tarifaire) de int en chaine de caract (Object)avec\n",
        "# la fonction astype de python\n",
        "df['Churn'] = df['Churn'].astype(\"object\")\n",
        "df.dtypes"
      ],
      "metadata": {
        "colab": {
          "base_uri": "https://localhost:8080/"
        },
        "id": "SQtlXQkk_Crq",
        "outputId": "af03fcbe-85bc-4efb-e827-7b2881fa3d03"
      },
      "execution_count": 5,
      "outputs": [
        {
          "output_type": "execute_result",
          "data": {
            "text/plain": [
              "ID                             int64\n",
              "Call__Failure                  int64\n",
              "Plaintes                       int64\n",
              "Subscription__Length           int64\n",
              "Charge__Amount                 int64\n",
              "Secondes_Utilisation           int64\n",
              "Frequence_Utilisation          int64\n",
              "Frequence_SMS                  int64\n",
              "Numeros_Appeles_Distincts      int64\n",
              "Groupe_Age                     int64\n",
              "Plan_Tarifaire                 int64\n",
              "Statut                         int64\n",
              "Age                            int64\n",
              "Valeur_Client                float64\n",
              "Churn                         object\n",
              "dtype: object"
            ]
          },
          "metadata": {},
          "execution_count": 5
        }
      ]
    },
    {
      "cell_type": "code",
      "source": [
        "# Transformer tranche d'age\n",
        "df['Groupe_Age'] = df['Groupe_Age'].astype(\"object\")\n",
        "\n",
        "# Transformer plainte\n",
        "df['Plaintes'] = df['Plaintes'].astype(\"object\")\n",
        "\n",
        "# Transformer Statut\n",
        "df['Statut'] = df['Statut'].astype(\"object\")\n",
        "\n",
        "# Transformer Plan_Tarifaire\n",
        "df['Plan_Tarifaire'] = df['Plan_Tarifaire'].astype(\"object\")\n",
        "\n",
        "df.dtypes"
      ],
      "metadata": {
        "colab": {
          "base_uri": "https://localhost:8080/"
        },
        "id": "o5tTgomCBnMO",
        "outputId": "2656616a-e4dd-49a2-e1fa-75004e26a501"
      },
      "execution_count": 6,
      "outputs": [
        {
          "output_type": "execute_result",
          "data": {
            "text/plain": [
              "ID                             int64\n",
              "Call__Failure                  int64\n",
              "Plaintes                      object\n",
              "Subscription__Length           int64\n",
              "Charge__Amount                 int64\n",
              "Secondes_Utilisation           int64\n",
              "Frequence_Utilisation          int64\n",
              "Frequence_SMS                  int64\n",
              "Numeros_Appeles_Distincts      int64\n",
              "Groupe_Age                    object\n",
              "Plan_Tarifaire                object\n",
              "Statut                        object\n",
              "Age                            int64\n",
              "Valeur_Client                float64\n",
              "Churn                         object\n",
              "dtype: object"
            ]
          },
          "metadata": {},
          "execution_count": 6
        }
      ]
    },
    {
      "cell_type": "markdown",
      "source": [
        "\n",
        "# Question 1\n",
        "# Y a-t-il un lien entre la frequence des SMS des clients et la valeur des clients (chiffre affaire)?\n",
        "\n",
        "Cette question introduit l'analyse de CORRELATION entre 2 var quanti\n",
        "\n",
        "\n"
      ],
      "metadata": {
        "id": "CsruCBjLDZp_"
      }
    },
    {
      "cell_type": "markdown",
      "source": [
        "I - ANALYSE DE LA *CORRELATION* ENTRE 2 VARIABLES QUANTITATIVES"
      ],
      "metadata": {
        "id": "mzUbw8baY4wm"
      }
    },
    {
      "cell_type": "markdown",
      "source": [
        "## Etape 1: NUAGE DE POINTS (Scatterplot)"
      ],
      "metadata": {
        "id": "5-FhOXQyNbyR"
      }
    },
    {
      "cell_type": "code",
      "source": [
        "# Etape 1: NUAGE DE POINTS (Scatterplot) entre les 2 variables\n",
        "\n",
        "# Graphiqe avec Matplotlib (y a lafonction scatterplot dans Matplotlib)\n",
        "import matplotlib.pyplot as plt\n",
        "plt.scatter(df['Frequence_SMS'], df['Valeur_Client'])\n",
        "\n",
        "# Personaliser le graphique après execution de plt.scatter\n",
        "plt.title(\"Evolution de la valeur client en fonction du nombre de SMS envoyé\")\n",
        "plt.xlabel(\"Frequence SMS\")\n",
        "plt.ylabel(\"Valeur Client\")\n"
      ],
      "metadata": {
        "colab": {
          "base_uri": "https://localhost:8080/",
          "height": 489
        },
        "id": "7mXz6PQzDFY9",
        "outputId": "8da16b22-f992-4ef2-89a9-0caa26c81292"
      },
      "execution_count": 7,
      "outputs": [
        {
          "output_type": "execute_result",
          "data": {
            "text/plain": [
              "Text(0, 0.5, 'Valeur Client')"
            ]
          },
          "metadata": {},
          "execution_count": 7
        },
        {
          "output_type": "display_data",
          "data": {
            "text/plain": [
              "<Figure size 640x480 with 1 Axes>"
            ],
            "image/png": "[encoded data removed]"
          },
          "metadata": {}
        }
      ]
    },
    {
      "cell_type": "code",
      "source": [
        "# Le même Graphique ci-dessus mais avec Seaborn\n",
        "import seaborn as sns\n",
        "sns.scatterplot(data= df, x= \"Frequence_SMS\", y = \"Valeur_Client\")"
      ],
      "metadata": {
        "colab": {
          "base_uri": "https://localhost:8080/",
          "height": 466
        },
        "id": "Noi-9EEiDGdh",
        "outputId": "fdac7e95-5c08-4127-8804-9fc136848154"
      },
      "execution_count": 8,
      "outputs": [
        {
          "output_type": "execute_result",
          "data": {
            "text/plain": [
              "<Axes: xlabel='Frequence_SMS', ylabel='Valeur_Client'>"
            ]
          },
          "metadata": {},
          "execution_count": 8
        },
        {
          "output_type": "display_data",
          "data": {
            "text/plain": [
              "<Figure size 640x480 with 1 Axes>"
            ],
            "image/png": "[encoded data removed]"
          },
          "metadata": {}
        }
      ]
    },
    {
      "cell_type": "code",
      "source": [
        "# en observant les graphiques on soupconne une relation (lineaire) c'est le visuel, il faut ci-dessous quantifier\n",
        "# cette relation avec une valeur numérique"
      ],
      "metadata": {
        "id": "_c4WzojJ-r7s"
      },
      "execution_count": 9,
      "outputs": []
    },
    {
      "cell_type": "markdown",
      "source": [
        "## Etape 2: CALCUL DES CORRELATIONS"
      ],
      "metadata": {
        "id": "J4AdMq-ONMUn"
      }
    },
    {
      "cell_type": "code",
      "source": [
        "# Etape 2: CALCUL DES CORRELATIONS\n",
        "#Correlation de Pearson\n",
        "pearson_corr = df[\"Valeur_Client\"].corr(df[\"Frequence_SMS\"], method='pearson')\n",
        "pearson_corr"
      ],
      "metadata": {
        "colab": {
          "base_uri": "https://localhost:8080/"
        },
        "id": "NBhbGBjuIedR",
        "outputId": "c7c03953-380a-4e30-d50c-cc79c9b84b3d"
      },
      "execution_count": 10,
      "outputs": [
        {
          "output_type": "execute_result",
          "data": {
            "text/plain": [
              "0.9248774260038422"
            ]
          },
          "metadata": {},
          "execution_count": 10
        }
      ]
    },
    {
      "cell_type": "code",
      "source": [
        "# Correlation de Spearman\n",
        "spearman_corr = df[\"Valeur_Client\"].corr(df[\"Frequence_SMS\"], method='spearman')\n",
        "spearman_corr"
      ],
      "metadata": {
        "colab": {
          "base_uri": "https://localhost:8080/"
        },
        "id": "oNPdTI_4Ka7y",
        "outputId": "a3610b4d-6b24-4316-97c8-8b4223f0af64"
      },
      "execution_count": 11,
      "outputs": [
        {
          "output_type": "execute_result",
          "data": {
            "text/plain": [
              "0.7795895767906671"
            ]
          },
          "metadata": {},
          "execution_count": 11
        }
      ]
    },
    {
      "cell_type": "code",
      "source": [
        "# Taux de Kendal\n",
        "kendall_corr = df[\"Valeur_Client\"].corr(df[\"Frequence_SMS\"], method='kendall')\n",
        "kendall_corr"
      ],
      "metadata": {
        "colab": {
          "base_uri": "https://localhost:8080/"
        },
        "id": "V-hG29IMKowC",
        "outputId": "aca664bf-2aa5-45f3-d9b1-e90ec43f58d7"
      },
      "execution_count": 12,
      "outputs": [
        {
          "output_type": "execute_result",
          "data": {
            "text/plain": [
              "0.6249297424932203"
            ]
          },
          "metadata": {},
          "execution_count": 12
        }
      ]
    },
    {
      "cell_type": "code",
      "source": [
        "# pour avoir les 3 resultats ensemble on utilise print\n",
        "print(pearson_corr)\n",
        "print(spearman_corr)\n",
        "print(kendall_corr)"
      ],
      "metadata": {
        "colab": {
          "base_uri": "https://localhost:8080/"
        },
        "id": "Z0GjUDZ0GEWL",
        "outputId": "095c9430-34b8-4a7f-8f4b-a00bd59abcff"
      },
      "execution_count": 13,
      "outputs": [
        {
          "output_type": "stream",
          "name": "stdout",
          "text": [
            "0.9248774260038422\n",
            "0.7795895767906671\n",
            "0.6249297424932203\n"
          ]
        }
      ]
    },
    {
      "cell_type": "code",
      "source": [
        "# en vue des résltats ci-dessus il y a ne correlation (var quanti) forte entre les 2 var quanti\n",
        "# Mais ce sont des résultats statistiques. Il faut à présent des résultats de test de Pearson, Spearman et Kendall\n",
        "# pour confirmer nos soupcons"
      ],
      "metadata": {
        "id": "NSKGAo9dLnpc"
      },
      "execution_count": 14,
      "outputs": []
    },
    {
      "cell_type": "markdown",
      "source": [
        "## Etape 3: LES PROBALITÉS par des TESTS STATISTIQUES"
      ],
      "metadata": {
        "id": "i3Ka_ST-NFhM"
      }
    },
    {
      "cell_type": "code",
      "source": [
        "# Etape 3: obtenir LES PROBALITÉS par des TESTS STATISTIQUES\n",
        "# pour faire les test de pearson, spearman et Kendall on a besoin du package stats de la library scipy de python\n",
        "# test de pearson\n",
        "from scipy import stats\n",
        "p = stats.pearsonr(df[\"Valeur_Client\"], df[\"Frequence_SMS\"])\n",
        "p"
      ],
      "metadata": {
        "colab": {
          "base_uri": "https://localhost:8080/"
        },
        "id": "Zm8MiO7XL9cc",
        "outputId": "52feb2db-0849-4141-f9d7-9122d8cccc35"
      },
      "execution_count": 15,
      "outputs": [
        {
          "output_type": "execute_result",
          "data": {
            "text/plain": [
              "PearsonRResult(statistic=0.9248774260038425, pvalue=0.0)"
            ]
          },
          "metadata": {},
          "execution_count": 15
        }
      ]
    },
    {
      "cell_type": "code",
      "source": [
        "# test de spearman\n",
        "from scipy import stats\n",
        "p = stats.spearmanr(df[\"Valeur_Client\"], df[\"Frequence_SMS\"])\n",
        "p"
      ],
      "metadata": {
        "colab": {
          "base_uri": "https://localhost:8080/"
        },
        "id": "RJ4CnMTlN6Jd",
        "outputId": "5c3e08f7-10fa-4641-d4e0-eb9e59ca69e9"
      },
      "execution_count": 16,
      "outputs": [
        {
          "output_type": "execute_result",
          "data": {
            "text/plain": [
              "SignificanceResult(statistic=0.7795895767906671, pvalue=0.0)"
            ]
          },
          "metadata": {},
          "execution_count": 16
        }
      ]
    },
    {
      "cell_type": "code",
      "source": [
        "# test de kendall\n",
        "from scipy import stats\n",
        "p = stats.kendalltau(df[\"Valeur_Client\"], df[\"Frequence_SMS\"])\n",
        "p"
      ],
      "metadata": {
        "colab": {
          "base_uri": "https://localhost:8080/"
        },
        "id": "AbKqcdceOFT-",
        "outputId": "e7df8968-c78c-4fe2-a901-a45347d34cf3"
      },
      "execution_count": 17,
      "outputs": [
        {
          "output_type": "execute_result",
          "data": {
            "text/plain": [
              "SignificanceResult(statistic=0.6249297424932203, pvalue=0.0)"
            ]
          },
          "metadata": {},
          "execution_count": 17
        }
      ]
    },
    {
      "cell_type": "code",
      "source": [
        "# Notez que quand la p valeur faible on ne peut pas accepter l'hypothèse null qui stipule ds ce cas qu'il pas\n",
        "# de relation, de correlation entre les 2 var quanti"
      ],
      "metadata": {
        "id": "cZ4XGM3DPIyC"
      },
      "execution_count": 18,
      "outputs": []
    },
    {
      "cell_type": "markdown",
      "source": [
        "## Etape 4: MATRICE DE CORRELATION\n",
        "\n",
        "###  a - Selectionner les Colonnes avec Variables Quantitatives"
      ],
      "metadata": {
        "id": "IfjwsIkcM7do"
      }
    },
    {
      "cell_type": "code",
      "source": [
        "# Etape 4: MATRICE DE CORRELATION (permet de calculer les valeurs 2 à 2 pour toutes les var quanti)\n",
        "# - Selectionner uniquement les colonnes quantitatives\n",
        "quantitative_variable = df.select_dtypes(include=[\"number\"])\n",
        "quantitative_variable"
      ],
      "metadata": {
        "id": "tneQ4l_1PoM5",
        "colab": {
          "base_uri": "https://localhost:8080/",
          "height": 444
        },
        "outputId": "665fa797-52b5-498a-d870-bb0e9b4c67ea"
      },
      "execution_count": 19,
      "outputs": [
        {
          "output_type": "execute_result",
          "data": {
            "text/plain": [
              "        ID  Call__Failure  Subscription__Length  Charge__Amount  \\\n",
              "0        1              8                    38               0   \n",
              "1        2              0                    39               0   \n",
              "2        3             10                    37               0   \n",
              "3        4             10                    38               0   \n",
              "4        5              3                    38               0   \n",
              "...    ...            ...                   ...             ...   \n",
              "3145  3146             21                    19               2   \n",
              "3146  3147             17                    17               1   \n",
              "3147  3148             13                    18               4   \n",
              "3148  3149              7                    11               2   \n",
              "3149  3150              8                    11               2   \n",
              "\n",
              "      Secondes_Utilisation  Frequence_Utilisation  Frequence_SMS  \\\n",
              "0                     4370                     71              5   \n",
              "1                      318                      5              7   \n",
              "2                     2453                     60            359   \n",
              "3                     4198                     66              1   \n",
              "4                     2393                     58              2   \n",
              "...                    ...                    ...            ...   \n",
              "3145                  6697                    147             92   \n",
              "3146                  9237                    177             80   \n",
              "3147                  3157                     51             38   \n",
              "3148                  4695                     46            222   \n",
              "3149                  1792                     25              7   \n",
              "\n",
              "      Numeros_Appeles_Distincts  Age  Valeur_Client  \n",
              "0                            17   30        197.640  \n",
              "1                             4   25         46.035  \n",
              "2                            24   30       1536.520  \n",
              "3                            35   15        240.020  \n",
              "4                            33   15        145.805  \n",
              "...                         ...  ...            ...  \n",
              "3145                         44   25        721.980  \n",
              "3146                         42   55        261.210  \n",
              "3147                         21   30        280.320  \n",
              "3148                         12   30       1077.640  \n",
              "3149                          9   30        100.680  \n",
              "\n",
              "[3150 rows x 10 columns]"
            ],
            "text/html": [
              "\n",
              "  <div id=\"df-c79a2cfa-dd3f-4d2f-818b-07cb63a41d06\" class=\"colab-df-container\">\n",
              "    <div>\n",
              "<style scoped>\n",
              "    .dataframe tbody tr th:only-of-type {\n",
              "        vertical-align: middle;\n",
              "    }\n",
              "\n",
              "    .dataframe tbody tr th {\n",
              "        vertical-align: top;\n",
              "    }\n",
              "\n",
              "    .dataframe thead th {\n",
              "        text-align: right;\n",
              "    }\n",
              "</style>\n",
              "<table border=\"1\" class=\"dataframe\">\n",
              "  <thead>\n",
              "    <tr style=\"text-align: right;\">\n",
              "      <th></th>\n",
              "      <th>ID</th>\n",
              "      <th>Call__Failure</th>\n",
              "      <th>Subscription__Length</th>\n",
              "      <th>Charge__Amount</th>\n",
              "      <th>Secondes_Utilisation</th>\n",
              "      <th>Frequence_Utilisation</th>\n",
              "      <th>Frequence_SMS</th>\n",
              "      <th>Numeros_Appeles_Distincts</th>\n",
              "      <th>Age</th>\n",
              "      <th>Valeur_Client</th>\n",
              "    </tr>\n",
              "  </thead>\n",
              "  <tbody>\n",
              "    <tr>\n",
              "      <th>0</th>\n",
              "      <td>1</td>\n",
              "      <td>8</td>\n",
              "      <td>38</td>\n",
              "      <td>0</td>\n",
              "      <td>4370</td>\n",
              "      <td>71</td>\n",
              "      <td>5</td>\n",
              "      <td>17</td>\n",
              "      <td>30</td>\n",
              "      <td>197.640</td>\n",
              "    </tr>\n",
              "    <tr>\n",
              "      <th>1</th>\n",
              "      <td>2</td>\n",
              "      <td>0</td>\n",
              "      <td>39</td>\n",
              "      <td>0</td>\n",
              "      <td>318</td>\n",
              "      <td>5</td>\n",
              "      <td>7</td>\n",
              "      <td>4</td>\n",
              "      <td>25</td>\n",
              "      <td>46.035</td>\n",
              "    </tr>\n",
              "    <tr>\n",
              "      <th>2</th>\n",
              "      <td>3</td>\n",
              "      <td>10</td>\n",
              "      <td>37</td>\n",
              "      <td>0</td>\n",
              "      <td>2453</td>\n",
              "      <td>60</td>\n",
              "      <td>359</td>\n",
              "      <td>24</td>\n",
              "      <td>30</td>\n",
              "      <td>1536.520</td>\n",
              "    </tr>\n",
              "    <tr>\n",
              "      <th>3</th>\n",
              "      <td>4</td>\n",
              "      <td>10</td>\n",
              "      <td>38</td>\n",
              "      <td>0</td>\n",
              "      <td>4198</td>\n",
              "      <td>66</td>\n",
              "      <td>1</td>\n",
              "      <td>35</td>\n",
              "      <td>15</td>\n",
              "      <td>240.020</td>\n",
              "    </tr>\n",
              "    <tr>\n",
              "      <th>4</th>\n",
              "      <td>5</td>\n",
              "      <td>3</td>\n",
              "      <td>38</td>\n",
              "      <td>0</td>\n",
              "      <td>2393</td>\n",
              "      <td>58</td>\n",
              "      <td>2</td>\n",
              "      <td>33</td>\n",
              "      <td>15</td>\n",
              "      <td>145.805</td>\n",
              "    </tr>\n",
              "    <tr>\n",
              "      <th>...</th>\n",
              "      <td>...</td>\n",
              "      <td>...</td>\n",
              "      <td>...</td>\n",
              "      <td>...</td>\n",
              "      <td>...</td>\n",
              "      <td>...</td>\n",
              "      <td>...</td>\n",
              "      <td>...</td>\n",
              "      <td>...</td>\n",
              "      <td>...</td>\n",
              "    </tr>\n",
              "    <tr>\n",
              "      <th>3145</th>\n",
              "      <td>3146</td>\n",
              "      <td>21</td>\n",
              "      <td>19</td>\n",
              "      <td>2</td>\n",
              "      <td>6697</td>\n",
              "      <td>147</td>\n",
              "      <td>92</td>\n",
              "      <td>44</td>\n",
              "      <td>25</td>\n",
              "      <td>721.980</td>\n",
              "    </tr>\n",
              "    <tr>\n",
              "      <th>3146</th>\n",
              "      <td>3147</td>\n",
              "      <td>17</td>\n",
              "      <td>17</td>\n",
              "      <td>1</td>\n",
              "      <td>9237</td>\n",
              "      <td>177</td>\n",
              "      <td>80</td>\n",
              "      <td>42</td>\n",
              "      <td>55</td>\n",
              "      <td>261.210</td>\n",
              "    </tr>\n",
              "    <tr>\n",
              "      <th>3147</th>\n",
              "      <td>3148</td>\n",
              "      <td>13</td>\n",
              "      <td>18</td>\n",
              "      <td>4</td>\n",
              "      <td>3157</td>\n",
              "      <td>51</td>\n",
              "      <td>38</td>\n",
              "      <td>21</td>\n",
              "      <td>30</td>\n",
              "      <td>280.320</td>\n",
              "    </tr>\n",
              "    <tr>\n",
              "      <th>3148</th>\n",
              "      <td>3149</td>\n",
              "      <td>7</td>\n",
              "      <td>11</td>\n",
              "      <td>2</td>\n",
              "      <td>4695</td>\n",
              "      <td>46</td>\n",
              "      <td>222</td>\n",
              "      <td>12</td>\n",
              "      <td>30</td>\n",
              "      <td>1077.640</td>\n",
              "    </tr>\n",
              "    <tr>\n",
              "      <th>3149</th>\n",
              "      <td>3150</td>\n",
              "      <td>8</td>\n",
              "      <td>11</td>\n",
              "      <td>2</td>\n",
              "      <td>1792</td>\n",
              "      <td>25</td>\n",
              "      <td>7</td>\n",
              "      <td>9</td>\n",
              "      <td>30</td>\n",
              "      <td>100.680</td>\n",
              "    </tr>\n",
              "  </tbody>\n",
              "</table>\n",
              "<p>3150 rows × 10 columns</p>\n",
              "</div>\n",
              "    <div class=\"colab-df-buttons\">\n",
              "\n",
              "  <div class=\"colab-df-container\">\n",
              "    <button class=\"colab-df-convert\" onclick=\"convertToInteractive('df-c79a2cfa-dd3f-4d2f-818b-07cb63a41d06')\"\n",
              "            title=\"Convert this dataframe to an interactive table.\"\n",
              "            style=\"display:none;\">\n",
              "\n",
              "  <svg xmlns=\"http://www.w3.org/2000/svg\" height=\"24px\" viewBox=\"0 -960 960 960\">\n",
              "    <path d=\"M120-120v-720h720v720H120Zm60-500h600v-160H180v160Zm220 220h160v-160H400v160Zm0 220h160v-160H400v160ZM180-400h160v-160H180v160Zm440 0h160v-160H620v160ZM180-180h160v-160H180v160Zm440 0h160v-160H620v160Z\"/>\n",
              "  </svg>\n",
              "    </button>\n",
              "\n",
              "  <style>\n",
              "    .colab-df-container {\n",
              "      display:flex;\n",
              "      gap: 12px;\n",
              "    }\n",
              "\n",
              "    .colab-df-convert {\n",
              "      background-color: #E8F0FE;\n",
              "      border: none;\n",
              "      border-radius: 50%;\n",
              "      cursor: pointer;\n",
              "      display: none;\n",
              "      fill: #1967D2;\n",
              "      height: 32px;\n",
              "      padding: 0 0 0 0;\n",
              "      width: 32px;\n",
              "    }\n",
              "\n",
              "    .colab-df-convert:hover {\n",
              "      background-color: #E2EBFA;\n",
              "      box-shadow: 0px 1px 2px rgba(60, 64, 67, 0.3), 0px 1px 3px 1px rgba(60, 64, 67, 0.15);\n",
              "      fill: #174EA6;\n",
              "    }\n",
              "\n",
              "    .colab-df-buttons div {\n",
              "      margin-bottom: 4px;\n",
              "    }\n",
              "\n",
              "    [theme=dark] .colab-df-convert {\n",
              "      background-color: #3B4455;\n",
              "      fill: #D2E3FC;\n",
              "    }\n",
              "\n",
              "    [theme=dark] .colab-df-convert:hover {\n",
              "      background-color: #434B5C;\n",
              "      box-shadow: 0px 1px 3px 1px rgba(0, 0, 0, 0.15);\n",
              "      filter: drop-shadow(0px 1px 2px rgba(0, 0, 0, 0.3));\n",
              "      fill: #FFFFFF;\n",
              "    }\n",
              "  </style>\n",
              "\n",
              "    <script>\n",
              "      const buttonEl =\n",
              "        document.querySelector('#df-c79a2cfa-dd3f-4d2f-818b-07cb63a41d06 button.colab-df-convert');\n",
              "      buttonEl.style.display =\n",
              "        google.colab.kernel.accessAllowed ? 'block' : 'none';\n",
              "\n",
              "      async function convertToInteractive(key) {\n",
              "        const element = document.querySelector('#df-c79a2cfa-dd3f-4d2f-818b-07cb63a41d06');\n",
              "        const dataTable =\n",
              "          await google.colab.kernel.invokeFunction('convertToInteractive',\n",
              "                                                    [key], {});\n",
              "        if (!dataTable) return;\n",
              "\n",
              "        const docLinkHtml = 'Like what you see? Visit the ' +\n",
              "          '<a target=\"_blank\" href=https://colab.research.google.com/notebooks/data_table.ipynb>data table notebook</a>'\n",
              "          + ' to learn more about interactive tables.';\n",
              "        element.innerHTML = '';\n",
              "        dataTable['output_type'] = 'display_data';\n",
              "        await google.colab.output.renderOutput(dataTable, element);\n",
              "        const docLink = document.createElement('div');\n",
              "        docLink.innerHTML = docLinkHtml;\n",
              "        element.appendChild(docLink);\n",
              "      }\n",
              "    </script>\n",
              "  </div>\n",
              "\n",
              "\n",
              "<div id=\"df-ecc507ff-032c-4abc-a4eb-ffdc70603bbe\">\n",
              "  <button class=\"colab-df-quickchart\" onclick=\"quickchart('df-ecc507ff-032c-4abc-a4eb-ffdc70603bbe')\"\n",
              "            title=\"Suggest charts\"\n",
              "            style=\"display:none;\">\n",
              "\n",
              "<svg xmlns=\"http://www.w3.org/2000/svg\" height=\"24px\"viewBox=\"0 0 24 24\"\n",
              "     width=\"24px\">\n",
              "    <g>\n",
              "        <path d=\"M19 3H5c-1.1 0-2 .9-2 2v14c0 1.1.9 2 2 2h14c1.1 0 2-.9 2-2V5c0-1.1-.9-2-2-2zM9 17H7v-7h2v7zm4 0h-2V7h2v10zm4 0h-2v-4h2v4z\"/>\n",
              "    </g>\n",
              "</svg>\n",
              "  </button>\n",
              "\n",
              "<style>\n",
              "  .colab-df-quickchart {\n",
              "      --bg-color: #E8F0FE;\n",
              "      --fill-color: #1967D2;\n",
              "      --hover-bg-color: #E2EBFA;\n",
              "      --hover-fill-color: #174EA6;\n",
              "      --disabled-fill-color: #AAA;\n",
              "      --disabled-bg-color: #DDD;\n",
              "  }\n",
              "\n",
              "  [theme=dark] .colab-df-quickchart {\n",
              "      --bg-color: #3B4455;\n",
              "      --fill-color: #D2E3FC;\n",
              "      --hover-bg-color: #434B5C;\n",
              "      --hover-fill-color: #FFFFFF;\n",
              "      --disabled-bg-color: #3B4455;\n",
              "      --disabled-fill-color: #666;\n",
              "  }\n",
              "\n",
              "  .colab-df-quickchart {\n",
              "    background-color: var(--bg-color);\n",
              "    border: none;\n",
              "    border-radius: 50%;\n",
              "    cursor: pointer;\n",
              "    display: none;\n",
              "    fill: var(--fill-color);\n",
              "    height: 32px;\n",
              "    padding: 0;\n",
              "    width: 32px;\n",
              "  }\n",
              "\n",
              "  .colab-df-quickchart:hover {\n",
              "    background-color: var(--hover-bg-color);\n",
              "    box-shadow: 0 1px 2px rgba(60, 64, 67, 0.3), 0 1px 3px 1px rgba(60, 64, 67, 0.15);\n",
              "    fill: var(--button-hover-fill-color);\n",
              "  }\n",
              "\n",
              "  .colab-df-quickchart-complete:disabled,\n",
              "  .colab-df-quickchart-complete:disabled:hover {\n",
              "    background-color: var(--disabled-bg-color);\n",
              "    fill: var(--disabled-fill-color);\n",
              "    box-shadow: none;\n",
              "  }\n",
              "\n",
              "  .colab-df-spinner {\n",
              "    border: 2px solid var(--fill-color);\n",
              "    border-color: transparent;\n",
              "    border-bottom-color: var(--fill-color);\n",
              "    animation:\n",
              "      spin 1s steps(1) infinite;\n",
              "  }\n",
              "\n",
              "  @keyframes spin {\n",
              "    0% {\n",
              "      border-color: transparent;\n",
              "      border-bottom-color: var(--fill-color);\n",
              "      border-left-color: var(--fill-color);\n",
              "    }\n",
              "    20% {\n",
              "      border-color: transparent;\n",
              "      border-left-color: var(--fill-color);\n",
              "      border-top-color: var(--fill-color);\n",
              "    }\n",
              "    30% {\n",
              "      border-color: transparent;\n",
              "      border-left-color: var(--fill-color);\n",
              "      border-top-color: var(--fill-color);\n",
              "      border-right-color: var(--fill-color);\n",
              "    }\n",
              "    40% {\n",
              "      border-color: transparent;\n",
              "      border-right-color: var(--fill-color);\n",
              "      border-top-color: var(--fill-color);\n",
              "    }\n",
              "    60% {\n",
              "      border-color: transparent;\n",
              "      border-right-color: var(--fill-color);\n",
              "    }\n",
              "    80% {\n",
              "      border-color: transparent;\n",
              "      border-right-color: var(--fill-color);\n",
              "      border-bottom-color: var(--fill-color);\n",
              "    }\n",
              "    90% {\n",
              "      border-color: transparent;\n",
              "      border-bottom-color: var(--fill-color);\n",
              "    }\n",
              "  }\n",
              "</style>\n",
              "\n",
              "  <script>\n",
              "    async function quickchart(key) {\n",
              "      const quickchartButtonEl =\n",
              "        document.querySelector('#' + key + ' button');\n",
              "      quickchartButtonEl.disabled = true;  // To prevent multiple clicks.\n",
              "      quickchartButtonEl.classList.add('colab-df-spinner');\n",
              "      try {\n",
              "        const charts = await google.colab.kernel.invokeFunction(\n",
              "            'suggestCharts', [key], {});\n",
              "      } catch (error) {\n",
              "        console.error('Error during call to suggestCharts:', error);\n",
              "      }\n",
              "      quickchartButtonEl.classList.remove('colab-df-spinner');\n",
              "      quickchartButtonEl.classList.add('colab-df-quickchart-complete');\n",
              "    }\n",
              "    (() => {\n",
              "      let quickchartButtonEl =\n",
              "        document.querySelector('#df-ecc507ff-032c-4abc-a4eb-ffdc70603bbe button');\n",
              "      quickchartButtonEl.style.display =\n",
              "        google.colab.kernel.accessAllowed ? 'block' : 'none';\n",
              "    })();\n",
              "  </script>\n",
              "</div>\n",
              "    </div>\n",
              "  </div>\n"
            ],
            "application/vnd.google.colaboratory.intrinsic+json": {
              "type": "dataframe",
              "variable_name": "quantitative_variable",
              "summary": "{\n  \"name\": \"quantitative_variable\",\n  \"rows\": 3150,\n  \"fields\": [\n    {\n      \"column\": \"ID\",\n      \"properties\": {\n        \"dtype\": \"number\",\n        \"std\": 909,\n        \"min\": 1,\n        \"max\": 3150,\n        \"num_unique_values\": 3150,\n        \"samples\": [\n          2966,\n          970,\n          1386\n        ],\n        \"semantic_type\": \"\",\n        \"description\": \"\"\n      }\n    },\n    {\n      \"column\": \"Call__Failure\",\n      \"properties\": {\n        \"dtype\": \"number\",\n        \"std\": 7,\n        \"min\": 0,\n        \"max\": 36,\n        \"num_unique_values\": 37,\n        \"samples\": [\n          14,\n          21,\n          11\n        ],\n        \"semantic_type\": \"\",\n        \"description\": \"\"\n      }\n    },\n    {\n      \"column\": \"Subscription__Length\",\n      \"properties\": {\n        \"dtype\": \"number\",\n        \"std\": 8,\n        \"min\": 3,\n        \"max\": 47,\n        \"num_unique_values\": 45,\n        \"samples\": [\n          3,\n          23,\n          13\n        ],\n        \"semantic_type\": \"\",\n        \"description\": \"\"\n      }\n    },\n    {\n      \"column\": \"Charge__Amount\",\n      \"properties\": {\n        \"dtype\": \"number\",\n        \"std\": 1,\n        \"min\": 0,\n        \"max\": 10,\n        \"num_unique_values\": 11,\n        \"samples\": [\n          4,\n          0,\n          10\n        ],\n        \"semantic_type\": \"\",\n        \"description\": \"\"\n      }\n    },\n    {\n      \"column\": \"Secondes_Utilisation\",\n      \"properties\": {\n        \"dtype\": \"number\",\n        \"std\": 4197,\n        \"min\": 0,\n        \"max\": 17090,\n        \"num_unique_values\": 1756,\n        \"samples\": [\n          2633,\n          5115,\n          4375\n        ],\n        \"semantic_type\": \"\",\n        \"description\": \"\"\n      }\n    },\n    {\n      \"column\": \"Frequence_Utilisation\",\n      \"properties\": {\n        \"dtype\": \"number\",\n        \"std\": 57,\n        \"min\": 0,\n        \"max\": 255,\n        \"num_unique_values\": 242,\n        \"samples\": [\n          22,\n          39,\n          111\n        ],\n        \"semantic_type\": \"\",\n        \"description\": \"\"\n      }\n    },\n    {\n      \"column\": \"Frequence_SMS\",\n      \"properties\": {\n        \"dtype\": \"number\",\n        \"std\": 112,\n        \"min\": 0,\n        \"max\": 522,\n        \"num_unique_values\": 405,\n        \"samples\": [\n          145,\n          195,\n          479\n        ],\n        \"semantic_type\": \"\",\n        \"description\": \"\"\n      }\n    },\n    {\n      \"column\": \"Numeros_Appeles_Distincts\",\n      \"properties\": {\n        \"dtype\": \"number\",\n        \"std\": 17,\n        \"min\": 0,\n        \"max\": 97,\n        \"num_unique_values\": 92,\n        \"samples\": [\n          49,\n          31,\n          36\n        ],\n        \"semantic_type\": \"\",\n        \"description\": \"\"\n      }\n    },\n    {\n      \"column\": \"Age\",\n      \"properties\": {\n        \"dtype\": \"number\",\n        \"std\": 8,\n        \"min\": 15,\n        \"max\": 55,\n        \"num_unique_values\": 5,\n        \"samples\": [\n          25,\n          55,\n          15\n        ],\n        \"semantic_type\": \"\",\n        \"description\": \"\"\n      }\n    },\n    {\n      \"column\": \"Valeur_Client\",\n      \"properties\": {\n        \"dtype\": \"number\",\n        \"std\": 517.0154327987643,\n        \"min\": 0.0,\n        \"max\": 2165.28,\n        \"num_unique_values\": 2654,\n        \"samples\": [\n          451.665,\n          111.96,\n          1018.935\n        ],\n        \"semantic_type\": \"\",\n        \"description\": \"\"\n      }\n    }\n  ]\n}"
            }
          },
          "metadata": {},
          "execution_count": 19
        }
      ]
    },
    {
      "cell_type": "markdown",
      "source": [
        "### b - Calcule de la HEATMAP DE CORRELATION"
      ],
      "metadata": {
        "id": "rjZ8O1FWSElR"
      }
    },
    {
      "cell_type": "code",
      "source": [
        "# b) - Apres selection des var quanti on calcule la Matrice de correlation avec .corr\n",
        "quantitative_variable.corr()"
      ],
      "metadata": {
        "colab": {
          "base_uri": "https://localhost:8080/",
          "height": 383
        },
        "id": "Gn30Qf2iPoGR",
        "outputId": "33ae3c38-4ef6-44fb-c1a5-5f1b6765f50e"
      },
      "execution_count": 20,
      "outputs": [
        {
          "output_type": "execute_result",
          "data": {
            "text/plain": [
              "                                 ID  Call__Failure  Subscription__Length  \\\n",
              "ID                         1.000000       0.251196              0.074481   \n",
              "Call__Failure              0.251196       1.000000              0.169737   \n",
              "Subscription__Length       0.074481       0.169737              1.000000   \n",
              "Charge__Amount             0.154998       0.589028              0.078789   \n",
              "Secondes_Utilisation       0.024109       0.501607              0.124618   \n",
              "Frequence_Utilisation      0.035934       0.573349              0.106534   \n",
              "Frequence_SMS              0.016782      -0.022282              0.076318   \n",
              "Numeros_Appeles_Distincts  0.036607       0.504058              0.092009   \n",
              "Age                        0.093044       0.041758             -0.002430   \n",
              "Valeur_Client              0.002673       0.121225              0.109565   \n",
              "\n",
              "                           Charge__Amount  Secondes_Utilisation  \\\n",
              "ID                               0.154998              0.024109   \n",
              "Call__Failure                    0.589028              0.501607   \n",
              "Subscription__Length             0.078789              0.124618   \n",
              "Charge__Amount                   1.000000              0.446738   \n",
              "Secondes_Utilisation             0.446738              1.000000   \n",
              "Frequence_Utilisation            0.379096              0.946489   \n",
              "Frequence_SMS                    0.091533              0.102123   \n",
              "Numeros_Appeles_Distincts        0.415198              0.676536   \n",
              "Age                              0.278955              0.020843   \n",
              "Valeur_Client                    0.169428              0.415087   \n",
              "\n",
              "                           Frequence_Utilisation  Frequence_SMS  \\\n",
              "ID                                      0.035934       0.016782   \n",
              "Call__Failure                           0.573349      -0.022282   \n",
              "Subscription__Length                    0.106534       0.076318   \n",
              "Charge__Amount                          0.379096       0.091533   \n",
              "Secondes_Utilisation                    0.946489       0.102123   \n",
              "Frequence_Utilisation                   1.000000       0.100019   \n",
              "Frequence_SMS                           0.100019       1.000000   \n",
              "Numeros_Appeles_Distincts               0.736114       0.079650   \n",
              "Age                                    -0.028350      -0.092798   \n",
              "Valeur_Client                           0.401572       0.924877   \n",
              "\n",
              "                           Numeros_Appeles_Distincts       Age  Valeur_Client  \n",
              "ID                                          0.036607  0.093044       0.002673  \n",
              "Call__Failure                               0.504058  0.041758       0.121225  \n",
              "Subscription__Length                        0.092009 -0.002430       0.109565  \n",
              "Charge__Amount                              0.415198  0.278955       0.169428  \n",
              "Secondes_Utilisation                        0.676536  0.020843       0.415087  \n",
              "Frequence_Utilisation                       0.736114 -0.028350       0.401572  \n",
              "Frequence_SMS                               0.079650 -0.092798       0.924877  \n",
              "Numeros_Appeles_Distincts                   1.000000  0.051037       0.284807  \n",
              "Age                                         0.051037  1.000000      -0.220362  \n",
              "Valeur_Client                               0.284807 -0.220362       1.000000  "
            ],
            "text/html": [
              "\n",
              "  <div id=\"df-eb3f2d4d-e404-4694-8c33-eb0af8fc6b21\" class=\"colab-df-container\">\n",
              "    <div>\n",
              "<style scoped>\n",
              "    .dataframe tbody tr th:only-of-type {\n",
              "        vertical-align: middle;\n",
              "    }\n",
              "\n",
              "    .dataframe tbody tr th {\n",
              "        vertical-align: top;\n",
              "    }\n",
              "\n",
              "    .dataframe thead th {\n",
              "        text-align: right;\n",
              "    }\n",
              "</style>\n",
              "<table border=\"1\" class=\"dataframe\">\n",
              "  <thead>\n",
              "    <tr style=\"text-align: right;\">\n",
              "      <th></th>\n",
              "      <th>ID</th>\n",
              "      <th>Call__Failure</th>\n",
              "      <th>Subscription__Length</th>\n",
              "      <th>Charge__Amount</th>\n",
              "      <th>Secondes_Utilisation</th>\n",
              "      <th>Frequence_Utilisation</th>\n",
              "      <th>Frequence_SMS</th>\n",
              "      <th>Numeros_Appeles_Distincts</th>\n",
              "      <th>Age</th>\n",
              "      <th>Valeur_Client</th>\n",
              "    </tr>\n",
              "  </thead>\n",
              "  <tbody>\n",
              "    <tr>\n",
              "      <th>ID</th>\n",
              "      <td>1.000000</td>\n",
              "      <td>0.251196</td>\n",
              "      <td>0.074481</td>\n",
              "      <td>0.154998</td>\n",
              "      <td>0.024109</td>\n",
              "      <td>0.035934</td>\n",
              "      <td>0.016782</td>\n",
              "      <td>0.036607</td>\n",
              "      <td>0.093044</td>\n",
              "      <td>0.002673</td>\n",
              "    </tr>\n",
              "    <tr>\n",
              "      <th>Call__Failure</th>\n",
              "      <td>0.251196</td>\n",
              "      <td>1.000000</td>\n",
              "      <td>0.169737</td>\n",
              "      <td>0.589028</td>\n",
              "      <td>0.501607</td>\n",
              "      <td>0.573349</td>\n",
              "      <td>-0.022282</td>\n",
              "      <td>0.504058</td>\n",
              "      <td>0.041758</td>\n",
              "      <td>0.121225</td>\n",
              "    </tr>\n",
              "    <tr>\n",
              "      <th>Subscription__Length</th>\n",
              "      <td>0.074481</td>\n",
              "      <td>0.169737</td>\n",
              "      <td>1.000000</td>\n",
              "      <td>0.078789</td>\n",
              "      <td>0.124618</td>\n",
              "      <td>0.106534</td>\n",
              "      <td>0.076318</td>\n",
              "      <td>0.092009</td>\n",
              "      <td>-0.002430</td>\n",
              "      <td>0.109565</td>\n",
              "    </tr>\n",
              "    <tr>\n",
              "      <th>Charge__Amount</th>\n",
              "      <td>0.154998</td>\n",
              "      <td>0.589028</td>\n",
              "      <td>0.078789</td>\n",
              "      <td>1.000000</td>\n",
              "      <td>0.446738</td>\n",
              "      <td>0.379096</td>\n",
              "      <td>0.091533</td>\n",
              "      <td>0.415198</td>\n",
              "      <td>0.278955</td>\n",
              "      <td>0.169428</td>\n",
              "    </tr>\n",
              "    <tr>\n",
              "      <th>Secondes_Utilisation</th>\n",
              "      <td>0.024109</td>\n",
              "      <td>0.501607</td>\n",
              "      <td>0.124618</td>\n",
              "      <td>0.446738</td>\n",
              "      <td>1.000000</td>\n",
              "      <td>0.946489</td>\n",
              "      <td>0.102123</td>\n",
              "      <td>0.676536</td>\n",
              "      <td>0.020843</td>\n",
              "      <td>0.415087</td>\n",
              "    </tr>\n",
              "    <tr>\n",
              "      <th>Frequence_Utilisation</th>\n",
              "      <td>0.035934</td>\n",
              "      <td>0.573349</td>\n",
              "      <td>0.106534</td>\n",
              "      <td>0.379096</td>\n",
              "      <td>0.946489</td>\n",
              "      <td>1.000000</td>\n",
              "      <td>0.100019</td>\n",
              "      <td>0.736114</td>\n",
              "      <td>-0.028350</td>\n",
              "      <td>0.401572</td>\n",
              "    </tr>\n",
              "    <tr>\n",
              "      <th>Frequence_SMS</th>\n",
              "      <td>0.016782</td>\n",
              "      <td>-0.022282</td>\n",
              "      <td>0.076318</td>\n",
              "      <td>0.091533</td>\n",
              "      <td>0.102123</td>\n",
              "      <td>0.100019</td>\n",
              "      <td>1.000000</td>\n",
              "      <td>0.079650</td>\n",
              "      <td>-0.092798</td>\n",
              "      <td>0.924877</td>\n",
              "    </tr>\n",
              "    <tr>\n",
              "      <th>Numeros_Appeles_Distincts</th>\n",
              "      <td>0.036607</td>\n",
              "      <td>0.504058</td>\n",
              "      <td>0.092009</td>\n",
              "      <td>0.415198</td>\n",
              "      <td>0.676536</td>\n",
              "      <td>0.736114</td>\n",
              "      <td>0.079650</td>\n",
              "      <td>1.000000</td>\n",
              "      <td>0.051037</td>\n",
              "      <td>0.284807</td>\n",
              "    </tr>\n",
              "    <tr>\n",
              "      <th>Age</th>\n",
              "      <td>0.093044</td>\n",
              "      <td>0.041758</td>\n",
              "      <td>-0.002430</td>\n",
              "      <td>0.278955</td>\n",
              "      <td>0.020843</td>\n",
              "      <td>-0.028350</td>\n",
              "      <td>-0.092798</td>\n",
              "      <td>0.051037</td>\n",
              "      <td>1.000000</td>\n",
              "      <td>-0.220362</td>\n",
              "    </tr>\n",
              "    <tr>\n",
              "      <th>Valeur_Client</th>\n",
              "      <td>0.002673</td>\n",
              "      <td>0.121225</td>\n",
              "      <td>0.109565</td>\n",
              "      <td>0.169428</td>\n",
              "      <td>0.415087</td>\n",
              "      <td>0.401572</td>\n",
              "      <td>0.924877</td>\n",
              "      <td>0.284807</td>\n",
              "      <td>-0.220362</td>\n",
              "      <td>1.000000</td>\n",
              "    </tr>\n",
              "  </tbody>\n",
              "</table>\n",
              "</div>\n",
              "    <div class=\"colab-df-buttons\">\n",
              "\n",
              "  <div class=\"colab-df-container\">\n",
              "    <button class=\"colab-df-convert\" onclick=\"convertToInteractive('df-eb3f2d4d-e404-4694-8c33-eb0af8fc6b21')\"\n",
              "            title=\"Convert this dataframe to an interactive table.\"\n",
              "            style=\"display:none;\">\n",
              "\n",
              "  <svg xmlns=\"http://www.w3.org/2000/svg\" height=\"24px\" viewBox=\"0 -960 960 960\">\n",
              "    <path d=\"M120-120v-720h720v720H120Zm60-500h600v-160H180v160Zm220 220h160v-160H400v160Zm0 220h160v-160H400v160ZM180-400h160v-160H180v160Zm440 0h160v-160H620v160ZM180-180h160v-160H180v160Zm440 0h160v-160H620v160Z\"/>\n",
              "  </svg>\n",
              "    </button>\n",
              "\n",
              "  <style>\n",
              "    .colab-df-container {\n",
              "      display:flex;\n",
              "      gap: 12px;\n",
              "    }\n",
              "\n",
              "    .colab-df-convert {\n",
              "      background-color: #E8F0FE;\n",
              "      border: none;\n",
              "      border-radius: 50%;\n",
              "      cursor: pointer;\n",
              "      display: none;\n",
              "      fill: #1967D2;\n",
              "      height: 32px;\n",
              "      padding: 0 0 0 0;\n",
              "      width: 32px;\n",
              "    }\n",
              "\n",
              "    .colab-df-convert:hover {\n",
              "      background-color: #E2EBFA;\n",
              "      box-shadow: 0px 1px 2px rgba(60, 64, 67, 0.3), 0px 1px 3px 1px rgba(60, 64, 67, 0.15);\n",
              "      fill: #174EA6;\n",
              "    }\n",
              "\n",
              "    .colab-df-buttons div {\n",
              "      margin-bottom: 4px;\n",
              "    }\n",
              "\n",
              "    [theme=dark] .colab-df-convert {\n",
              "      background-color: #3B4455;\n",
              "      fill: #D2E3FC;\n",
              "    }\n",
              "\n",
              "    [theme=dark] .colab-df-convert:hover {\n",
              "      background-color: #434B5C;\n",
              "      box-shadow: 0px 1px 3px 1px rgba(0, 0, 0, 0.15);\n",
              "      filter: drop-shadow(0px 1px 2px rgba(0, 0, 0, 0.3));\n",
              "      fill: #FFFFFF;\n",
              "    }\n",
              "  </style>\n",
              "\n",
              "    <script>\n",
              "      const buttonEl =\n",
              "        document.querySelector('#df-eb3f2d4d-e404-4694-8c33-eb0af8fc6b21 button.colab-df-convert');\n",
              "      buttonEl.style.display =\n",
              "        google.colab.kernel.accessAllowed ? 'block' : 'none';\n",
              "\n",
              "      async function convertToInteractive(key) {\n",
              "        const element = document.querySelector('#df-eb3f2d4d-e404-4694-8c33-eb0af8fc6b21');\n",
              "        const dataTable =\n",
              "          await google.colab.kernel.invokeFunction('convertToInteractive',\n",
              "                                                    [key], {});\n",
              "        if (!dataTable) return;\n",
              "\n",
              "        const docLinkHtml = 'Like what you see? Visit the ' +\n",
              "          '<a target=\"_blank\" href=https://colab.research.google.com/notebooks/data_table.ipynb>data table notebook</a>'\n",
              "          + ' to learn more about interactive tables.';\n",
              "        element.innerHTML = '';\n",
              "        dataTable['output_type'] = 'display_data';\n",
              "        await google.colab.output.renderOutput(dataTable, element);\n",
              "        const docLink = document.createElement('div');\n",
              "        docLink.innerHTML = docLinkHtml;\n",
              "        element.appendChild(docLink);\n",
              "      }\n",
              "    </script>\n",
              "  </div>\n",
              "\n",
              "\n",
              "<div id=\"df-8bff4cc8-1355-4c9b-b3c4-55d46acece42\">\n",
              "  <button class=\"colab-df-quickchart\" onclick=\"quickchart('df-8bff4cc8-1355-4c9b-b3c4-55d46acece42')\"\n",
              "            title=\"Suggest charts\"\n",
              "            style=\"display:none;\">\n",
              "\n",
              "<svg xmlns=\"http://www.w3.org/2000/svg\" height=\"24px\"viewBox=\"0 0 24 24\"\n",
              "     width=\"24px\">\n",
              "    <g>\n",
              "        <path d=\"M19 3H5c-1.1 0-2 .9-2 2v14c0 1.1.9 2 2 2h14c1.1 0 2-.9 2-2V5c0-1.1-.9-2-2-2zM9 17H7v-7h2v7zm4 0h-2V7h2v10zm4 0h-2v-4h2v4z\"/>\n",
              "    </g>\n",
              "</svg>\n",
              "  </button>\n",
              "\n",
              "<style>\n",
              "  .colab-df-quickchart {\n",
              "      --bg-color: #E8F0FE;\n",
              "      --fill-color: #1967D2;\n",
              "      --hover-bg-color: #E2EBFA;\n",
              "      --hover-fill-color: #174EA6;\n",
              "      --disabled-fill-color: #AAA;\n",
              "      --disabled-bg-color: #DDD;\n",
              "  }\n",
              "\n",
              "  [theme=dark] .colab-df-quickchart {\n",
              "      --bg-color: #3B4455;\n",
              "      --fill-color: #D2E3FC;\n",
              "      --hover-bg-color: #434B5C;\n",
              "      --hover-fill-color: #FFFFFF;\n",
              "      --disabled-bg-color: #3B4455;\n",
              "      --disabled-fill-color: #666;\n",
              "  }\n",
              "\n",
              "  .colab-df-quickchart {\n",
              "    background-color: var(--bg-color);\n",
              "    border: none;\n",
              "    border-radius: 50%;\n",
              "    cursor: pointer;\n",
              "    display: none;\n",
              "    fill: var(--fill-color);\n",
              "    height: 32px;\n",
              "    padding: 0;\n",
              "    width: 32px;\n",
              "  }\n",
              "\n",
              "  .colab-df-quickchart:hover {\n",
              "    background-color: var(--hover-bg-color);\n",
              "    box-shadow: 0 1px 2px rgba(60, 64, 67, 0.3), 0 1px 3px 1px rgba(60, 64, 67, 0.15);\n",
              "    fill: var(--button-hover-fill-color);\n",
              "  }\n",
              "\n",
              "  .colab-df-quickchart-complete:disabled,\n",
              "  .colab-df-quickchart-complete:disabled:hover {\n",
              "    background-color: var(--disabled-bg-color);\n",
              "    fill: var(--disabled-fill-color);\n",
              "    box-shadow: none;\n",
              "  }\n",
              "\n",
              "  .colab-df-spinner {\n",
              "    border: 2px solid var(--fill-color);\n",
              "    border-color: transparent;\n",
              "    border-bottom-color: var(--fill-color);\n",
              "    animation:\n",
              "      spin 1s steps(1) infinite;\n",
              "  }\n",
              "\n",
              "  @keyframes spin {\n",
              "    0% {\n",
              "      border-color: transparent;\n",
              "      border-bottom-color: var(--fill-color);\n",
              "      border-left-color: var(--fill-color);\n",
              "    }\n",
              "    20% {\n",
              "      border-color: transparent;\n",
              "      border-left-color: var(--fill-color);\n",
              "      border-top-color: var(--fill-color);\n",
              "    }\n",
              "    30% {\n",
              "      border-color: transparent;\n",
              "      border-left-color: var(--fill-color);\n",
              "      border-top-color: var(--fill-color);\n",
              "      border-right-color: var(--fill-color);\n",
              "    }\n",
              "    40% {\n",
              "      border-color: transparent;\n",
              "      border-right-color: var(--fill-color);\n",
              "      border-top-color: var(--fill-color);\n",
              "    }\n",
              "    60% {\n",
              "      border-color: transparent;\n",
              "      border-right-color: var(--fill-color);\n",
              "    }\n",
              "    80% {\n",
              "      border-color: transparent;\n",
              "      border-right-color: var(--fill-color);\n",
              "      border-bottom-color: var(--fill-color);\n",
              "    }\n",
              "    90% {\n",
              "      border-color: transparent;\n",
              "      border-bottom-color: var(--fill-color);\n",
              "    }\n",
              "  }\n",
              "</style>\n",
              "\n",
              "  <script>\n",
              "    async function quickchart(key) {\n",
              "      const quickchartButtonEl =\n",
              "        document.querySelector('#' + key + ' button');\n",
              "      quickchartButtonEl.disabled = true;  // To prevent multiple clicks.\n",
              "      quickchartButtonEl.classList.add('colab-df-spinner');\n",
              "      try {\n",
              "        const charts = await google.colab.kernel.invokeFunction(\n",
              "            'suggestCharts', [key], {});\n",
              "      } catch (error) {\n",
              "        console.error('Error during call to suggestCharts:', error);\n",
              "      }\n",
              "      quickchartButtonEl.classList.remove('colab-df-spinner');\n",
              "      quickchartButtonEl.classList.add('colab-df-quickchart-complete');\n",
              "    }\n",
              "    (() => {\n",
              "      let quickchartButtonEl =\n",
              "        document.querySelector('#df-8bff4cc8-1355-4c9b-b3c4-55d46acece42 button');\n",
              "      quickchartButtonEl.style.display =\n",
              "        google.colab.kernel.accessAllowed ? 'block' : 'none';\n",
              "    })();\n",
              "  </script>\n",
              "</div>\n",
              "    </div>\n",
              "  </div>\n"
            ],
            "application/vnd.google.colaboratory.intrinsic+json": {
              "type": "dataframe",
              "summary": "{\n  \"name\": \"quantitative_variable\",\n  \"rows\": 10,\n  \"fields\": [\n    {\n      \"column\": \"ID\",\n      \"properties\": {\n        \"dtype\": \"number\",\n        \"std\": 0.30171352580286603,\n        \"min\": 0.002672904356296146,\n        \"max\": 1.0,\n        \"num_unique_values\": 10,\n        \"samples\": [\n          0.09304388109271262,\n          0.2511958064796687,\n          0.03593356050943712\n        ],\n        \"semantic_type\": \"\",\n        \"description\": \"\"\n      }\n    },\n    {\n      \"column\": \"Call__Failure\",\n      \"properties\": {\n        \"dtype\": \"number\",\n        \"std\": 0.3160810035907257,\n        \"min\": -0.02228238422747066,\n        \"max\": 1.0,\n        \"num_unique_values\": 10,\n        \"samples\": [\n          0.041757649344159854,\n          1.0,\n          0.5733493631241342\n        ],\n        \"semantic_type\": \"\",\n        \"description\": \"\"\n      }\n    },\n    {\n      \"column\": \"Subscription__Length\",\n      \"properties\": {\n        \"dtype\": \"number\",\n        \"std\": 0.29040088114924045,\n        \"min\": -0.002429695801197507,\n        \"max\": 1.0,\n        \"num_unique_values\": 10,\n        \"samples\": [\n          -0.002429695801197507,\n          0.1697372744699281,\n          0.10653393512221586\n        ],\n        \"semantic_type\": \"\",\n        \"description\": \"\"\n      }\n    },\n    {\n      \"column\": \"Charge__Amount\",\n      \"properties\": {\n        \"dtype\": \"number\",\n        \"std\": 0.28068426871794533,\n        \"min\": 0.0787893495024629,\n        \"max\": 1.0,\n        \"num_unique_values\": 10,\n        \"samples\": [\n          0.27895523241834075,\n          0.5890280071544302,\n          0.37909588592652294\n        ],\n        \"semantic_type\": \"\",\n        \"description\": \"\"\n      }\n    },\n    {\n      \"column\": \"Secondes_Utilisation\",\n      \"properties\": {\n        \"dtype\": \"number\",\n        \"std\": 0.363748257333427,\n        \"min\": 0.020842866803369102,\n        \"max\": 1.0,\n        \"num_unique_values\": 10,\n        \"samples\": [\n          0.020842866803369102,\n          0.5016065883394938,\n          0.9464892281674117\n        ],\n        \"semantic_type\": \"\",\n        \"description\": \"\"\n      }\n    },\n    {\n      \"column\": \"Frequence_Utilisation\",\n      \"properties\": {\n        \"dtype\": \"number\",\n        \"std\": 0.37829486684581676,\n        \"min\": -0.028349813797265706,\n        \"max\": 1.0,\n        \"num_unique_values\": 10,\n        \"samples\": [\n          -0.028349813797265706,\n          0.5733493631241342,\n          1.0\n        ],\n        \"semantic_type\": \"\",\n        \"description\": \"\"\n      }\n    },\n    {\n      \"column\": \"Frequence_SMS\",\n      \"properties\": {\n        \"dtype\": \"number\",\n        \"std\": 0.39266170879507023,\n        \"min\": -0.09279845943661386,\n        \"max\": 1.0,\n        \"num_unique_values\": 10,\n        \"samples\": [\n          -0.09279845943661386,\n          -0.02228238422747066,\n          0.10001920827357448\n        ],\n        \"semantic_type\": \"\",\n        \"description\": \"\"\n      }\n    },\n    {\n      \"column\": \"Numeros_Appeles_Distincts\",\n      \"properties\": {\n        \"dtype\": \"number\",\n        \"std\": 0.3372351009265125,\n        \"min\": 0.03660697937242026,\n        \"max\": 1.0,\n        \"num_unique_values\": 10,\n        \"samples\": [\n          0.05103717697465055,\n          0.5040577394760917,\n          0.7361135333603923\n        ],\n        \"semantic_type\": \"\",\n        \"description\": \"\"\n      }\n    },\n    {\n      \"column\": \"Age\",\n      \"properties\": {\n        \"dtype\": \"number\",\n        \"std\": 0.33646682617893686,\n        \"min\": -0.22036171179913033,\n        \"max\": 1.0,\n        \"num_unique_values\": 10,\n        \"samples\": [\n          1.0,\n          0.041757649344159854,\n          -0.028349813797265706\n        ],\n        \"semantic_type\": \"\",\n        \"description\": \"\"\n      }\n    },\n    {\n      \"column\": \"Valeur_Client\",\n      \"properties\": {\n        \"dtype\": \"number\",\n        \"std\": 0.38648797273657176,\n        \"min\": -0.22036171179913033,\n        \"max\": 1.0,\n        \"num_unique_values\": 10,\n        \"samples\": [\n          -0.22036171179913033,\n          0.12122547807813197,\n          0.4015724637117215\n        ],\n        \"semantic_type\": \"\",\n        \"description\": \"\"\n      }\n    }\n  ]\n}"
            }
          },
          "metadata": {},
          "execution_count": 20
        }
      ]
    },
    {
      "cell_type": "markdown",
      "source": [
        "### c - HEATMAP DE CORRELATION"
      ],
      "metadata": {
        "id": "iInph1osR9z5"
      }
    },
    {
      "cell_type": "code",
      "source": [
        "# Matrice de correlation\n",
        "# renommer la quantitative_variable.corr() en correlation_matrix, titre pls parlant\n",
        "correlation_matrix = quantitative_variable.corr()"
      ],
      "metadata": {
        "id": "7SW-frjIThAC"
      },
      "execution_count": 21,
      "outputs": []
    },
    {
      "cell_type": "code",
      "source": [
        "# c) - Heatmap de correlation à l'aide de Seaborn\n",
        "# créer une Heatmap pour visualiser la matrice de correlation\n",
        "import seaborn as sns\n",
        "sns.heatmap(correlation_matrix, annot = True, cmap = \"coolwarm\", fmt =\".2f\")\n",
        "# annot = True annotation pour afficher les chiffres (valeur de correlation)\n",
        "# cmap = color map ici \"coolwarm\" changer la couleur voulue (froid au chaud)\n",
        "# fmt = \".2f\"(f est float) pour formater le chiffre par exple 2 chiffres après la virgule\n",
        "# 1 en diagonale indique qe chaque var quanti est parfaitement (100%) avecsoi-même"
      ],
      "metadata": {
        "colab": {
          "base_uri": "https://localhost:8080/",
          "height": 630
        },
        "id": "M9vH7Fg-RZTS",
        "outputId": "d59e1548-6fb2-488d-eb2f-abc827d8f6b1"
      },
      "execution_count": 22,
      "outputs": [
        {
          "output_type": "execute_result",
          "data": {
            "text/plain": [
              "<Axes: >"
            ]
          },
          "metadata": {},
          "execution_count": 22
        },
        {
          "output_type": "display_data",
          "data": {
            "text/plain": [
              "<Figure size 640x480 with 2 Axes>"
            ],
            "image/png": "[encoded data removed]"
          },
          "metadata": {}
        }
      ]
    },
    {
      "cell_type": "markdown",
      "source": [],
      "metadata": {
        "id": "Pu7P3Z0LSz2A"
      }
    },
    {
      "cell_type": "code",
      "source": [
        "# en observant notre Heatmap on voit des exples de var quanti très corrolées entre elles:\n",
        "# Frequence_Utilisation et Secondes_Utlisation avec 0.95\n",
        "# Numeros_Appeles_Distincts et Frequence_tilisation avec 0.74\n"
      ],
      "metadata": {
        "id": "EP60MwplWtG3"
      },
      "execution_count": 23,
      "outputs": []
    },
    {
      "cell_type": "markdown",
      "source": [
        "# Question 2\n",
        "# Y a-t-il un lien entre le churn et le dépôt de plaintes ?\n",
        "Cettte question introduit l'analyse de LIAISON entre 2 var quali"
      ],
      "metadata": {
        "id": "AoSkULndamnp"
      }
    },
    {
      "cell_type": "markdown",
      "source": [
        "II - ANALYSE DE LA *LIAISON* ENTRE 2 VARIABLES QUALITATIVES\n"
      ],
      "metadata": {
        "id": "aqD3aWgvZMpK"
      }
    },
    {
      "cell_type": "code",
      "source": [
        "# Analyse graphique\n",
        "# Creation de BARPLOT pour montrer la distribution de churn pour chaque ctegorie de plaintes\n",
        "# revoir rapidement la nature des var (churn, plaintes) dans la question avec dtypes\n",
        "df.dtypes"
      ],
      "metadata": {
        "colab": {
          "base_uri": "https://localhost:8080/"
        },
        "id": "xrea1us7ZWmm",
        "outputId": "3f3a49d1-244c-4da5-b93a-a32f562f2a30"
      },
      "execution_count": 24,
      "outputs": [
        {
          "output_type": "execute_result",
          "data": {
            "text/plain": [
              "ID                             int64\n",
              "Call__Failure                  int64\n",
              "Plaintes                      object\n",
              "Subscription__Length           int64\n",
              "Charge__Amount                 int64\n",
              "Secondes_Utilisation           int64\n",
              "Frequence_Utilisation          int64\n",
              "Frequence_SMS                  int64\n",
              "Numeros_Appeles_Distincts      int64\n",
              "Groupe_Age                    object\n",
              "Plan_Tarifaire                object\n",
              "Statut                        object\n",
              "Age                            int64\n",
              "Valeur_Client                float64\n",
              "Churn                         object\n",
              "dtype: object"
            ]
          },
          "metadata": {},
          "execution_count": 24
        }
      ]
    },
    {
      "cell_type": "code",
      "source": [
        "# les 2 var churn et plaintes sont des \"object\" cad des chaines de carateres (str): ce sont des var quali\n",
        "# il faut d'abord une Analyse graphique (Countplot) ensuite faire des Tests Statistiques"
      ],
      "metadata": {
        "id": "dcvZykO3dPcR"
      },
      "execution_count": 25,
      "outputs": []
    },
    {
      "cell_type": "markdown",
      "source": [
        "- Etape 1 - Analyse Graphique"
      ],
      "metadata": {
        "id": "m7MAnbn1eJT7"
      }
    },
    {
      "cell_type": "code",
      "source": [
        "# avec Seaborn et l'option hue permet d'analyser la var Plaintes en fonction du churn\n",
        "import seaborn as sns\n",
        "sns.countplot(data = df, x = \"Plaintes\", hue = \"Churn\")\n",
        "plt.title(\"Distribution du Churn en fonction des plaintes\")\n",
        "plt.xlabel(\"Plaintes\")\n",
        "plt.ylabel(\"Nombre de clients qui churn\")"
      ],
      "metadata": {
        "colab": {
          "base_uri": "https://localhost:8080/",
          "height": 489
        },
        "id": "nB0yCbQOeQtV",
        "outputId": "e5c0e928-c92f-4a8b-fe73-84642f558df6"
      },
      "execution_count": 31,
      "outputs": [
        {
          "output_type": "execute_result",
          "data": {
            "text/plain": [
              "Text(0, 0.5, 'Nombre de clients qui churn')"
            ]
          },
          "metadata": {},
          "execution_count": 31
        },
        {
          "output_type": "display_data",
          "data": {
            "text/plain": [
              "<Figure size 640x480 with 1 Axes>"
            ],
            "image/png": "[encoded data removed]"
          },
          "metadata": {}
        }
      ]
    },
    {
      "cell_type": "code",
      "source": [
        "# vue le graphique il semble y avoir une liaison entre lenombre de plaintes et le nombre de depart à la concurrence\n",
        "# il faudra confirmer ce soupcon avec les Tests Statis (ici Ki-2 d'independence, car 2 var quali) à l'aide Scipy\n",
        "# Notez dès qu'il s'agit de Test Statis il faut tjrs Scipy"
      ],
      "metadata": {
        "id": "4OuhuOUehOKE"
      },
      "execution_count": 27,
      "outputs": []
    },
    {
      "cell_type": "code",
      "source": [
        "# Test de Chi-deux pour valider les observations en 2 Etapes a et b\n",
        "# importer des packages\n",
        "from scipy.stats import chi2_contingency"
      ],
      "metadata": {
        "id": "18d5MLK9iDNx"
      },
      "execution_count": 28,
      "outputs": []
    },
    {
      "cell_type": "markdown",
      "source": [
        "Etape a : Tableau de Contingence"
      ],
      "metadata": {
        "id": "ofERVfk6io2N"
      }
    },
    {
      "cell_type": "code",
      "source": [
        "# Tableau de Contingence le crosstable (crosstab) de Pandas\n",
        "tableau_contingence = pd.crosstab(df[\"Plaintes\"], df[\"Churn\"])\n",
        "tableau_contingence"
      ],
      "metadata": {
        "colab": {
          "base_uri": "https://localhost:8080/",
          "height": 143
        },
        "id": "cdAgwO8MiuUX",
        "outputId": "769c4d16-ee54-41fd-ded0-97d52fb742f4"
      },
      "execution_count": 29,
      "outputs": [
        {
          "output_type": "execute_result",
          "data": {
            "text/plain": [
              "Churn        0    1\n",
              "Plaintes           \n",
              "0         2614  295\n",
              "1           41  200"
            ],
            "text/html": [
              "\n",
              "  <div id=\"df-c4913af1-ea1b-490d-a65a-6d9a84f2ddce\" class=\"colab-df-container\">\n",
              "    <div>\n",
              "<style scoped>\n",
              "    .dataframe tbody tr th:only-of-type {\n",
              "        vertical-align: middle;\n",
              "    }\n",
              "\n",
              "    .dataframe tbody tr th {\n",
              "        vertical-align: top;\n",
              "    }\n",
              "\n",
              "    .dataframe thead th {\n",
              "        text-align: right;\n",
              "    }\n",
              "</style>\n",
              "<table border=\"1\" class=\"dataframe\">\n",
              "  <thead>\n",
              "    <tr style=\"text-align: right;\">\n",
              "      <th>Churn</th>\n",
              "      <th>0</th>\n",
              "      <th>1</th>\n",
              "    </tr>\n",
              "    <tr>\n",
              "      <th>Plaintes</th>\n",
              "      <th></th>\n",
              "      <th></th>\n",
              "    </tr>\n",
              "  </thead>\n",
              "  <tbody>\n",
              "    <tr>\n",
              "      <th>0</th>\n",
              "      <td>2614</td>\n",
              "      <td>295</td>\n",
              "    </tr>\n",
              "    <tr>\n",
              "      <th>1</th>\n",
              "      <td>41</td>\n",
              "      <td>200</td>\n",
              "    </tr>\n",
              "  </tbody>\n",
              "</table>\n",
              "</div>\n",
              "    <div class=\"colab-df-buttons\">\n",
              "\n",
              "  <div class=\"colab-df-container\">\n",
              "    <button class=\"colab-df-convert\" onclick=\"convertToInteractive('df-c4913af1-ea1b-490d-a65a-6d9a84f2ddce')\"\n",
              "            title=\"Convert this dataframe to an interactive table.\"\n",
              "            style=\"display:none;\">\n",
              "\n",
              "  <svg xmlns=\"http://www.w3.org/2000/svg\" height=\"24px\" viewBox=\"0 -960 960 960\">\n",
              "    <path d=\"M120-120v-720h720v720H120Zm60-500h600v-160H180v160Zm220 220h160v-160H400v160Zm0 220h160v-160H400v160ZM180-400h160v-160H180v160Zm440 0h160v-160H620v160ZM180-180h160v-160H180v160Zm440 0h160v-160H620v160Z\"/>\n",
              "  </svg>\n",
              "    </button>\n",
              "\n",
              "  <style>\n",
              "    .colab-df-container {\n",
              "      display:flex;\n",
              "      gap: 12px;\n",
              "    }\n",
              "\n",
              "    .colab-df-convert {\n",
              "      background-color: #E8F0FE;\n",
              "      border: none;\n",
              "      border-radius: 50%;\n",
              "      cursor: pointer;\n",
              "      display: none;\n",
              "      fill: #1967D2;\n",
              "      height: 32px;\n",
              "      padding: 0 0 0 0;\n",
              "      width: 32px;\n",
              "    }\n",
              "\n",
              "    .colab-df-convert:hover {\n",
              "      background-color: #E2EBFA;\n",
              "      box-shadow: 0px 1px 2px rgba(60, 64, 67, 0.3), 0px 1px 3px 1px rgba(60, 64, 67, 0.15);\n",
              "      fill: #174EA6;\n",
              "    }\n",
              "\n",
              "    .colab-df-buttons div {\n",
              "      margin-bottom: 4px;\n",
              "    }\n",
              "\n",
              "    [theme=dark] .colab-df-convert {\n",
              "      background-color: #3B4455;\n",
              "      fill: #D2E3FC;\n",
              "    }\n",
              "\n",
              "    [theme=dark] .colab-df-convert:hover {\n",
              "      background-color: #434B5C;\n",
              "      box-shadow: 0px 1px 3px 1px rgba(0, 0, 0, 0.15);\n",
              "      filter: drop-shadow(0px 1px 2px rgba(0, 0, 0, 0.3));\n",
              "      fill: #FFFFFF;\n",
              "    }\n",
              "  </style>\n",
              "\n",
              "    <script>\n",
              "      const buttonEl =\n",
              "        document.querySelector('#df-c4913af1-ea1b-490d-a65a-6d9a84f2ddce button.colab-df-convert');\n",
              "      buttonEl.style.display =\n",
              "        google.colab.kernel.accessAllowed ? 'block' : 'none';\n",
              "\n",
              "      async function convertToInteractive(key) {\n",
              "        const element = document.querySelector('#df-c4913af1-ea1b-490d-a65a-6d9a84f2ddce');\n",
              "        const dataTable =\n",
              "          await google.colab.kernel.invokeFunction('convertToInteractive',\n",
              "                                                    [key], {});\n",
              "        if (!dataTable) return;\n",
              "\n",
              "        const docLinkHtml = 'Like what you see? Visit the ' +\n",
              "          '<a target=\"_blank\" href=https://colab.research.google.com/notebooks/data_table.ipynb>data table notebook</a>'\n",
              "          + ' to learn more about interactive tables.';\n",
              "        element.innerHTML = '';\n",
              "        dataTable['output_type'] = 'display_data';\n",
              "        await google.colab.output.renderOutput(dataTable, element);\n",
              "        const docLink = document.createElement('div');\n",
              "        docLink.innerHTML = docLinkHtml;\n",
              "        element.appendChild(docLink);\n",
              "      }\n",
              "    </script>\n",
              "  </div>\n",
              "\n",
              "\n",
              "<div id=\"df-c775e3de-ce53-4558-b3ff-e2b923261418\">\n",
              "  <button class=\"colab-df-quickchart\" onclick=\"quickchart('df-c775e3de-ce53-4558-b3ff-e2b923261418')\"\n",
              "            title=\"Suggest charts\"\n",
              "            style=\"display:none;\">\n",
              "\n",
              "<svg xmlns=\"http://www.w3.org/2000/svg\" height=\"24px\"viewBox=\"0 0 24 24\"\n",
              "     width=\"24px\">\n",
              "    <g>\n",
              "        <path d=\"M19 3H5c-1.1 0-2 .9-2 2v14c0 1.1.9 2 2 2h14c1.1 0 2-.9 2-2V5c0-1.1-.9-2-2-2zM9 17H7v-7h2v7zm4 0h-2V7h2v10zm4 0h-2v-4h2v4z\"/>\n",
              "    </g>\n",
              "</svg>\n",
              "  </button>\n",
              "\n",
              "<style>\n",
              "  .colab-df-quickchart {\n",
              "      --bg-color: #E8F0FE;\n",
              "      --fill-color: #1967D2;\n",
              "      --hover-bg-color: #E2EBFA;\n",
              "      --hover-fill-color: #174EA6;\n",
              "      --disabled-fill-color: #AAA;\n",
              "      --disabled-bg-color: #DDD;\n",
              "  }\n",
              "\n",
              "  [theme=dark] .colab-df-quickchart {\n",
              "      --bg-color: #3B4455;\n",
              "      --fill-color: #D2E3FC;\n",
              "      --hover-bg-color: #434B5C;\n",
              "      --hover-fill-color: #FFFFFF;\n",
              "      --disabled-bg-color: #3B4455;\n",
              "      --disabled-fill-color: #666;\n",
              "  }\n",
              "\n",
              "  .colab-df-quickchart {\n",
              "    background-color: var(--bg-color);\n",
              "    border: none;\n",
              "    border-radius: 50%;\n",
              "    cursor: pointer;\n",
              "    display: none;\n",
              "    fill: var(--fill-color);\n",
              "    height: 32px;\n",
              "    padding: 0;\n",
              "    width: 32px;\n",
              "  }\n",
              "\n",
              "  .colab-df-quickchart:hover {\n",
              "    background-color: var(--hover-bg-color);\n",
              "    box-shadow: 0 1px 2px rgba(60, 64, 67, 0.3), 0 1px 3px 1px rgba(60, 64, 67, 0.15);\n",
              "    fill: var(--button-hover-fill-color);\n",
              "  }\n",
              "\n",
              "  .colab-df-quickchart-complete:disabled,\n",
              "  .colab-df-quickchart-complete:disabled:hover {\n",
              "    background-color: var(--disabled-bg-color);\n",
              "    fill: var(--disabled-fill-color);\n",
              "    box-shadow: none;\n",
              "  }\n",
              "\n",
              "  .colab-df-spinner {\n",
              "    border: 2px solid var(--fill-color);\n",
              "    border-color: transparent;\n",
              "    border-bottom-color: var(--fill-color);\n",
              "    animation:\n",
              "      spin 1s steps(1) infinite;\n",
              "  }\n",
              "\n",
              "  @keyframes spin {\n",
              "    0% {\n",
              "      border-color: transparent;\n",
              "      border-bottom-color: var(--fill-color);\n",
              "      border-left-color: var(--fill-color);\n",
              "    }\n",
              "    20% {\n",
              "      border-color: transparent;\n",
              "      border-left-color: var(--fill-color);\n",
              "      border-top-color: var(--fill-color);\n",
              "    }\n",
              "    30% {\n",
              "      border-color: transparent;\n",
              "      border-left-color: var(--fill-color);\n",
              "      border-top-color: var(--fill-color);\n",
              "      border-right-color: var(--fill-color);\n",
              "    }\n",
              "    40% {\n",
              "      border-color: transparent;\n",
              "      border-right-color: var(--fill-color);\n",
              "      border-top-color: var(--fill-color);\n",
              "    }\n",
              "    60% {\n",
              "      border-color: transparent;\n",
              "      border-right-color: var(--fill-color);\n",
              "    }\n",
              "    80% {\n",
              "      border-color: transparent;\n",
              "      border-right-color: var(--fill-color);\n",
              "      border-bottom-color: var(--fill-color);\n",
              "    }\n",
              "    90% {\n",
              "      border-color: transparent;\n",
              "      border-bottom-color: var(--fill-color);\n",
              "    }\n",
              "  }\n",
              "</style>\n",
              "\n",
              "  <script>\n",
              "    async function quickchart(key) {\n",
              "      const quickchartButtonEl =\n",
              "        document.querySelector('#' + key + ' button');\n",
              "      quickchartButtonEl.disabled = true;  // To prevent multiple clicks.\n",
              "      quickchartButtonEl.classList.add('colab-df-spinner');\n",
              "      try {\n",
              "        const charts = await google.colab.kernel.invokeFunction(\n",
              "            'suggestCharts', [key], {});\n",
              "      } catch (error) {\n",
              "        console.error('Error during call to suggestCharts:', error);\n",
              "      }\n",
              "      quickchartButtonEl.classList.remove('colab-df-spinner');\n",
              "      quickchartButtonEl.classList.add('colab-df-quickchart-complete');\n",
              "    }\n",
              "    (() => {\n",
              "      let quickchartButtonEl =\n",
              "        document.querySelector('#df-c775e3de-ce53-4558-b3ff-e2b923261418 button');\n",
              "      quickchartButtonEl.style.display =\n",
              "        google.colab.kernel.accessAllowed ? 'block' : 'none';\n",
              "    })();\n",
              "  </script>\n",
              "</div>\n",
              "    </div>\n",
              "  </div>\n"
            ],
            "application/vnd.google.colaboratory.intrinsic+json": {
              "type": "dataframe",
              "variable_name": "tableau_contingence",
              "summary": "{\n  \"name\": \"tableau_contingence\",\n  \"rows\": 2,\n  \"fields\": [\n    {\n      \"column\": \"Plaintes\",\n      \"properties\": {\n        \"dtype\": \"number\",\n        \"std\": 0,\n        \"min\": 0,\n        \"max\": 1,\n        \"num_unique_values\": 2,\n        \"samples\": [\n          1,\n          0\n        ],\n        \"semantic_type\": \"\",\n        \"description\": \"\"\n      }\n    },\n    {\n      \"column\": 0,\n      \"properties\": {\n        \"dtype\": \"number\",\n        \"std\": 1819,\n        \"min\": 41,\n        \"max\": 2614,\n        \"num_unique_values\": 2,\n        \"samples\": [\n          41,\n          2614\n        ],\n        \"semantic_type\": \"\",\n        \"description\": \"\"\n      }\n    },\n    {\n      \"column\": 1,\n      \"properties\": {\n        \"dtype\": \"number\",\n        \"std\": 67,\n        \"min\": 200,\n        \"max\": 295,\n        \"num_unique_values\": 2,\n        \"samples\": [\n          200,\n          295\n        ],\n        \"semantic_type\": \"\",\n        \"description\": \"\"\n      }\n    }\n  ]\n}"
            }
          },
          "metadata": {},
          "execution_count": 29
        }
      ]
    },
    {
      "cell_type": "code",
      "source": [
        "# le tableau de contingence affiche leseffectif par categorie\n",
        "# interpretation du tableau: 0 plaintes 2614 n'ont pas churner déjà avec 1 Plainte 41 n'on pas churner\n",
        "# par contre 200 sont partis à la concurrence"
      ],
      "metadata": {
        "id": "rUd9QUUwkNvF"
      },
      "execution_count": 30,
      "outputs": []
    },
    {
      "cell_type": "markdown",
      "source": [
        "Etape b - Test statistique"
      ],
      "metadata": {
        "id": "-Mp3PspnY9gj"
      }
    },
    {
      "cell_type": "code",
      "source": [
        "# test satatistique\n",
        "test = chi2_contingency(tableau_contingence)\n",
        "test"
      ],
      "metadata": {
        "colab": {
          "base_uri": "https://localhost:8080/"
        },
        "id": "NiwoPY5BY9AU",
        "outputId": "d6bb5e53-f5af-433f-f0e8-cadf78258fb2"
      },
      "execution_count": 33,
      "outputs": [
        {
          "output_type": "execute_result",
          "data": {
            "text/plain": [
              "Chi2ContingencyResult(statistic=886.2116236265656, pvalue=9.75604260522434e-195, dof=1, expected_freq=array([[2451.87142857,  457.12857143],\n",
              "       [ 203.12857143,   37.87142857]]))"
            ]
          },
          "metadata": {},
          "execution_count": 33
        }
      ]
    },
    {
      "cell_type": "code",
      "source": [
        "# vue les resultats du test surtout pvalue très faible confirme bien qu'il y a une LIAISON entre les 2 var  quali\n",
        "# et qu'on ne peut pas accepter l'hypothèse Null (qui dit n'y a pasde liaison), hypothèse alternative est valide\n",
        "# Pour avoir l'intensité de la liaison on calcule le V de Cramer"
      ],
      "metadata": {
        "id": "Woai_kG7Z1Qh"
      },
      "execution_count": null,
      "outputs": []
    },
    {
      "cell_type": "markdown",
      "source": [
        "Etape b - Calcul du V de Cramer"
      ],
      "metadata": {
        "id": "_k9vuq3AbTQy"
      }
    },
    {
      "cell_type": "code",
      "source": [
        "# il nous faut importer scipy et utiliser la fonction\n",
        "from scipy.stats.contingency import association\n",
        "association(tableau_contingence, method = \"cramer\")\n"
      ],
      "metadata": {
        "colab": {
          "base_uri": "https://localhost:8080/"
        },
        "id": "zOY__eN8balr",
        "outputId": "16bc8fd8-d0d2-4d2b-c55c-f274c1c7379c"
      },
      "execution_count": 34,
      "outputs": [
        {
          "output_type": "execute_result",
          "data": {
            "text/plain": [
              "0.5320529624895493"
            ]
          },
          "metadata": {},
          "execution_count": 34
        }
      ]
    },
    {
      "cell_type": "code",
      "source": [
        "# la relation est très forte-  V de cramer plus tend vers 50% plus la relation est forte.C#est un signal d'alarme\n",
        "# que ces clients vont partir à la concurrence"
      ],
      "metadata": {
        "id": "LLce4BP5cnzR"
      },
      "execution_count": null,
      "outputs": []
    },
    {
      "cell_type": "markdown",
      "source": [
        "Etape b (bis) - le T deTschuprow\n",
        "- Quand les variables n'ont pas le même nombre de modalités"
      ],
      "metadata": {
        "id": "XrhUAwegdLUM"
      }
    },
    {
      "cell_type": "code",
      "source": [
        "# T de Tschuprow (c'est un peu comme un cramer amelioré), le calcul donnera la même valeur\n",
        "from scipy.stats.contingency import association\n",
        "association(tableau_contingence, method = \"tschuprow\")"
      ],
      "metadata": {
        "colab": {
          "base_uri": "https://localhost:8080/"
        },
        "id": "jL1IlFGNd0B0",
        "outputId": "b903f912-82db-4d5f-abfd-4d972fc653a2"
      },
      "execution_count": 36,
      "outputs": [
        {
          "output_type": "execute_result",
          "data": {
            "text/plain": [
              "0.5320529624895493"
            ]
          },
          "metadata": {},
          "execution_count": 36
        }
      ]
    },
    {
      "cell_type": "markdown",
      "source": [
        "# Question 3\n",
        "# Y a-t- un lien entre le Churn et la Valeur Client?\n",
        "- ceci introduit la notion d'analyse d'une var quali et une var quali"
      ],
      "metadata": {
        "id": "WsYSj57uecPc"
      }
    },
    {
      "cell_type": "markdown",
      "source": [
        "Etape 1 Analyse Graphique"
      ],
      "metadata": {
        "id": "nzWOXwgTfb6v"
      }
    },
    {
      "cell_type": "markdown",
      "source": [
        " - ### Analyse graphique avec Seaborn"
      ],
      "metadata": {
        "id": "oPJ2Y0gFjGOp"
      }
    },
    {
      "cell_type": "markdown",
      "source": [],
      "metadata": {
        "id": "H0DwttcBN4tJ"
      }
    },
    {
      "cell_type": "code",
      "source": [
        "# Analyse graphique\n",
        "# il faudra mettre en place un BoxPlot de Seaborn avec en x la var quali et en y la var quanti\n",
        "import seaborn as sns\n",
        "sns.boxplot(x = \"Churn\", y= \"Valeur_Client\", data = df, hue =\"Churn\")\n"
      ],
      "metadata": {
        "colab": {
          "base_uri": "https://localhost:8080/",
          "height": 466
        },
        "id": "K_HUfj2YfYaZ",
        "outputId": "2522ed49-010b-43da-a85b-dcbbd6638394"
      },
      "execution_count": 39,
      "outputs": [
        {
          "output_type": "execute_result",
          "data": {
            "text/plain": [
              "<Axes: xlabel='Churn', ylabel='Valeur_Client'>"
            ]
          },
          "metadata": {},
          "execution_count": 39
        },
        {
          "output_type": "display_data",
          "data": {
            "text/plain": [
              "<Figure size 640x480 with 1 Axes>"
            ],
            "image/png": "[encoded data removed]"
          },
          "metadata": {}
        }
      ]
    },
    {
      "cell_type": "code",
      "source": [
        "# avec l'ajout de hue on a changé la couleur en fonction des categories des var"
      ],
      "metadata": {
        "id": "7mmTvULWh6P_"
      },
      "execution_count": null,
      "outputs": []
    },
    {
      "cell_type": "markdown",
      "source": [],
      "metadata": {
        "id": "1XwJextdi_S9"
      }
    },
    {
      "cell_type": "markdown",
      "source": [
        "- ### Analyse graphique avec Plotly\n",
        " avantage de l'affichage des valeurs sur le graphique selon la position du curseur"
      ],
      "metadata": {
        "id": "P5Sj5cRZjPpz"
      }
    },
    {
      "cell_type": "code",
      "source": [
        "# Analyse graphique avec Plotly Express\n",
        "import plotly.express as px\n",
        "# supposons que df est otre Dataframe\n",
        "\n",
        "# creation du Boplot avec Plotly Expess\n",
        "fig = px.box(df, x=\"Churn\", y=\"Valeur_Client\", color=\"Churn\",\n",
        "             labels={\"Churn\": \"statut de Churn\", \"Valeur_Client\": \"Valeur_Client\"},\n",
        "             title=\"Distribution de la Valeur Client par statut de Churn\")\n",
        "\n",
        "# Afficher le Graphique\n",
        "fig.show()"
      ],
      "metadata": {
        "colab": {
          "base_uri": "https://localhost:8080/",
          "height": 542
        },
        "id": "78EYENgni9L0",
        "outputId": "fab68329-101c-4f84-9229-263b8124b22b"
      },
      "execution_count": 44,
      "outputs": [
        {
          "output_type": "display_data",
          "data": {
            "text/html": [
              "<html>\n",
              "<head><meta charset=\"utf-8\" /></head>\n",
              "<body>\n",
              "    <div>            <script src=\"https://cdnjs.cloudflare.com/ajax/libs/mathjax/2.7.5/MathJax.js?config=TeX-AMS-MML_SVG\"></script><script type=\"text/javascript\">if (window.MathJax && window.MathJax.Hub && window.MathJax.Hub.Config) {window.MathJax.Hub.Config({SVG: {font: \"STIX-Web\"}});}</script>                <script type=\"text/javascript\">window.PlotlyConfig = {MathJaxConfig: 'local'};</script>\n",
              "        <script charset=\"utf-8\" src=\"https://cdn.plot.ly/plotly-2.24.1.min.js\"></script>                <div id=\"6e1fa181-2453-42d9-b95a-028deb9daa52\" class=\"plotly-graph-div\" style=\"height:525px; width:100%;\"></div>            <script type=\"text/javascript\">                                    window.PLOTLYENV=window.PLOTLYENV || {};                                    if (document.getElementById(\"6e1fa181-2453-42d9-b95a-028deb9daa52\")) {                    Plotly.newPlot(                        \"6e1fa181-2453-42d9-b95a-028deb9daa52\",                        [{\"alignmentgroup\":\"True\",\"hovertemplate\":\"statut de Churn=%{x}\\u003cbr\\u003eValeur_Client=%{y}\\u003cextra\\u003e\\u003c\\u002fextra\\u003e\",\"legendgroup\":\"0\",\"marker\":{\"color\":\"#636efa\"},\"name\":\"0\",\"notched\":false,\"offsetgroup\":\"0\",\"orientation\":\"v\",\"showlegend\":true,\"x\":[0,0,0,0,0,0,0,0,0,0,0,0,0,0,0,0,0,0,0,0,0,0,0,0,0,0,0,0,0,0,0,0,0,0,0,0,0,0,0,0,0,0,0,0,0,0,0,0,0,0,0,0,0,0,0,0,0,0,0,0,0,0,0,0,0,0,0,0,0,0,0,0,0,0,0,0,0,0,0,0,0,0,0,0,0,0,0,0,0,0,0,0,0,0,0,0,0,0,0,0,0,0,0,0,0,0,0,0,0,0,0,0,0,0,0,0,0,0,0,0,0,0,0,0,0,0,0,0,0,0,0,0,0,0,0,0,0,0,0,0,0,0,0,0,0,0,0,0,0,0,0,0,0,0,0,0,0,0,0,0,0,0,0,0,0,0,0,0,0,0,0,0,0,0,0,0,0,0,0,0,0,0,0,0,0,0,0,0,0,0,0,0,0,0,0,0,0,0,0,0,0,0,0,0,0,0,0,0,0,0,0,0,0,0,0,0,0,0,0,0,0,0,0,0,0,0,0,0,0,0,0,0,0,0,0,0,0,0,0,0,0,0,0,0,0,0,0,0,0,0,0,0,0,0,0,0,0,0,0,0,0,0,0,0,0,0,0,0,0,0,0,0,0,0,0,0,0,0,0,0,0,0,0,0,0,0,0,0,0,0,0,0,0,0,0,0,0,0,0,0,0,0,0,0,0,0,0,0,0,0,0,0,0,0,0,0,0,0,0,0,0,0,0,0,0,0,0,0,0,0,0,0,0,0,0,0,0,0,0,0,0,0,0,0,0,0,0,0,0,0,0,0,0,0,0,0,0,0,0,0,0,0,0,0,0,0,0,0,0,0,0,0,0,0,0,0,0,0,0,0,0,0,0,0,0,0,0,0,0,0,0,0,0,0,0,0,0,0,0,0,0,0,0,0,0,0,0,0,0,0,0,0,0,0,0,0,0,0,0,0,0,0,0,0,0,0,0,0,0,0,0,0,0,0,0,0,0,0,0,0,0,0,0,0,0,0,0,0,0,0,0,0,0,0,0,0,0,0,0,0,0,0,0,0,0,0,0,0,0,0,0,0,0,0,0,0,0,0,0,0,0,0,0,0,0,0,0,0,0,0,0,0,0,0,0,0,0,0,0,0,0,0,0,0,0,0,0,0,0,0,0,0,0,0,0,0,0,0,0,0,0,0,0,0,0,0,0,0,0,0,0,0,0,0,0,0,0,0,0,0,0,0,0,0,0,0,0,0,0,0,0,0,0,0,0,0,0,0,0,0,0,0,0,0,0,0,0,0,0,0,0,0,0,0,0,0,0,0,0,0,0,0,0,0,0,0,0,0,0,0,0,0,0,0,0,0,0,0,0,0,0,0,0,0,0,0,0,0,0,0,0,0,0,0,0,0,0,0,0,0,0,0,0,0,0,0,0,0,0,0,0,0,0,0,0,0,0,0,0,0,0,0,0,0,0,0,0,0,0,0,0,0,0,0,0,0,0,0,0,0,0,0,0,0,0,0,0,0,0,0,0,0,0,0,0,0,0,0,0,0,0,0,0,0,0,0,0,0,0,0,0,0,0,0,0,0,0,0,0,0,0,0,0,0,0,0,0,0,0,0,0,0,0,0,0,0,0,0,0,0,0,0,0,0,0,0,0,0,0,0,0,0,0,0,0,0,0,0,0,0,0,0,0,0,0,0,0,0,0,0,0,0,0,0,0,0,0,0,0,0,0,0,0,0,0,0,0,0,0,0,0,0,0,0,0,0,0,0,0,0,0,0,0,0,0,0,0,0,0,0,0,0,0,0,0,0,0,0,0,0,0,0,0,0,0,0,0,0,0,0,0,0,0,0,0,0,0,0,0,0,0,0,0,0,0,0,0,0,0,0,0,0,0,0,0,0,0,0,0,0,0,0,0,0,0,0,0,0,0,0,0,0,0,0,0,0,0,0,0,0,0,0,0,0,0,0,0,0,0,0,0,0,0,0,0,0,0,0,0,0,0,0,0,0,0,0,0,0,0,0,0,0,0,0,0,0,0,0,0,0,0,0,0,0,0,0,0,0,0,0,0,0,0,0,0,0,0,0,0,0,0,0,0,0,0,0,0,0,0,0,0,0,0,0,0,0,0,0,0,0,0,0,0,0,0,0,0,0,0,0,0,0,0,0,0,0,0,0,0,0,0,0,0,0,0,0,0,0,0,0,0,0,0,0,0,0,0,0,0,0,0,0,0,0,0,0,0,0,0,0,0,0,0,0,0,0,0,0,0,0,0,0,0,0,0,0,0,0,0,0,0,0,0,0,0,0,0,0,0,0,0,0,0,0,0,0,0,0,0,0,0,0,0,0,0,0,0,0,0,0,0,0,0,0,0,0,0,0,0,0,0,0,0,0,0,0,0,0,0,0,0,0,0,0,0,0,0,0,0,0,0,0,0,0,0,0,0,0,0,0,0,0,0,0,0,0,0,0,0,0,0,0,0,0,0,0,0,0,0,0,0,0,0,0,0,0,0,0,0,0,0,0,0,0,0,0,0,0,0,0,0,0,0,0,0,0,0,0,0,0,0,0,0,0,0,0,0,0,0,0,0,0,0,0,0,0,0,0,0,0,0,0,0,0,0,0,0,0,0,0,0,0,0,0,0,0,0,0,0,0,0,0,0,0,0,0,0,0,0,0,0,0,0,0,0,0,0,0,0,0,0,0,0,0,0,0,0,0,0,0,0,0,0,0,0,0,0,0,0,0,0,0,0,0,0,0,0,0,0,0,0,0,0,0,0,0,0,0,0,0,0,0,0,0,0,0,0,0,0,0,0,0,0,0,0,0,0,0,0,0,0,0,0,0,0,0,0,0,0,0,0,0,0,0,0,0,0,0,0,0,0,0,0,0,0,0,0,0,0,0,0,0,0,0,0,0,0,0,0,0,0,0,0,0,0,0,0,0,0,0,0,0,0,0,0,0,0,0,0,0,0,0,0,0,0,0,0,0,0,0,0,0,0,0,0,0,0,0,0,0,0,0,0,0,0,0,0,0,0,0,0,0,0,0,0,0,0,0,0,0,0,0,0,0,0,0,0,0,0,0,0,0,0,0,0,0,0,0,0,0,0,0,0,0,0,0,0,0,0,0,0,0,0,0,0,0,0,0,0,0,0,0,0,0,0,0,0,0,0,0,0,0,0,0,0,0,0,0,0,0,0,0,0,0,0,0,0,0,0,0,0,0,0,0,0,0,0,0,0,0,0,0,0,0,0,0,0,0,0,0,0,0,0,0,0,0,0,0,0,0,0,0,0,0,0,0,0,0,0,0,0,0,0,0,0,0,0,0,0,0,0,0,0,0,0,0,0,0,0,0,0,0,0,0,0,0,0,0,0,0,0,0,0,0,0,0,0,0,0,0,0,0,0,0,0,0,0,0,0,0,0,0,0,0,0,0,0,0,0,0,0,0,0,0,0,0,0,0,0,0,0,0,0,0,0,0,0,0,0,0,0,0,0,0,0,0,0,0,0,0,0,0,0,0,0,0,0,0,0,0,0,0,0,0,0,0,0,0,0,0,0,0,0,0,0,0,0,0,0,0,0,0,0,0,0,0,0,0,0,0,0,0,0,0,0,0,0,0,0,0,0,0,0,0,0,0,0,0,0,0,0,0,0,0,0,0,0,0,0,0,0,0,0,0,0,0,0,0,0,0,0,0,0,0,0,0,0,0,0,0,0,0,0,0,0,0,0,0,0,0,0,0,0,0,0,0,0,0,0,0,0,0,0,0,0,0,0,0,0,0,0,0,0,0,0,0,0,0,0,0,0,0,0,0,0,0,0,0,0,0,0,0,0,0,0,0,0,0,0,0,0,0,0,0,0,0,0,0,0,0,0,0,0,0,0,0,0,0,0,0,0,0,0,0,0,0,0,0,0,0,0,0,0,0,0,0,0,0,0,0,0,0,0,0,0,0,0,0,0,0,0,0,0,0,0,0,0,0,0,0,0,0,0,0,0,0,0,0,0,0,0,0,0,0,0,0,0,0,0,0,0,0,0,0,0,0,0,0,0,0,0,0,0,0,0,0,0,0,0,0,0,0,0,0,0,0,0,0,0,0,0,0,0,0,0,0,0,0,0,0,0,0,0,0,0,0,0,0,0,0,0,0,0,0,0,0,0,0,0,0,0,0,0,0,0,0,0,0,0,0,0,0,0,0,0,0,0,0,0,0,0,0,0,0,0,0,0,0,0,0,0,0,0,0,0,0,0,0,0,0,0,0,0,0,0,0,0,0,0,0,0,0,0,0,0,0,0,0,0,0,0,0,0,0,0,0,0,0,0,0,0,0,0,0,0,0,0,0,0,0,0,0,0,0,0,0,0,0,0,0,0,0,0,0,0,0,0,0,0,0,0,0,0,0,0,0,0,0,0,0,0,0,0,0,0,0,0,0,0,0,0,0,0,0,0,0,0,0,0,0,0,0,0,0,0,0,0,0,0,0,0,0,0,0,0,0,0,0,0,0,0,0,0,0,0,0,0,0,0,0,0,0,0,0,0,0,0,0,0,0,0,0,0,0,0,0,0,0,0,0,0,0,0,0,0,0,0,0,0,0,0,0,0,0,0,0,0,0,0,0,0,0,0,0,0,0,0,0,0,0,0,0,0,0,0,0,0,0,0,0,0,0,0,0,0,0,0,0,0,0,0,0,0,0,0,0,0,0,0,0,0,0,0,0,0,0,0,0,0,0,0,0,0,0,0,0,0,0,0,0,0,0,0,0,0,0,0,0,0,0,0,0,0,0,0,0,0,0,0,0,0,0,0,0,0,0,0,0,0,0,0,0,0,0,0,0,0,0,0,0,0,0,0,0,0,0,0,0,0,0,0,0,0,0,0,0,0,0,0,0,0,0,0,0,0,0,0,0,0,0,0,0,0,0,0,0,0,0,0,0,0,0,0,0,0,0,0,0,0,0,0,0,0,0,0,0,0,0,0,0,0,0,0,0,0,0,0,0,0,0,0,0,0,0,0,0,0,0,0,0,0,0,0,0,0,0,0,0,0,0,0,0,0,0,0,0,0,0,0,0,0,0,0,0,0,0,0,0,0,0,0,0,0,0,0,0,0,0,0,0,0,0,0,0,0,0,0,0,0,0,0,0,0,0,0,0,0,0,0,0,0,0,0,0,0,0,0,0,0,0,0,0,0,0,0,0,0,0,0,0,0,0,0,0,0,0,0,0,0,0,0,0,0,0,0,0,0,0,0,0,0,0,0,0,0,0,0,0,0,0,0,0,0,0,0,0,0,0,0,0,0,0,0,0,0,0,0,0,0,0,0,0,0,0,0,0,0,0,0,0,0,0,0,0,0,0,0,0,0,0,0,0,0,0,0,0,0,0,0,0,0,0,0,0,0,0,0,0,0,0,0,0,0,0,0,0,0,0,0,0,0,0,0,0,0,0,0,0,0,0,0,0,0,0,0,0,0,0,0,0,0,0,0,0,0,0,0,0,0,0,0,0,0,0,0,0,0,0,0,0,0,0,0,0,0,0,0,0,0,0,0,0,0,0,0,0,0,0,0,0,0,0,0,0,0,0,0,0,0,0,0,0,0,0,0,0,0,0,0,0,0,0,0,0,0,0,0,0,0,0,0,0,0,0,0,0,0,0,0,0,0,0,0,0,0,0,0,0,0,0,0,0,0,0,0,0,0,0,0,0,0,0,0,0,0,0,0,0,0,0,0,0,0,0,0,0,0,0,0,0,0,0,0,0,0,0,0,0,0,0,0,0,0,0,0,0,0,0,0,0,0,0,0,0,0,0,0,0,0,0,0,0,0,0,0,0,0,0,0,0,0,0,0,0,0,0,0,0,0,0,0,0,0,0,0,0,0,0,0,0,0,0,0,0,0,0,0,0,0,0,0,0,0,0,0,0,0,0,0,0,0,0,0,0,0,0,0,0,0,0,0,0,0,0,0,0,0,0,0,0,0,0,0,0,0,0,0,0,0,0,0,0,0,0,0],\"x0\":\" \",\"xaxis\":\"x\",\"y\":[197.64,46.035,1536.52,240.02,145.805,282.28,1235.96,945.44,557.68,191.92,268.52,123.68,830.6,2056.88,1380.015,1007.44,80.96,2071.575,317.975,791.685,159.42,114.48,67.72,124.23,11.13,734.085,1538.145,180.0,220.36,914.985,929.295,115.175,77.625,142.065,163.44,203.445,676.53,410.1,239.92,1037.2,220.16,63.44,1559.04,270.985,144.63,304.8,1258.48,967.96,580.2,214.44,291.04,146.2,853.12,2079.4,1405.35,1029.96,65.34,103.48,1863.92,332.05,817.02,167.865,408.555,137.0,56.4,132.675,19.575,759.42,1389.76,182.52,242.88,940.32,848.56,129.25,91.52,87.45,167.4,185.96,228.78,701.865,254.505,262.44,1059.72,197.01,20.7,1703.25,231.055,131.34,259.76,1213.44,922.92,555.16,181.4,276.75,101.16,808.08,2034.36,1354.68,984.92,37.17,65.745,2046.24,486.24,766.35,261.625,111.96,65.2,192.975,0.0,731.25,1512.81,168.165,197.84,889.65,903.96,101.1,52.29,116.73,140.92,178.11,795.905,396.025,217.4,1014.68,240.92,1579.8,299.53,167.985,325.56,1279.24,988.72,600.96,235.2,311.8,166.96,873.88,2100.16,1428.705,1050.72,88.695,124.24,1884.68,345.025,840.375,175.65,157.76,69.375,140.46,27.36,782.775,1586.835,203.28,263.64,963.675,977.985,142.225,112.28,100.425,190.755,206.72,252.135,725.22,262.29,283.2,1080.48,196.155,0.0,1679.895,230.01,130.295,239.0,1192.68,902.16,554.4,180.64,266.895,88.4,787.32,2013.6,1331.325,964.16,36.315,42.39,2022.885,465.48,742.995,261.15,111.2,64.44,180.0,0.0,730.395,1489.455,167.31,177.08,866.295,880.605,88.125,28.935,27.5,93.375,128.16,154.755,767.36,383.05,196.64,993.92,268.44,111.72,1607.32,337.37,198.945,353.08,1306.76,1016.24,628.48,262.72,339.32,194.48,901.4,2127.68,1459.665,1078.24,119.655,151.76,1912.2,362.225,871.335,185.97,462.87,185.28,86.575,150.78,37.68,813.735,1438.04,230.8,291.16,994.635,896.84,95.655,139.8,117.625,221.715,234.24,251.64,756.18,272.61,310.72,1108.0,187.695,0.0,1648.935,219.67,119.955,237.915,1165.16,874.64,546.88,173.12,258.435,80.88,759.8,1986.08,1300.365,936.64,27.855,20.43,1991.925,453.96,712.035,256.45,103.68,0.0,165.3,721.935,1458.495,158.85,149.56,835.335,849.645,70.925,20.475,15.0,62.415,120.64,123.795,729.52,365.85,169.12,966.4,249.16,103.995,1588.04,310.86,216.645,333.8,1287.48,996.96,609.2,243.44,320.04,175.2,882.12,2108.4,1437.975,1058.96,97.965,132.48,2129.535,350.175,849.645,178.74,441.18,166.0,119.24,143.55,30.45,792.045,1596.105,237.96,271.88,972.945,147.375,135.585,105.575,200.025,214.96,261.405,734.49,442.3,291.44,1088.72,170.12,0.0,1485.0,224.18,124.465,230.76,1184.44,893.92,550.16,176.4,233.0,84.16,779.08,2005.36,1322.055,955.92,31.545,29.44,2013.615,285.775,733.725,155.1,106.96,60.2,104.91,0.0,725.625,1480.185,162.54,168.84,857.025,871.335,82.975,24.165,25.0,84.105,123.92,145.485,618.57,377.9,188.4,985.68,306.04,149.32,1644.92,389.07,241.245,390.68,1344.36,1053.84,666.08,300.32,376.92,232.08,939.0,2165.28,1501.965,1115.84,161.955,189.36,1949.8,385.725,913.635,200.07,505.17,222.88,110.075,164.88,51.78,856.035,1660.095,268.4,1036.935,1051.245,182.925,177.4,141.125,264.015,271.84,325.395,798.48,286.71,348.32,1145.6,172.395,0.0,1606.635,200.97,101.255,173.88,1127.56,837.04,533.28,159.52,243.135,67.28,722.2,1948.48,1258.065,899.04,12.555,5.13,1949.625,440.36,669.735,247.95,90.08,43.32,156.8,0.0,706.635,1416.195,143.55,111.96,793.035,807.345,47.425,5.175,0.0,29.115,107.04,81.495,677.82,342.35,131.52,928.8,330.48,173.76,1669.36,422.675,268.74,415.12,855.5,1078.28,690.52,324.76,401.36,256.52,963.44,1368.575,1529.46,1140.28,189.45,213.8,1974.24,401.0,941.13,209.235,473.48,247.32,125.35,174.045,60.945,883.53,1500.08,292.84,220.75,1064.43,958.88,118.92,201.84,156.4,291.51,296.28,313.68,825.975,295.875,372.76,1170.04,194.4,0.0,1579.14,227.865,128.15,168.12,1103.12,812.6,552.84,179.08,265.14,86.84,697.76,1924.04,1230.57,874.6,34.56,27.135,1922.13,459.92,642.24,260.175,109.64,62.88,169.025,0.0,728.64,1388.7,165.555,87.52,765.54,779.85,37.15,27.18,17.85,51.12,126.6,72.0,644.215,327.075,111.08,904.36,241.28,95.13,1580.16,300.025,205.81,325.92,1279.6,989.08,601.32,235.56,312.16,167.32,874.24,2100.52,1429.11,1051.08,89.1,124.6,2120.67,345.25,840.78,175.785,158.12,111.36,140.595,27.495,783.18,1587.24,229.095,264.0,964.08,142.45,126.72,100.65,191.16,207.08,252.54,725.58,437.35,283.52,1080.84,170.0,5.94,1492.88,224.015,124.3,238.64,1192.32,901.8,550.04,176.28,232.88,84.04,786.96,2013.24,1330.92,963.8,31.41,37.32,2022.48,290.7,742.59,155.055,106.84,60.08,107.865,0.0,725.49,1489.05,162.405,176.72,865.89,880.2,87.9,28.53,46.1,92.97,123.8,154.35,627.39,382.8,196.24,993.56,199.575,14.49,1692.315,234.19,134.475,281.295,1203.72,913.2,557.44,183.68,270.315,91.44,798.36,2024.64,1343.745,975.2,39.735,54.81,2035.305,476.52,755.415,263.05,114.24,67.48,186.9,8.575,733.815,1501.875,170.73,188.12,878.715,893.025,95.025,41.355,53.225,105.795,131.2,167.175,782.485,389.925,207.64,1004.96,229.88,73.16,1568.76,284.35,155.565,314.52,792.625,977.68,589.92,224.16,300.76,155.92,862.84,1305.7,1416.285,1039.68,76.275,113.2,1873.64,338.125,827.955,171.51,372.88,146.72,62.475,136.32,23.22,770.355,1399.48,192.24,157.875,951.255,81.195,101.24,93.525,178.335,195.68,213.08,712.755,258.135,272.12,1069.44,326.48,101.76,1597.36,323.675,187.74,343.12,1296.8,1006.28,618.52,252.76,329.36,184.52,891.44,2117.72,1448.46,1068.28,108.45,141.8,1902.24,356.0,860.13,182.235,451.665,175.32,80.35,147.045,33.945,802.53,1428.08,220.84,281.2,983.43,886.88,153.2,129.84,111.4,210.51,224.28,271.89,744.93,268.86,300.72,1098.04,167.4,0.0,1583.64,194.865,95.15,153.44,1107.12,816.6,528.84,155.08,238.14,62.84,701.76,1928.04,1235.07,878.6,7.56,0.0,1926.63,435.92,646.74,245.175,85.64,38.88,154.025,0.0,701.64,1393.2,138.555,91.52,770.04,784.35,34.65,0.0,0.0,24.12,102.6,58.5,649.66,329.55,111.04,908.36,197.64,46.035,1536.52,240.02,145.805,282.28,1235.96,945.44,557.68,191.92,268.52,123.68,830.6,2056.88,1380.015,1007.44,40.005,80.96,2071.575,317.975,791.685,159.42,114.48,67.72,124.23,11.13,734.085,1538.145,180.0,220.36,914.985,115.175,77.625,73.375,142.065,163.44,203.445,676.485,410.075,239.88,1037.2,197.64,46.035,1536.52,240.02,145.805,282.28,1235.96,945.44,557.68,191.92,268.52,123.68,830.6,2056.88,1380.015,1007.44,40.005,80.96,2071.575,317.975,791.685,159.42,114.48,67.72,124.23,11.13,734.085,1538.145,180.0,220.36,914.985,929.295,115.175,77.625,73.375,142.065,163.44,203.445,676.485,410.075,239.88,1037.2,185.85,0.0,1683.09,217.415,117.7,272.07,1195.52,905.0,545.24,171.48,256.59,83.24,790.16,2016.44,1334.52,967.0,26.01,45.585,2026.08,468.32,746.19,255.425,102.04,55.28,181.775,0.0,720.09,1492.65,157.005,179.92,869.49,89.9,32.13,48.1,96.57,123.0,157.95,771.265,384.825,199.48,996.76,202.185,25.875,1708.425,220.88,121.165,264.36,1218.04,927.52,547.76,174.0,281.925,105.76,812.68,2038.96,1359.855,989.52,28.845,70.92,2051.415,490.84,771.525,257.0,104.56,57.8,195.85,4.41,722.925,1517.985,159.84,202.44,894.825,909.135,103.975,57.465,62.175,121.905,145.52,183.285,802.23,398.9,222.0,1019.28,183.015,0.0,1657.755,175.05,114.235,246.735,1173.0,882.48,542.72,168.96,253.755,76.72,863.595,1993.92,1309.185,944.48,23.175,20.25,2000.745,449.8,720.855,253.85,99.52,52.76,167.7,0.0,717.255,1467.315,154.17,157.4,844.155,858.465,75.825,15.795,22.5,71.235,116.48,132.615,740.3,370.75,176.96,974.24,225.54,49.23,1731.78,199.575,149.71,285.12,1238.8,948.28,560.52,194.76,305.28,126.52,833.44,2059.72,1383.21,1010.28,43.2,94.275,2074.77,511.6,794.88,267.475,117.32,70.56,208.825,10.5,737.28,1541.34,183.195,223.2,918.18,932.49,116.95,80.82,75.15,145.26,166.28,206.64,830.775,411.875,242.76,1040.04,182.16,0.0,1634.4,212.905,113.19,223.38,1152.24,861.72,541.96,168.2,252.9,75.96,746.88,1973.16,1285.83,923.72,22.32,14.895,1977.39,449.04,697.5,253.375,98.76,52.0,162.225,0.0,716.4,1443.96,153.315,136.64,820.8,835.11,62.85,14.94,10.0,47.88,115.72,109.26,711.755,357.775,156.2,953.48,228.0,80.19,1566.88,281.765,187.55,312.64,1266.32,975.8,588.04,222.28,298.88,154.04,860.96,2087.24,1414.17,1037.8,74.16,111.32,2105.73,336.95,825.84,170.805,417.375,144.84,98.08,135.615,22.515,768.24,1572.3,214.155,250.72,949.14,963.45,134.15,111.78,92.35,176.22,193.8,237.6,710.685,429.075,270.28,1067.56,173.7,0.0,1603.44,202.565,102.85,192.42,1124.72,834.2,534.44,160.68,244.44,68.44,809.28,1945.64,1254.87,896.2,0.0,0.0,1946.43,441.52,666.54,248.675,91.24,0.0,157.525,707.94,1413.0,144.855,109.12,789.84,804.15,45.65,0.0,0.0,30.42,108.2,78.3,673.915,340.575,128.68,1041.705,234.81,58.5,1741.05,255.255,161.04,330.03,1247.04,956.52,568.76,203.0,314.55,134.76,841.68,2067.96,1392.48,1018.52,52.47,103.545,2084.04,519.84,804.15,272.625,125.56,78.8,213.975,15.285,746.55,1550.61,192.465,231.44,927.45,941.76,122.1,90.09,80.3,154.53,174.52,215.91,842.105,417.025,251.0,1048.28,177.39,0.0,1625.13,207.075,107.36,214.11,1144.0,853.48,537.72,163.96,248.13,71.72,738.64,1964.92,1276.56,915.48,0.0,0.0,1968.12,444.8,688.23,250.725,94.52,0.0,159.575,0.0,711.63,1434.69,148.545,128.4,811.53,825.84,57.7,10.17,7.5,38.61,111.48,99.99,700.425,352.625,147.96,945.24,298.8,122.49,1805.04,333.465,239.25,350.24,1303.92,1013.4,625.64,259.88,378.54,191.64,898.56,2124.84,1456.47,1075.4,116.46,167.535,2148.03,576.72,868.14,308.175,459.675,182.44,135.68,249.525,36.615,810.54,1614.6,256.455,991.44,1005.75,157.65,154.08,115.85,218.52,231.4,279.9,920.315,452.575,307.88,1105.16,158.4,0.0,1561.14,183.865,84.15,150.12,1087.12,796.6,520.84,147.08,229.14,54.84,681.76,1908.04,1212.57,858.6,0.0,0.0,1904.13,427.92,624.24,240.175,77.64,0.0,149.025,0.0,692.64,1370.7,129.555,71.52,747.54,829.035,22.15,0.0,0.0,0.0,94.6,0.0,622.215,317.075,91.08,888.36,290.04,133.32,1628.92,367.07,223.245,374.68,1328.36,1037.84,650.08,284.32,360.92,216.08,923.0,2149.28,1483.965,1099.84,143.955,173.36,1933.8,375.725,895.635,194.07,206.88,100.075,158.88,45.78,838.035,1642.095,252.4,312.76,1018.935,1033.245,172.925,161.4,131.125,246.015,255.84,307.395,780.48,280.71,332.32,1129.6,180.405,0.0,1533.645,210.76,111.045,154.125,1062.68,772.16,540.4,166.64,251.145,74.4,739.485,1883.6,1185.075,834.16,20.565,13.14,1876.635,447.48,596.745,252.4,97.2,50.44,161.25,0.0,714.645,1343.205,151.56,51.08,720.045,734.355,29.375,13.185,0.0,45.375,114.16,58.005,588.61,301.8,98.64,971.91,225.945,40.5,1732.185,244.42,150.205,321.165,1239.16,948.64,560.88,195.12,305.685,126.88,833.8,2060.08,1383.615,1010.64,43.605,94.68,2075.175,511.96,795.285,267.7,117.68,70.92,209.05,9.0,737.685,1541.745,183.6,223.56,918.585,932.895,117.175,81.225,75.375,145.665,166.64,207.045,831.215,412.075,243.08,1040.4,177.255,0.0,1633.995,169.29,107.195,222.975,1151.88,861.36,537.6,163.84,247.995,71.6,746.52,1972.8,1285.425,923.36,17.415,9.99,1976.985,444.68,697.095,250.65,94.4,47.64,159.5,0.0,711.495,1443.555,148.41,136.28,820.395,834.705,62.625,10.035,12.5,47.475,111.36,108.855,711.205,357.525,155.8,953.12,185.58,0.0,1646.82,217.085,117.37,235.8,1163.28,872.76,545.0,171.24,256.32,79.0,852.66,1984.2,1298.25,934.76,25.74,18.315,1989.81,452.08,709.92,255.275,101.8,55.04,164.125,0.0,719.82,1456.38,156.735,147.68,833.22,847.53,69.75,18.36,28.1,73.7,118.76,121.68,726.88,364.65,167.2,1085.085,189.44,32.72,1528.32,228.745,110.07,274.08,1227.76,937.24,549.48,183.72,260.32,115.48,822.4,2048.68,1370.79,999.24,30.78,72.76,1833.2,312.85,782.46,156.345,106.28,37.2,121.155,8.055,724.86,1528.92,151.8,212.16,905.76,920.07,110.05,60.8,68.25,132.84,155.24,194.22,667.26,242.97,231.68,1029.0,321.795,68.985,1751.535,268.07,173.855,302.68,1256.36,965.84,578.08,212.32,325.035,144.08,851.0,2077.28,1402.965,1027.84,62.955,114.03,2094.525,529.16,814.635,278.45,406.17,134.88,88.12,219.8,18.78,757.035,1561.095,202.95,240.76,937.935,952.245,127.925,100.575,86.125,165.015,183.84,226.395,854.865,422.825,260.28,1057.6,153.405,0.0,1538.145,177.76,78.045,127.125,1066.68,776.16,516.4,142.64,224.145,50.4,743.985,1887.6,1189.575,838.16,0.0,0.0,1881.135,423.48,601.245,237.4,73.2,26.44,146.25,0.0,687.645,1347.705,124.56,51.08,724.545,738.855,14.375,0.0,0.0,10.125,90.16,31.005,594.055,304.275,74.6,867.92,185.85,0.0,1683.09,217.415,117.7,272.07,1195.52,905.0,545.24,171.48,256.59,83.24,790.16,2016.44,1334.52,967.0,26.01,45.585,2026.08,468.32,746.19,255.425,102.04,55.28,181.775,0.0,720.09,1492.65,157.005,179.92,869.49,883.8,89.9,32.13,48.1,96.57,123.0,157.95,771.21,384.8,199.44,996.76,185.85,0.0,1683.09,217.415,117.7,272.07,1195.52,905.0,545.24,171.48,256.59,83.24,790.16,2016.44,1334.52,967.0,26.01,45.585,2026.08,468.32,746.19,255.425,102.04,55.28,181.775,0.0,720.09,1492.65,157.005,179.92,869.49,883.8,89.9,32.13,48.1,96.57,123.0,157.95,771.21,384.8,199.44,996.76,238.08,81.36,1576.96,295.625,164.79,322.72,1276.4,985.88,598.12,232.36,308.96,164.12,871.04,2097.32,1425.51,1047.88,85.5,121.4,1881.84,343.25,837.18,174.585,428.715,154.92,67.6,139.395,26.295,779.58,1407.68,200.44,260.8,960.48,866.48,84.27,109.44,98.65,187.56,203.88,221.28,722.025,261.225,280.36,1077.64,260.6,103.88,1599.48,326.59,190.125,345.24,811.825,1008.4,620.64,159.3,331.48,116.65,893.56,1324.9,1450.845,1070.4,110.835,143.92,1904.36,357.325,862.515,183.03,403.6,177.44,81.675,147.84,34.74,804.915,1430.2,222.96,177.075,985.815,889.0,92.715,131.96,112.725,212.895,226.4,243.8,747.36,269.67,302.88,1100.16,215.56,58.84,1554.44,286.66,152.955,300.2,1253.88,963.36,595.6,221.84,286.44,141.6,848.52,2074.8,1400.175,1025.36,82.665,98.88,1859.32,329.175,811.845,172.14,403.38,152.4,66.025,130.95,15.165,776.745,1558.305,189.92,238.28,935.145,949.455,126.375,86.92,84.575,162.225,181.36,223.605,696.69,252.78,257.84,1055.12,281.36,124.64,1620.24,355.135,213.48,366.0,824.8,1029.16,641.4,275.64,352.24,207.4,914.32,1337.875,1474.2,1091.16,134.19,164.68,1925.12,370.3,885.87,190.815,424.36,198.2,94.65,155.625,42.525,828.27,1450.96,243.72,190.05,1009.17,909.76,100.5,152.72,125.7,236.25,247.16,264.56,770.715,277.455,323.64,1120.92,214.8,40.44,1533.68,233.685,152.1,279.44,1233.12,942.6,594.84,221.08,277.68,128.84,827.76,2054.04,1376.82,1004.6,81.81,78.12,1838.56,316.2,788.49,171.855,380.025,151.64,65.55,123.165,15.165,775.89,1364.4,189.16,217.52,911.79,823.2,113.4,66.16,52.775,138.87,168.6,200.25,673.335,244.995,237.08,1034.36,308.88,152.16,1647.76,392.975,244.44,393.52,842.0,1056.68,668.92,189.475,379.76,146.825,941.84,1355.075,1505.16,699.175,146.8,192.2,1952.64,387.5,916.83,201.135,451.88,141.075,111.85,165.945,52.845,859.23,1478.48,271.24,207.25,1040.13,937.28,110.82,180.24,142.9,267.21,171.675,292.08,801.675,287.775,219.475,1148.44,207.28,45.495,1506.16,225.225,175.56,251.92,1205.6,915.08,587.32,213.56,270.16,121.32,800.24,2026.52,1345.86,977.08,73.35,58.6,2037.42,309.0,757.53,169.035,144.12,40.44,114.345,767.43,1503.99,204.345,190.0,880.83,895.14,96.2,65.97,40.275,107.91,161.08,169.29,642.375,391.125,209.56,1006.84,289.6,132.88,1628.48,366.465,222.75,374.24,1327.92,1037.4,649.64,283.88,360.48,215.64,922.56,2148.84,1483.47,1099.4,143.46,172.92,1933.36,375.45,895.14,193.905,486.675,206.44,99.8,158.715,45.615,837.54,1459.2,251.96,312.32,1018.44,918.0,103.59,160.96,130.85,245.52,255.4,272.8,779.985,280.545,331.88,1129.16,210.56,40.44,1525.44,279.785,147.33,271.2,1224.88,934.36,590.6,216.84,273.44,124.6,819.52,2045.8,1367.55,996.36,77.04,69.88,1830.32,311.05,779.22,170.265,147.4,62.9,120.075,15.165,771.12,1356.16,184.92,209.28,902.52,814.96,64.95,61.92,50.275,129.6,164.36,169.76,664.065,241.905,228.84,1026.12,346.48,189.76,1685.36,444.675,286.74,431.12,865.5,1094.28,706.52,340.76,417.36,272.52,979.44,1378.575,1547.46,1156.28,207.45,229.8,1990.24,411.0,959.13,215.235,489.48,263.32,135.35,180.045,66.945,901.53,1516.08,308.84,1082.43,974.88,124.92,217.84,166.4,309.51,312.28,329.68,843.975,301.875,388.76,1186.04,193.68,40.44,1468.56,256.575,128.34,214.32,1168.0,877.48,573.72,199.96,256.56,107.72,762.64,1988.92,1303.56,939.48,58.05,45.0,1773.44,300.5,715.23,163.935,130.52,52.35,109.245,15.165,752.13,1299.28,168.04,152.4,838.53,758.08,72.7,45.04,25.275,74.61,147.48,126.99,600.075,220.575,171.96,969.24,370.92,214.2,1709.8,478.28,314.235,455.56,880.775,1118.72,730.96,228.25,441.8,185.6,1003.88,1393.85,1399.96,737.95,208.84,254.24,2014.68,426.275,877.0,224.4,513.92,179.85,150.625,189.21,76.11,929.025,1540.52,333.28,246.025,986.6,999.32,134.085,242.28,181.675,337.005,210.45,354.12,871.47,311.04,258.25,1210.48,239.895,45.495,1624.635,283.47,183.755,189.88,1143.56,853.04,593.28,219.52,310.635,127.28,738.2,1964.48,1276.065,915.04,80.055,72.63,1967.625,500.36,687.735,285.45,150.08,103.32,194.3,15.165,774.135,1434.195,211.05,127.96,811.035,825.345,62.425,72.675,43.125,96.615,167.04,117.495,699.82,352.35,151.52,944.8,281.72,125.0,1620.6,355.63,213.885,366.36,1320.04,1029.52,641.76,276.0,352.6,207.76,914.68,2140.96,1474.605,1091.52,134.595,165.04,1925.48,370.525,886.275,190.95,477.81,198.56,94.875,155.76,42.66,828.675,1451.32,244.08,304.44,1009.575,910.12,100.635,153.08,125.925,236.655,247.52,264.92,771.075,277.575,323.96,1121.28,194.44,37.72,1533.32,241.12,115.695,279.08,1232.76,942.24,562.48,188.72,265.32,120.48,827.4,2053.68,1376.415,1004.24,45.405,77.76,1838.2,315.975,788.085,159.72,379.62,119.28,45.325,123.03,9.93,739.485,1364.04,156.8,217.16,911.385,822.84,67.905,65.8,71.375,138.465,160.24,177.64,672.885,244.845,236.68,1034.0,231.57,55.26,1737.81,251.295,157.08,290.48,1244.16,953.64,569.88,200.12,311.31,131.88,838.8,2065.08,1389.24,1015.64,53.73,100.305,2080.8,516.96,800.91,270.825,126.68,79.92,212.175,14.205,747.81,1547.37,189.225,228.56,924.21,938.52,120.3,86.85,78.5,151.29,171.64,212.67,838.09,415.2,248.08,1045.4,270.32,113.6,1609.2,339.955,201.06,354.96,817.9,1018.12,630.36,165.375,341.2,122.725,903.28,1330.975,1299.36,675.075,108.24,153.64,1914.08,363.4,776.4,186.675,413.32,116.975,87.75,151.485,38.385,815.85,1439.92,232.68,183.15,886.0,898.72,96.36,141.68,118.8,223.83,147.575,253.52,758.25,273.3,195.35,1109.88,366.92,142.2,1637.8,379.28,233.235,383.56,835.775,1046.72,658.96,183.25,369.8,140.6,931.88,1348.85,1493.955,1108.72,153.945,182.24,1942.68,381.275,905.625,197.4,441.92,215.76,105.625,162.21,49.11,848.025,1468.52,261.28,201.025,1028.925,927.32,107.085,136.675,256.005,264.72,282.12,790.425,284.025,341.16,1138.48,161.24,0.0,1448.12,211.97,91.845,193.88,1147.56,857.04,541.28,167.52,224.12,75.28,742.2,1968.48,1280.565,919.04,21.555,12.56,1753.0,280.225,692.235,151.77,98.08,32.075,97.08,0.0,715.635,1438.695,135.6,131.96,815.535,829.845,59.925,12.6,18.125,42.615,115.04,103.995,577.035,212.895,151.48,948.8,238.08,81.36,1576.96,295.625,164.79,322.72,1276.4,985.88,598.12,232.36,308.96,164.12,871.04,2097.32,1425.51,1047.88,85.5,121.4,1881.84,343.25,837.18,174.585,428.715,154.92,67.6,139.395,26.295,779.58,1407.68,200.44,260.8,960.48,866.48,84.27,109.44,98.65,187.56,203.88,221.28,721.98,261.21,280.32,1077.64,238.08,81.36,1576.96,295.625,164.79,322.72,1276.4,985.88,598.12,232.36,308.96,164.12,871.04,2097.32,1425.51,1047.88,85.5,121.4,1881.84,343.25,837.18,174.585,428.715,154.92,67.6,139.395,26.295,779.58,1407.68,200.44,260.8,960.48,866.48,84.27,109.44,98.65,187.56,203.88,221.28,721.98,261.21,280.32,1077.64],\"y0\":\" \",\"yaxis\":\"y\",\"type\":\"box\"},{\"alignmentgroup\":\"True\",\"hovertemplate\":\"statut de Churn=%{x}\\u003cbr\\u003eValeur_Client=%{y}\\u003cextra\\u003e\\u003c\\u002fextra\\u003e\",\"legendgroup\":\"1\",\"marker\":{\"color\":\"#EF553B\"},\"name\":\"1\",\"notched\":false,\"offsetgroup\":\"1\",\"orientation\":\"v\",\"showlegend\":true,\"x\":[1,1,1,1,1,1,1,1,1,1,1,1,1,1,1,1,1,1,1,1,1,1,1,1,1,1,1,1,1,1,1,1,1,1,1,1,1,1,1,1,1,1,1,1,1,1,1,1,1,1,1,1,1,1,1,1,1,1,1,1,1,1,1,1,1,1,1,1,1,1,1,1,1,1,1,1,1,1,1,1,1,1,1,1,1,1,1,1,1,1,1,1,1,1,1,1,1,1,1,1,1,1,1,1,1,1,1,1,1,1,1,1,1,1,1,1,1,1,1,1,1,1,1,1,1,1,1,1,1,1,1,1,1,1,1,1,1,1,1,1,1,1,1,1,1,1,1,1,1,1,1,1,1,1,1,1,1,1,1,1,1,1,1,1,1,1,1,1,1,1,1,1,1,1,1,1,1,1,1,1,1,1,1,1,1,1,1,1,1,1,1,1,1,1,1,1,1,1,1,1,1,1,1,1,1,1,1,1,1,1,1,1,1,1,1,1,1,1,1,1,1,1,1,1,1,1,1,1,1,1,1,1,1,1,1,1,1,1,1,1,1,1,1,1,1,1,1,1,1,1,1,1,1,1,1,1,1,1,1,1,1,1,1,1,1,1,1,1,1,1,1,1,1,1,1,1,1,1,1,1,1,1,1,1,1,1,1,1,1,1,1,1,1,1,1,1,1,1,1,1,1,1,1,1,1,1,1,1,1,1,1,1,1,1,1,1,1,1,1,1,1,1,1,1,1,1,1,1,1,1,1,1,1,1,1,1,1,1,1,1,1,1,1,1,1,1,1,1,1,1,1,1,1,1,1,1,1,1,1,1,1,1,1,1,1,1,1,1,1,1,1,1,1,1,1,1,1,1,1,1,1,1,1,1,1,1,1,1,1,1,1,1,1,1,1,1,1,1,1,1,1,1,1,1,1,1,1,1,1,1,1,1,1,1,1,1,1,1,1,1,1,1,1,1,1,1,1,1,1,1,1,1,1,1,1,1,1,1,1,1,1,1,1,1,1,1,1,1,1,1,1,1,1,1,1,1,1,1,1,1,1,1,1,1,1,1,1,1,1,1,1,1,1,1,1,1,1,1,1,1,1,1,1,1,1,1,1,1,1,1,1,1,1,1,1],\"x0\":\" \",\"xaxis\":\"x\",\"y\":[40.005,0.0,117.09,383.22,157.24,228.48,5.4,38.375,73.375,60.28,25.335,126.6,179.76,251.0,27.92,52.45,82.8,0.0,91.755,357.885,151.56,205.96,0.0,24.3,59.3,57.76,84.2,48.69,147.36,431.91,200.52,271.76,48.68,65.425,103.56,0.0,68.4,334.53,117.96,185.2,0.0,0.0,57.0,79.65,174.88,228.04,187.05,76.2,82.625,131.08,0.0,37.44,303.57,124.245,157.68,0.0,0.0,0.0,55.665,57.96,175.05,208.76,280.0,56.92,70.575,987.255,111.8,0.0,59.13,325.26,113.72,176.96,0.0,0.0,52.76,121.95,212.48,265.64,336.88,113.8,106.125,328.76,168.68,0.0,17.64,261.27,96.84,120.08,0.0,0.0,35.88,149.445,236.92,290.08,225.825,138.24,121.4,193.12,0.0,39.645,260.775,130.95,95.64,0.0,12.85,62.37,49.095,166.185,432.315,200.88,272.12,49.04,65.65,978.39,103.88,0.0,67.995,334.125,113.6,184.84,0.0,11.1,52.6,0.0,80.82,346.95,140.625,196.24,0.0,18.225,67.5,36.0,136.32,189.48,162.95,37.64,58.525,858.28,92.48,68.445,164.92,218.08,289.32,66.24,76.4,121.08,0.0,12.645,238.275,103.95,99.64,0.0,0.0,31.4,0.0,117.09,383.22,157.24,228.48,5.4,38.375,929.295,60.24,0.0,117.09,383.22,157.24,228.48,5.4,38.375,60.24,0.0,71.595,337.725,131.4,188.04,0.0,13.1,883.8,53.82,0.0,96.93,363.06,139.32,210.56,0.0,27.175,50.36,0.0,46.26,312.39,119.565,165.52,0.0,10.56,50.985,13.5,120.285,386.415,180.09,231.32,12.0,40.15,63.12,0.0,27.405,289.035,118.71,144.76,0.0,0.0,50.13,36.0,151.245,187.6,258.84,35.76,57.35,90.64,0.0,18.945,258.075,110.25,117.24,0.0,0.0,0.0,0.0,18.0,129.555,395.685,189.36,239.56,16.48,45.3,80.28,0.0,22.635,279.765,113.94,136.52,0.0,0.0,45.36,76.455,193.545,253.35,296.44,73.36,80.85,288.32,128.24,0.0,2.34,224.775,94.95,79.64,0.0,0.0,0.0,112.5,196.48,487.17,249.64,320.88,100.0,96.125,152.68,0.0,25.65,246.78,116.955,75.2,0.0,0.0,48.375,9.0,120.69,386.82,180.495,231.68,8.0,40.375,71.37,0.0,22.5,288.63,113.805,144.4,0.0,0.0,45.18,0.0,35.325,301.455,122.13,155.8,0.0,0.0,53.505,4.5,95.88,373.995,149.04,220.28,4.0,33.25,52.04,4.5,140.04,177.64,248.88,25.8,51.125,80.64,0.0,0.0,219.78,89.955,59.2,0.0,0.0,21.33,0.0,71.595,337.725,131.4,188.04,0.0,13.1,53.775,0.0,71.595,337.725,131.4,188.04,0.0,13.1,53.775,45.495,144.52,197.68,168.075,45.84,63.65,100.72,62.96,167.04,220.2,182.15,68.36,77.725,123.24,45.495,122.0,175.16,246.4,40.44,49.575,98.2,94.185,187.8,240.96,195.125,89.12,90.7,144.0,45.495,101.24,158.4,225.64,40.44,25.275,97.44,111.24,215.32,268.48,212.325,116.64,107.9,171.52,45.495,82.935,349.065,150.88,198.12,40.44,25.275,15.165,89.92,103.455,196.04,249.2,200.275,97.36,95.85,152.24,45.495,93.0,370.755,154.16,135.875,40.44,25.275,93.2,167.445,252.92,306.08,235.825,154.24,131.4,230.75,209.12,45.495,56.12,306.765,137.28,160.52,40.44,25.275,76.32,173.28,277.36,330.52,251.1,178.68,146.675,233.56,45.495,85.14,306.27,156.84,136.08,40.44,38.125,95.88,94.59,188.16,241.32,195.35,89.48,90.925,144.32,0.0,100.88,154.04,140.8,10.2,36.375,65.04,0.0,126.315,392.445,165.44,236.68,17.6,43.5,72.44,72.68,176.76,229.92,188.225,78.08,83.8,132.92,101.28,205.36,258.52,206.1,106.68,101.675,170.28,161.52,0.0,23.68,283.77,104.84,140.08,0.0,5.625,43.84,45.495,144.52,197.68,168.075,45.84,63.65,100.68,45.495,144.52,197.68,168.075,45.84,63.65,100.68],\"y0\":\" \",\"yaxis\":\"y\",\"type\":\"box\"}],                        {\"template\":{\"data\":{\"histogram2dcontour\":[{\"type\":\"histogram2dcontour\",\"colorbar\":{\"outlinewidth\":0,\"ticks\":\"\"},\"colorscale\":[[0.0,\"#0d0887\"],[0.1111111111111111,\"#46039f\"],[0.2222222222222222,\"#7201a8\"],[0.3333333333333333,\"#9c179e\"],[0.4444444444444444,\"#bd3786\"],[0.5555555555555556,\"#d8576b\"],[0.6666666666666666,\"#ed7953\"],[0.7777777777777778,\"#fb9f3a\"],[0.8888888888888888,\"#fdca26\"],[1.0,\"#f0f921\"]]}],\"choropleth\":[{\"type\":\"choropleth\",\"colorbar\":{\"outlinewidth\":0,\"ticks\":\"\"}}],\"histogram2d\":[{\"type\":\"histogram2d\",\"colorbar\":{\"outlinewidth\":0,\"ticks\":\"\"},\"colorscale\":[[0.0,\"#0d0887\"],[0.1111111111111111,\"#46039f\"],[0.2222222222222222,\"#7201a8\"],[0.3333333333333333,\"#9c179e\"],[0.4444444444444444,\"#bd3786\"],[0.5555555555555556,\"#d8576b\"],[0.6666666666666666,\"#ed7953\"],[0.7777777777777778,\"#fb9f3a\"],[0.8888888888888888,\"#fdca26\"],[1.0,\"#f0f921\"]]}],\"heatmap\":[{\"type\":\"heatmap\",\"colorbar\":{\"outlinewidth\":0,\"ticks\":\"\"},\"colorscale\":[[0.0,\"#0d0887\"],[0.1111111111111111,\"#46039f\"],[0.2222222222222222,\"#7201a8\"],[0.3333333333333333,\"#9c179e\"],[0.4444444444444444,\"#bd3786\"],[0.5555555555555556,\"#d8576b\"],[0.6666666666666666,\"#ed7953\"],[0.7777777777777778,\"#fb9f3a\"],[0.8888888888888888,\"#fdca26\"],[1.0,\"#f0f921\"]]}],\"heatmapgl\":[{\"type\":\"heatmapgl\",\"colorbar\":{\"outlinewidth\":0,\"ticks\":\"\"},\"colorscale\":[[0.0,\"#0d0887\"],[0.1111111111111111,\"#46039f\"],[0.2222222222222222,\"#7201a8\"],[0.3333333333333333,\"#9c179e\"],[0.4444444444444444,\"#bd3786\"],[0.5555555555555556,\"#d8576b\"],[0.6666666666666666,\"#ed7953\"],[0.7777777777777778,\"#fb9f3a\"],[0.8888888888888888,\"#fdca26\"],[1.0,\"#f0f921\"]]}],\"contourcarpet\":[{\"type\":\"contourcarpet\",\"colorbar\":{\"outlinewidth\":0,\"ticks\":\"\"}}],\"contour\":[{\"type\":\"contour\",\"colorbar\":{\"outlinewidth\":0,\"ticks\":\"\"},\"colorscale\":[[0.0,\"#0d0887\"],[0.1111111111111111,\"#46039f\"],[0.2222222222222222,\"#7201a8\"],[0.3333333333333333,\"#9c179e\"],[0.4444444444444444,\"#bd3786\"],[0.5555555555555556,\"#d8576b\"],[0.6666666666666666,\"#ed7953\"],[0.7777777777777778,\"#fb9f3a\"],[0.8888888888888888,\"#fdca26\"],[1.0,\"#f0f921\"]]}],\"surface\":[{\"type\":\"surface\",\"colorbar\":{\"outlinewidth\":0,\"ticks\":\"\"},\"colorscale\":[[0.0,\"#0d0887\"],[0.1111111111111111,\"#46039f\"],[0.2222222222222222,\"#7201a8\"],[0.3333333333333333,\"#9c179e\"],[0.4444444444444444,\"#bd3786\"],[0.5555555555555556,\"#d8576b\"],[0.6666666666666666,\"#ed7953\"],[0.7777777777777778,\"#fb9f3a\"],[0.8888888888888888,\"#fdca26\"],[1.0,\"#f0f921\"]]}],\"mesh3d\":[{\"type\":\"mesh3d\",\"colorbar\":{\"outlinewidth\":0,\"ticks\":\"\"}}],\"scatter\":[{\"fillpattern\":{\"fillmode\":\"overlay\",\"size\":10,\"solidity\":0.2},\"type\":\"scatter\"}],\"parcoords\":[{\"type\":\"parcoords\",\"line\":{\"colorbar\":{\"outlinewidth\":0,\"ticks\":\"\"}}}],\"scatterpolargl\":[{\"type\":\"scatterpolargl\",\"marker\":{\"colorbar\":{\"outlinewidth\":0,\"ticks\":\"\"}}}],\"bar\":[{\"error_x\":{\"color\":\"#2a3f5f\"},\"error_y\":{\"color\":\"#2a3f5f\"},\"marker\":{\"line\":{\"color\":\"#E5ECF6\",\"width\":0.5},\"pattern\":{\"fillmode\":\"overlay\",\"size\":10,\"solidity\":0.2}},\"type\":\"bar\"}],\"scattergeo\":[{\"type\":\"scattergeo\",\"marker\":{\"colorbar\":{\"outlinewidth\":0,\"ticks\":\"\"}}}],\"scatterpolar\":[{\"type\":\"scatterpolar\",\"marker\":{\"colorbar\":{\"outlinewidth\":0,\"ticks\":\"\"}}}],\"histogram\":[{\"marker\":{\"pattern\":{\"fillmode\":\"overlay\",\"size\":10,\"solidity\":0.2}},\"type\":\"histogram\"}],\"scattergl\":[{\"type\":\"scattergl\",\"marker\":{\"colorbar\":{\"outlinewidth\":0,\"ticks\":\"\"}}}],\"scatter3d\":[{\"type\":\"scatter3d\",\"line\":{\"colorbar\":{\"outlinewidth\":0,\"ticks\":\"\"}},\"marker\":{\"colorbar\":{\"outlinewidth\":0,\"ticks\":\"\"}}}],\"scattermapbox\":[{\"type\":\"scattermapbox\",\"marker\":{\"colorbar\":{\"outlinewidth\":0,\"ticks\":\"\"}}}],\"scatterternary\":[{\"type\":\"scatterternary\",\"marker\":{\"colorbar\":{\"outlinewidth\":0,\"ticks\":\"\"}}}],\"scattercarpet\":[{\"type\":\"scattercarpet\",\"marker\":{\"colorbar\":{\"outlinewidth\":0,\"ticks\":\"\"}}}],\"carpet\":[{\"aaxis\":{\"endlinecolor\":\"#2a3f5f\",\"gridcolor\":\"white\",\"linecolor\":\"white\",\"minorgridcolor\":\"white\",\"startlinecolor\":\"#2a3f5f\"},\"baxis\":{\"endlinecolor\":\"#2a3f5f\",\"gridcolor\":\"white\",\"linecolor\":\"white\",\"minorgridcolor\":\"white\",\"startlinecolor\":\"#2a3f5f\"},\"type\":\"carpet\"}],\"table\":[{\"cells\":{\"fill\":{\"color\":\"#EBF0F8\"},\"line\":{\"color\":\"white\"}},\"header\":{\"fill\":{\"color\":\"#C8D4E3\"},\"line\":{\"color\":\"white\"}},\"type\":\"table\"}],\"barpolar\":[{\"marker\":{\"line\":{\"color\":\"#E5ECF6\",\"width\":0.5},\"pattern\":{\"fillmode\":\"overlay\",\"size\":10,\"solidity\":0.2}},\"type\":\"barpolar\"}],\"pie\":[{\"automargin\":true,\"type\":\"pie\"}]},\"layout\":{\"autotypenumbers\":\"strict\",\"colorway\":[\"#636efa\",\"#EF553B\",\"#00cc96\",\"#ab63fa\",\"#FFA15A\",\"#19d3f3\",\"#FF6692\",\"#B6E880\",\"#FF97FF\",\"#FECB52\"],\"font\":{\"color\":\"#2a3f5f\"},\"hovermode\":\"closest\",\"hoverlabel\":{\"align\":\"left\"},\"paper_bgcolor\":\"white\",\"plot_bgcolor\":\"#E5ECF6\",\"polar\":{\"bgcolor\":\"#E5ECF6\",\"angularaxis\":{\"gridcolor\":\"white\",\"linecolor\":\"white\",\"ticks\":\"\"},\"radialaxis\":{\"gridcolor\":\"white\",\"linecolor\":\"white\",\"ticks\":\"\"}},\"ternary\":{\"bgcolor\":\"#E5ECF6\",\"aaxis\":{\"gridcolor\":\"white\",\"linecolor\":\"white\",\"ticks\":\"\"},\"baxis\":{\"gridcolor\":\"white\",\"linecolor\":\"white\",\"ticks\":\"\"},\"caxis\":{\"gridcolor\":\"white\",\"linecolor\":\"white\",\"ticks\":\"\"}},\"coloraxis\":{\"colorbar\":{\"outlinewidth\":0,\"ticks\":\"\"}},\"colorscale\":{\"sequential\":[[0.0,\"#0d0887\"],[0.1111111111111111,\"#46039f\"],[0.2222222222222222,\"#7201a8\"],[0.3333333333333333,\"#9c179e\"],[0.4444444444444444,\"#bd3786\"],[0.5555555555555556,\"#d8576b\"],[0.6666666666666666,\"#ed7953\"],[0.7777777777777778,\"#fb9f3a\"],[0.8888888888888888,\"#fdca26\"],[1.0,\"#f0f921\"]],\"sequentialminus\":[[0.0,\"#0d0887\"],[0.1111111111111111,\"#46039f\"],[0.2222222222222222,\"#7201a8\"],[0.3333333333333333,\"#9c179e\"],[0.4444444444444444,\"#bd3786\"],[0.5555555555555556,\"#d8576b\"],[0.6666666666666666,\"#ed7953\"],[0.7777777777777778,\"#fb9f3a\"],[0.8888888888888888,\"#fdca26\"],[1.0,\"#f0f921\"]],\"diverging\":[[0,\"#8e0152\"],[0.1,\"#c51b7d\"],[0.2,\"#de77ae\"],[0.3,\"#f1b6da\"],[0.4,\"#fde0ef\"],[0.5,\"#f7f7f7\"],[0.6,\"#e6f5d0\"],[0.7,\"#b8e186\"],[0.8,\"#7fbc41\"],[0.9,\"#4d9221\"],[1,\"#276419\"]]},\"xaxis\":{\"gridcolor\":\"white\",\"linecolor\":\"white\",\"ticks\":\"\",\"title\":{\"standoff\":15},\"zerolinecolor\":\"white\",\"automargin\":true,\"zerolinewidth\":2},\"yaxis\":{\"gridcolor\":\"white\",\"linecolor\":\"white\",\"ticks\":\"\",\"title\":{\"standoff\":15},\"zerolinecolor\":\"white\",\"automargin\":true,\"zerolinewidth\":2},\"scene\":{\"xaxis\":{\"backgroundcolor\":\"#E5ECF6\",\"gridcolor\":\"white\",\"linecolor\":\"white\",\"showbackground\":true,\"ticks\":\"\",\"zerolinecolor\":\"white\",\"gridwidth\":2},\"yaxis\":{\"backgroundcolor\":\"#E5ECF6\",\"gridcolor\":\"white\",\"linecolor\":\"white\",\"showbackground\":true,\"ticks\":\"\",\"zerolinecolor\":\"white\",\"gridwidth\":2},\"zaxis\":{\"backgroundcolor\":\"#E5ECF6\",\"gridcolor\":\"white\",\"linecolor\":\"white\",\"showbackground\":true,\"ticks\":\"\",\"zerolinecolor\":\"white\",\"gridwidth\":2}},\"shapedefaults\":{\"line\":{\"color\":\"#2a3f5f\"}},\"annotationdefaults\":{\"arrowcolor\":\"#2a3f5f\",\"arrowhead\":0,\"arrowwidth\":1},\"geo\":{\"bgcolor\":\"white\",\"landcolor\":\"#E5ECF6\",\"subunitcolor\":\"white\",\"showland\":true,\"showlakes\":true,\"lakecolor\":\"white\"},\"title\":{\"x\":0.05},\"mapbox\":{\"style\":\"light\"}}},\"xaxis\":{\"anchor\":\"y\",\"domain\":[0.0,1.0],\"title\":{\"text\":\"statut de Churn\"},\"categoryorder\":\"array\",\"categoryarray\":[0,1]},\"yaxis\":{\"anchor\":\"x\",\"domain\":[0.0,1.0],\"title\":{\"text\":\"Valeur_Client\"}},\"legend\":{\"title\":{\"text\":\"statut de Churn\"},\"tracegroupgap\":0},\"title\":{\"text\":\"Distribution de la Valeur Client par statut de Churn\"},\"boxmode\":\"overlay\"},                        {\"responsive\": true}                    ).then(function(){\n",
              "                            \n",
              "var gd = document.getElementById('6e1fa181-2453-42d9-b95a-028deb9daa52');\n",
              "var x = new MutationObserver(function (mutations, observer) {{\n",
              "        var display = window.getComputedStyle(gd).display;\n",
              "        if (!display || display === 'none') {{\n",
              "            console.log([gd, 'removed!']);\n",
              "            Plotly.purge(gd);\n",
              "            observer.disconnect();\n",
              "        }}\n",
              "}});\n",
              "\n",
              "// Listen for the removal of the full notebook cells\n",
              "var notebookContainer = gd.closest('#notebook-container');\n",
              "if (notebookContainer) {{\n",
              "    x.observe(notebookContainer, {childList: true});\n",
              "}}\n",
              "\n",
              "// Listen for the clearing of the current output cell\n",
              "var outputEl = gd.closest('.output');\n",
              "if (outputEl) {{\n",
              "    x.observe(outputEl, {childList: true});\n",
              "}}\n",
              "\n",
              "                        })                };                            </script>        </div>\n",
              "</body>\n",
              "</html>"
            ]
          },
          "metadata": {}
        }
      ]
    },
    {
      "cell_type": "code",
      "source": [
        "# sur le plan visuel on constate que en bleu les clients qui n'ont pas churné ont une Valeur Client plus élevée\n",
        "# que les client en orange qui ont churné, on peut dire aussi qu'il y a une difference de la moyenne, de la mediane\n",
        "# sur les 2 fig"
      ],
      "metadata": {
        "id": "uOWQxJztpHPC"
      },
      "execution_count": 45,
      "outputs": []
    },
    {
      "cell_type": "markdown",
      "source": [
        "Etape 2 - Les Tests Statistiques\n",
        "  "
      ],
      "metadata": {
        "id": "t21Ef5DIp8ff"
      }
    },
    {
      "cell_type": "code",
      "source": [
        "# on fera des test parametriques (repose sur des lois: normalité et égalité ds variances) car nous avons 2 modalités et\n",
        "# independant (donc non apparié)"
      ],
      "metadata": {
        "id": "Q-exVB86qFGo"
      },
      "execution_count": null,
      "outputs": []
    },
    {
      "cell_type": "markdown",
      "source": [
        " - Test de STUDENT"
      ],
      "metadata": {
        "id": "cFut8x1WrIwU"
      }
    },
    {
      "cell_type": "code",
      "source": [
        "# Test PARAMETRIQUE de STUDENT (dépend de la verification de l'Egalité des variances et la NOrmalité de la distribution)\n",
        "import scipy.stats as stats\n",
        "\n",
        "# Construction des deux echantillons independants(Valeur des clients qui n'ont churné et la valeur des clients qui ont churné)\n",
        "# je divise ma base de données en 2 groupes a et b\n",
        "# a- ensenble des valeur des client qui ont churné\n",
        "groupe_churn = df[df[\"Churn\"] == 1][\"Valeur_Client\"]\n",
        "groupe_churn\n"
      ],
      "metadata": {
        "colab": {
          "base_uri": "https://localhost:8080/"
        },
        "id": "33SamKpvrQD5",
        "outputId": "ca2007b3-7fc0-4535-b3a7-f68ebb07af15"
      },
      "execution_count": 51,
      "outputs": [
        {
          "output_type": "execute_result",
          "data": {
            "text/plain": [
              "16       40.005\n",
              "18        0.000\n",
              "22      117.090\n",
              "24      383.220\n",
              "26      157.240\n",
              "         ...   \n",
              "3126    197.680\n",
              "3127    168.075\n",
              "3128     45.840\n",
              "3131     63.650\n",
              "3149    100.680\n",
              "Name: Valeur_Client, Length: 495, dtype: float64"
            ]
          },
          "metadata": {},
          "execution_count": 51
        }
      ]
    },
    {
      "cell_type": "code",
      "source": [
        "# b - ensenble des valeur des client qui n'ont pas churné\n",
        "groupe_client = df[df[\"Churn\"] == 0][\"Valeur_Client\"]\n",
        "groupe_client"
      ],
      "metadata": {
        "colab": {
          "base_uri": "https://localhost:8080/"
        },
        "id": "IsLd86tlt9Lv",
        "outputId": "fbea3a8a-d32a-4f8b-dda5-23fdcfefa9d0"
      },
      "execution_count": 52,
      "outputs": [
        {
          "output_type": "execute_result",
          "data": {
            "text/plain": [
              "0        197.640\n",
              "1         46.035\n",
              "2       1536.520\n",
              "3        240.020\n",
              "4        145.805\n",
              "          ...   \n",
              "3144     221.280\n",
              "3145     721.980\n",
              "3146     261.210\n",
              "3147     280.320\n",
              "3148    1077.640\n",
              "Name: Valeur_Client, Length: 2655, dtype: float64"
            ]
          },
          "metadata": {},
          "execution_count": 52
        }
      ]
    },
    {
      "cell_type": "code",
      "source": [
        "# effectuons le Test stati pour les 2 groupes INDEPENDANTS (Les churneurs et les fidèles)\n",
        "stats.ttest_ind(groupe_churn, groupe_client)"
      ],
      "metadata": {
        "colab": {
          "base_uri": "https://localhost:8080/"
        },
        "id": "DjDUIPVLusjw",
        "outputId": "197b9c90-7931-4bc1-a1d3-ef92d1834f0b"
      },
      "execution_count": 53,
      "outputs": [
        {
          "output_type": "execute_result",
          "data": {
            "text/plain": [
              "TtestResult(statistic=-16.946905380924687, pvalue=1.0207443643931265e-61, df=3148.0)"
            ]
          },
          "metadata": {},
          "execution_count": 53
        }
      ]
    },
    {
      "cell_type": "code",
      "source": [
        "# la pvaleur est tres faible, on ne peut pas accepter l'hypothese Null, cela induitque les 2 valeurs sont liées.\n",
        "# la probalité est trop faible pour que notre observation soit due au hasard\n",
        "# il y a un lien entre le fait de churner et la Valeur client\n",
        "# verifions les autres hypotheses Egalité des variance et"
      ],
      "metadata": {
        "id": "0i04-is6wM_z"
      },
      "execution_count": 54,
      "outputs": []
    },
    {
      "cell_type": "markdown",
      "source": [
        "Etape 3- Test de L'égalite des variances (Test de LEVENE)"
      ],
      "metadata": {
        "id": "gSYoNpSuxkYa"
      }
    },
    {
      "cell_type": "markdown",
      "source": [],
      "metadata": {
        "id": "vEwhiRhuwMVk"
      }
    },
    {
      "cell_type": "code",
      "source": [
        "# Verifions l'hypothese de l'egalité des variances\n",
        "# Effectuer le test de Levene pour verifier l'egalité des variances\n",
        "stats.levene(groupe_churn, groupe_client)"
      ],
      "metadata": {
        "colab": {
          "base_uri": "https://localhost:8080/"
        },
        "id": "ZdZ9-gSwx7Rz",
        "outputId": "34fb1327-cec6-47ae-c08f-1829eeba0770"
      },
      "execution_count": 55,
      "outputs": [
        {
          "output_type": "execute_result",
          "data": {
            "text/plain": [
              "LeveneResult(statistic=239.04186256275227, pvalue=4.9642216033233806e-52)"
            ]
          },
          "metadata": {},
          "execution_count": 55
        }
      ]
    },
    {
      "cell_type": "code",
      "source": [
        "# pvaleurtrop faible pour accepter l'hypothese Nulld'egalité des variances"
      ],
      "metadata": {
        "id": "3OTtK_DKzkg0"
      },
      "execution_count": null,
      "outputs": []
    },
    {
      "cell_type": "markdown",
      "source": [
        "Etape 4 - Test de la Normalité de la distribution (Test de Shapiro Wilk)"
      ],
      "metadata": {
        "id": "o9ROkN3lzwiR"
      }
    },
    {
      "cell_type": "code",
      "source": [
        "# Test des Shapiro (ce test concerne uniquement le groupe_client, les fidèles clients)\n",
        "stats.shapiro(groupe_client)"
      ],
      "metadata": {
        "colab": {
          "base_uri": "https://localhost:8080/"
        },
        "id": "pdhAO6xE0EWn",
        "outputId": "9024eb3b-0e28-4ed1-e12e-3f6c8c69879d"
      },
      "execution_count": 57,
      "outputs": [
        {
          "output_type": "execute_result",
          "data": {
            "text/plain": [
              "ShapiroResult(statistic=0.8320190906524658, pvalue=0.0)"
            ]
          },
          "metadata": {},
          "execution_count": 57
        }
      ]
    },
    {
      "cell_type": "code",
      "source": [
        "# la pvaleur est ici aussi faible on conclu que la normalité de la distribution (si les données suivent une loi normale)\n",
        "# l'hypothese n'est pas acceptée : il y a pas de normalité"
      ],
      "metadata": {
        "id": "qX3WhiPu0ikD"
      },
      "execution_count": 58,
      "outputs": []
    },
    {
      "cell_type": "code",
      "source": [
        "# Les 2 hypothèses n'etant pas vérifiées on ne peut pas faire le Test de STUDENT il nous faut un Test Nomparametrique\n",
        "# celui de Mann-Whitney U"
      ],
      "metadata": {
        "id": "Gxt8dFwI1Sso"
      },
      "execution_count": null,
      "outputs": []
    },
    {
      "cell_type": "markdown",
      "source": [
        "Etape 5 - Test Non Parametrique de Mann-Whirney U"
      ],
      "metadata": {
        "id": "X4N2opLM17Ku"
      }
    },
    {
      "cell_type": "code",
      "source": [
        "# Test non parametrique de Mann-Whitney U (sur les 2 groupes)\n",
        "stats.mannwhitneyu(groupe_churn, groupe_client)"
      ],
      "metadata": {
        "colab": {
          "base_uri": "https://localhost:8080/"
        },
        "id": "m3CVB08R2ECi",
        "outputId": "5e0eb560-b110-4229-93cf-342fa3e4b094"
      },
      "execution_count": 59,
      "outputs": [
        {
          "output_type": "execute_result",
          "data": {
            "text/plain": [
              "MannwhitneyuResult(statistic=280791.0, pvalue=2.992856770049604e-91)"
            ]
          },
          "metadata": {},
          "execution_count": 59
        }
      ]
    },
    {
      "cell_type": "code",
      "source": [
        "# la pvaleur est tres faible, hypothese Null non acceptée, implique que les moyennes dans les 2 groupes sont pas les mêmes\n",
        "# car le Test de student érifie l#EGALITÈ des Moyennes\n",
        "# est ce que la moyennes des client qui vont churner est la même que pour ceux qui sont fidèles\n",
        "# Conclusion les moyennes sont differentes dans les 2 groupes independants"
      ],
      "metadata": {
        "id": "gCqOkd5n2xKd"
      },
      "execution_count": 61,
      "outputs": []
    }
  ]
}